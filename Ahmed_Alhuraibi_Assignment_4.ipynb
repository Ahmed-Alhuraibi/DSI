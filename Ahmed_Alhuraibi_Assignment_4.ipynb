{
 "cells": [
  {
   "cell_type": "code",
   "execution_count": null,
   "metadata": {},
   "outputs": [],
   "source": []
  },
  {
   "cell_type": "code",
   "execution_count": null,
   "metadata": {},
   "outputs": [],
   "source": [
    "# importing required Packages\n",
    "import requests\n",
    "import pandas as pd\n",
    "from io import StringIO\n",
    "\n",
    "# Retriving the data from the source\n",
    "# Source : https://open.toronto.ca/dataset/neighbourhood-crime-rates/\n",
    "# File Format : CSV\n",
    "\n",
    "\n",
    "# Retrieve metadata for the \"neighbourhood-crime-rates\" dataset\n",
    "base_url = \"https://ckan0.cf.opendata.inter.prod-toronto.ca\"\n",
    "url = base_url + \"/api/3/action/package_show\"\n",
    "params = {\"id\": \"neighbourhood-crime-rates\"}\n",
    "package = requests.get(url, params=params).json()\n",
    "\n",
    "# Find the resource containing the CSV data\n",
    "resource_id = None\n",
    "for resource in package[\"result\"][\"resources\"]:\n",
    "    if resource[\"datastore_active\"]:\n",
    "        resource_id = resource[\"id\"]\n",
    "        break\n",
    "\n",
    "# If a datastore active resource containing CSV data is found, retrieve and display it\n",
    "if resource_id:\n",
    "    url = base_url + \"/datastore/dump/\" + resource_id\n",
    "    csv_data = requests.get(url).text\n",
    "    df = pd.read_csv(StringIO(csv_data))\n",
    "    print(df)\n",
    "else:\n",
    "    print(\"No datastore active resource containing CSV data found.\")\n"
   ]
  },
  {
   "cell_type": "code",
   "execution_count": 125,
   "metadata": {},
   "outputs": [
    {
     "data": {
      "text/html": [
       "<div>\n",
       "<style scoped>\n",
       "    .dataframe tbody tr th:only-of-type {\n",
       "        vertical-align: middle;\n",
       "    }\n",
       "\n",
       "    .dataframe tbody tr th {\n",
       "        vertical-align: top;\n",
       "    }\n",
       "\n",
       "    .dataframe thead th {\n",
       "        text-align: right;\n",
       "    }\n",
       "</style>\n",
       "<table border=\"1\" class=\"dataframe\">\n",
       "  <thead>\n",
       "    <tr style=\"text-align: right;\">\n",
       "      <th></th>\n",
       "      <th>_id</th>\n",
       "      <th>HOOD_ID</th>\n",
       "      <th>POPULATION_2023</th>\n",
       "      <th>ASSAULT_2014</th>\n",
       "      <th>ASSAULT_2015</th>\n",
       "      <th>ASSAULT_2016</th>\n",
       "      <th>ASSAULT_2017</th>\n",
       "      <th>ASSAULT_2018</th>\n",
       "      <th>ASSAULT_2019</th>\n",
       "      <th>ASSAULT_2020</th>\n",
       "      <th>...</th>\n",
       "      <th>THEFTOVER_RATE_2014</th>\n",
       "      <th>THEFTOVER_RATE_2015</th>\n",
       "      <th>THEFTOVER_RATE_2016</th>\n",
       "      <th>THEFTOVER_RATE_2017</th>\n",
       "      <th>THEFTOVER_RATE_2018</th>\n",
       "      <th>THEFTOVER_RATE_2019</th>\n",
       "      <th>THEFTOVER_RATE_2020</th>\n",
       "      <th>THEFTOVER_RATE_2021</th>\n",
       "      <th>THEFTOVER_RATE_2022</th>\n",
       "      <th>THEFTOVER_RATE_2023</th>\n",
       "    </tr>\n",
       "  </thead>\n",
       "  <tbody>\n",
       "    <tr>\n",
       "      <th>count</th>\n",
       "      <td>158.000000</td>\n",
       "      <td>158.000000</td>\n",
       "      <td>158.000000</td>\n",
       "      <td>158.000000</td>\n",
       "      <td>158.000000</td>\n",
       "      <td>158.000000</td>\n",
       "      <td>158.000000</td>\n",
       "      <td>158.000000</td>\n",
       "      <td>158.000000</td>\n",
       "      <td>158.000000</td>\n",
       "      <td>...</td>\n",
       "      <td>153.000000</td>\n",
       "      <td>158.000000</td>\n",
       "      <td>149.000000</td>\n",
       "      <td>153.000000</td>\n",
       "      <td>154.000000</td>\n",
       "      <td>157.000000</td>\n",
       "      <td>157.000000</td>\n",
       "      <td>150.000000</td>\n",
       "      <td>155.000000</td>\n",
       "      <td>156.000000</td>\n",
       "    </tr>\n",
       "    <tr>\n",
       "      <th>mean</th>\n",
       "      <td>79.500000</td>\n",
       "      <td>88.107595</td>\n",
       "      <td>19065.240506</td>\n",
       "      <td>104.620253</td>\n",
       "      <td>113.132911</td>\n",
       "      <td>117.886076</td>\n",
       "      <td>119.797468</td>\n",
       "      <td>123.962025</td>\n",
       "      <td>130.392405</td>\n",
       "      <td>113.759494</td>\n",
       "      <td>...</td>\n",
       "      <td>37.574961</td>\n",
       "      <td>37.096303</td>\n",
       "      <td>38.917355</td>\n",
       "      <td>41.456366</td>\n",
       "      <td>42.940212</td>\n",
       "      <td>46.457975</td>\n",
       "      <td>41.020082</td>\n",
       "      <td>36.016806</td>\n",
       "      <td>47.848884</td>\n",
       "      <td>55.535621</td>\n",
       "    </tr>\n",
       "    <tr>\n",
       "      <th>std</th>\n",
       "      <td>45.754781</td>\n",
       "      <td>51.236381</td>\n",
       "      <td>6732.482846</td>\n",
       "      <td>79.282178</td>\n",
       "      <td>89.831201</td>\n",
       "      <td>93.919194</td>\n",
       "      <td>98.847161</td>\n",
       "      <td>105.677848</td>\n",
       "      <td>109.633137</td>\n",
       "      <td>96.877520</td>\n",
       "      <td>...</td>\n",
       "      <td>40.218745</td>\n",
       "      <td>37.607360</td>\n",
       "      <td>37.013193</td>\n",
       "      <td>37.298953</td>\n",
       "      <td>45.396665</td>\n",
       "      <td>49.299763</td>\n",
       "      <td>33.961533</td>\n",
       "      <td>34.244765</td>\n",
       "      <td>44.176897</td>\n",
       "      <td>52.355005</td>\n",
       "    </tr>\n",
       "    <tr>\n",
       "      <th>min</th>\n",
       "      <td>1.000000</td>\n",
       "      <td>1.000000</td>\n",
       "      <td>7057.000000</td>\n",
       "      <td>15.000000</td>\n",
       "      <td>12.000000</td>\n",
       "      <td>12.000000</td>\n",
       "      <td>18.000000</td>\n",
       "      <td>13.000000</td>\n",
       "      <td>14.000000</td>\n",
       "      <td>11.000000</td>\n",
       "      <td>...</td>\n",
       "      <td>3.301638</td>\n",
       "      <td>3.717749</td>\n",
       "      <td>5.468366</td>\n",
       "      <td>2.921755</td>\n",
       "      <td>4.336325</td>\n",
       "      <td>3.622007</td>\n",
       "      <td>3.851487</td>\n",
       "      <td>4.195863</td>\n",
       "      <td>4.311274</td>\n",
       "      <td>3.788596</td>\n",
       "    </tr>\n",
       "    <tr>\n",
       "      <th>25%</th>\n",
       "      <td>40.250000</td>\n",
       "      <td>43.250000</td>\n",
       "      <td>13766.500000</td>\n",
       "      <td>53.000000</td>\n",
       "      <td>57.250000</td>\n",
       "      <td>57.750000</td>\n",
       "      <td>58.500000</td>\n",
       "      <td>58.250000</td>\n",
       "      <td>67.000000</td>\n",
       "      <td>56.500000</td>\n",
       "      <td>...</td>\n",
       "      <td>17.686594</td>\n",
       "      <td>17.477950</td>\n",
       "      <td>17.579842</td>\n",
       "      <td>22.194603</td>\n",
       "      <td>18.189232</td>\n",
       "      <td>20.484457</td>\n",
       "      <td>20.163322</td>\n",
       "      <td>15.768721</td>\n",
       "      <td>24.636813</td>\n",
       "      <td>24.471077</td>\n",
       "    </tr>\n",
       "    <tr>\n",
       "      <th>50%</th>\n",
       "      <td>79.500000</td>\n",
       "      <td>88.500000</td>\n",
       "      <td>18080.000000</td>\n",
       "      <td>82.500000</td>\n",
       "      <td>90.000000</td>\n",
       "      <td>91.500000</td>\n",
       "      <td>93.500000</td>\n",
       "      <td>90.500000</td>\n",
       "      <td>95.500000</td>\n",
       "      <td>85.500000</td>\n",
       "      <td>...</td>\n",
       "      <td>27.307482</td>\n",
       "      <td>26.762511</td>\n",
       "      <td>28.467724</td>\n",
       "      <td>31.093145</td>\n",
       "      <td>30.347547</td>\n",
       "      <td>35.345680</td>\n",
       "      <td>33.514874</td>\n",
       "      <td>26.761510</td>\n",
       "      <td>39.508774</td>\n",
       "      <td>43.906940</td>\n",
       "    </tr>\n",
       "    <tr>\n",
       "      <th>75%</th>\n",
       "      <td>118.750000</td>\n",
       "      <td>133.750000</td>\n",
       "      <td>23477.000000</td>\n",
       "      <td>131.000000</td>\n",
       "      <td>138.750000</td>\n",
       "      <td>138.500000</td>\n",
       "      <td>146.000000</td>\n",
       "      <td>139.000000</td>\n",
       "      <td>164.000000</td>\n",
       "      <td>134.750000</td>\n",
       "      <td>...</td>\n",
       "      <td>40.863583</td>\n",
       "      <td>41.594741</td>\n",
       "      <td>45.787544</td>\n",
       "      <td>48.442905</td>\n",
       "      <td>46.284169</td>\n",
       "      <td>54.298027</td>\n",
       "      <td>49.767750</td>\n",
       "      <td>39.453623</td>\n",
       "      <td>53.981806</td>\n",
       "      <td>63.112881</td>\n",
       "    </tr>\n",
       "    <tr>\n",
       "      <th>max</th>\n",
       "      <td>158.000000</td>\n",
       "      <td>174.000000</td>\n",
       "      <td>36388.000000</td>\n",
       "      <td>449.000000</td>\n",
       "      <td>524.000000</td>\n",
       "      <td>559.000000</td>\n",
       "      <td>603.000000</td>\n",
       "      <td>576.000000</td>\n",
       "      <td>660.000000</td>\n",
       "      <td>756.000000</td>\n",
       "      <td>...</td>\n",
       "      <td>358.527130</td>\n",
       "      <td>274.197968</td>\n",
       "      <td>233.301651</td>\n",
       "      <td>289.951111</td>\n",
       "      <td>349.539246</td>\n",
       "      <td>481.909271</td>\n",
       "      <td>259.798096</td>\n",
       "      <td>220.030350</td>\n",
       "      <td>358.826416</td>\n",
       "      <td>346.208679</td>\n",
       "    </tr>\n",
       "  </tbody>\n",
       "</table>\n",
       "<p>8 rows × 183 columns</p>\n",
       "</div>"
      ],
      "text/plain": [
       "              _id     HOOD_ID  POPULATION_2023  ASSAULT_2014  ASSAULT_2015  \\\n",
       "count  158.000000  158.000000       158.000000    158.000000    158.000000   \n",
       "mean    79.500000   88.107595     19065.240506    104.620253    113.132911   \n",
       "std     45.754781   51.236381      6732.482846     79.282178     89.831201   \n",
       "min      1.000000    1.000000      7057.000000     15.000000     12.000000   \n",
       "25%     40.250000   43.250000     13766.500000     53.000000     57.250000   \n",
       "50%     79.500000   88.500000     18080.000000     82.500000     90.000000   \n",
       "75%    118.750000  133.750000     23477.000000    131.000000    138.750000   \n",
       "max    158.000000  174.000000     36388.000000    449.000000    524.000000   \n",
       "\n",
       "       ASSAULT_2016  ASSAULT_2017  ASSAULT_2018  ASSAULT_2019  ASSAULT_2020  \\\n",
       "count    158.000000    158.000000    158.000000    158.000000    158.000000   \n",
       "mean     117.886076    119.797468    123.962025    130.392405    113.759494   \n",
       "std       93.919194     98.847161    105.677848    109.633137     96.877520   \n",
       "min       12.000000     18.000000     13.000000     14.000000     11.000000   \n",
       "25%       57.750000     58.500000     58.250000     67.000000     56.500000   \n",
       "50%       91.500000     93.500000     90.500000     95.500000     85.500000   \n",
       "75%      138.500000    146.000000    139.000000    164.000000    134.750000   \n",
       "max      559.000000    603.000000    576.000000    660.000000    756.000000   \n",
       "\n",
       "       ...  THEFTOVER_RATE_2014  THEFTOVER_RATE_2015  THEFTOVER_RATE_2016  \\\n",
       "count  ...           153.000000           158.000000           149.000000   \n",
       "mean   ...            37.574961            37.096303            38.917355   \n",
       "std    ...            40.218745            37.607360            37.013193   \n",
       "min    ...             3.301638             3.717749             5.468366   \n",
       "25%    ...            17.686594            17.477950            17.579842   \n",
       "50%    ...            27.307482            26.762511            28.467724   \n",
       "75%    ...            40.863583            41.594741            45.787544   \n",
       "max    ...           358.527130           274.197968           233.301651   \n",
       "\n",
       "       THEFTOVER_RATE_2017  THEFTOVER_RATE_2018  THEFTOVER_RATE_2019  \\\n",
       "count           153.000000           154.000000           157.000000   \n",
       "mean             41.456366            42.940212            46.457975   \n",
       "std              37.298953            45.396665            49.299763   \n",
       "min               2.921755             4.336325             3.622007   \n",
       "25%              22.194603            18.189232            20.484457   \n",
       "50%              31.093145            30.347547            35.345680   \n",
       "75%              48.442905            46.284169            54.298027   \n",
       "max             289.951111           349.539246           481.909271   \n",
       "\n",
       "       THEFTOVER_RATE_2020  THEFTOVER_RATE_2021  THEFTOVER_RATE_2022  \\\n",
       "count           157.000000           150.000000           155.000000   \n",
       "mean             41.020082            36.016806            47.848884   \n",
       "std              33.961533            34.244765            44.176897   \n",
       "min               3.851487             4.195863             4.311274   \n",
       "25%              20.163322            15.768721            24.636813   \n",
       "50%              33.514874            26.761510            39.508774   \n",
       "75%              49.767750            39.453623            53.981806   \n",
       "max             259.798096           220.030350           358.826416   \n",
       "\n",
       "       THEFTOVER_RATE_2023  \n",
       "count           156.000000  \n",
       "mean             55.535621  \n",
       "std              52.355005  \n",
       "min               3.788596  \n",
       "25%              24.471077  \n",
       "50%              43.906940  \n",
       "75%              63.112881  \n",
       "max             346.208679  \n",
       "\n",
       "[8 rows x 183 columns]"
      ]
     },
     "execution_count": 125,
     "metadata": {},
     "output_type": "execute_result"
    }
   ],
   "source": [
    "df.describe()"
   ]
  },
  {
   "cell_type": "code",
   "execution_count": 237,
   "metadata": {},
   "outputs": [],
   "source": [
    "# change the notebook setting to show all rows\n",
    "pd.set_option('display.max_rows', None)"
   ]
  },
  {
   "cell_type": "code",
   "execution_count": 238,
   "metadata": {},
   "outputs": [
    {
     "data": {
      "text/plain": [
       "['_id',\n",
       " 'AREA_NAME',\n",
       " 'HOOD_ID',\n",
       " 'POPULATION_2023',\n",
       " 'ASSAULT_2014',\n",
       " 'ASSAULT_2015',\n",
       " 'ASSAULT_2016',\n",
       " 'ASSAULT_2017',\n",
       " 'ASSAULT_2018',\n",
       " 'ASSAULT_2019',\n",
       " 'ASSAULT_2020',\n",
       " 'ASSAULT_2021',\n",
       " 'ASSAULT_2022',\n",
       " 'ASSAULT_2023',\n",
       " 'ASSAULT_RATE_2014',\n",
       " 'ASSAULT_RATE_2015',\n",
       " 'ASSAULT_RATE_2016',\n",
       " 'ASSAULT_RATE_2017',\n",
       " 'ASSAULT_RATE_2018',\n",
       " 'ASSAULT_RATE_2019',\n",
       " 'ASSAULT_RATE_2020',\n",
       " 'ASSAULT_RATE_2021',\n",
       " 'ASSAULT_RATE_2022',\n",
       " 'ASSAULT_RATE_2023',\n",
       " 'AUTOTHEFT_2014',\n",
       " 'AUTOTHEFT_2015',\n",
       " 'AUTOTHEFT_2016',\n",
       " 'AUTOTHEFT_2017',\n",
       " 'AUTOTHEFT_2018',\n",
       " 'AUTOTHEFT_2019',\n",
       " 'AUTOTHEFT_2020',\n",
       " 'AUTOTHEFT_2021',\n",
       " 'AUTOTHEFT_2022',\n",
       " 'AUTOTHEFT_2023',\n",
       " 'AUTOTHEFT_RATE_2014',\n",
       " 'AUTOTHEFT_RATE_2015',\n",
       " 'AUTOTHEFT_RATE_2016',\n",
       " 'AUTOTHEFT_RATE_2017',\n",
       " 'AUTOTHEFT_RATE_2018',\n",
       " 'AUTOTHEFT_RATE_2019',\n",
       " 'AUTOTHEFT_RATE_2020',\n",
       " 'AUTOTHEFT_RATE_2021',\n",
       " 'AUTOTHEFT_RATE_2022',\n",
       " 'AUTOTHEFT_RATE_2023',\n",
       " 'BIKETHEFT_2014',\n",
       " 'BIKETHEFT_2015',\n",
       " 'BIKETHEFT_2016',\n",
       " 'BIKETHEFT_2017',\n",
       " 'BIKETHEFT_2018',\n",
       " 'BIKETHEFT_2019',\n",
       " 'BIKETHEFT_2020',\n",
       " 'BIKETHEFT_2021',\n",
       " 'BIKETHEFT_2022',\n",
       " 'BIKETHEFT_2023',\n",
       " 'BIKETHEFT_RATE_2014',\n",
       " 'BIKETHEFT_RATE_2015',\n",
       " 'BIKETHEFT_RATE_2016',\n",
       " 'BIKETHEFT_RATE_2017',\n",
       " 'BIKETHEFT_RATE_2018',\n",
       " 'BIKETHEFT_RATE_2019',\n",
       " 'BIKETHEFT_RATE_2020',\n",
       " 'BIKETHEFT_RATE_2021',\n",
       " 'BIKETHEFT_RATE_2022',\n",
       " 'BIKETHEFT_RATE_2023',\n",
       " 'BREAKENTER_2014',\n",
       " 'BREAKENTER_2015',\n",
       " 'BREAKENTER_2016',\n",
       " 'BREAKENTER_2017',\n",
       " 'BREAKENTER_2018',\n",
       " 'BREAKENTER_2019',\n",
       " 'BREAKENTER_2020',\n",
       " 'BREAKENTER_2021',\n",
       " 'BREAKENTER_2022',\n",
       " 'BREAKENTER_2023',\n",
       " 'BREAKENTER_RATE_2014',\n",
       " 'BREAKENTER_RATE_2015',\n",
       " 'BREAKENTER_RATE_2016',\n",
       " 'BREAKENTER_RATE_2017',\n",
       " 'BREAKENTER_RATE_2018',\n",
       " 'BREAKENTER_RATE_2019',\n",
       " 'BREAKENTER_RATE_2020',\n",
       " 'BREAKENTER_RATE_2021',\n",
       " 'BREAKENTER_RATE_2022',\n",
       " 'BREAKENTER_RATE_2023',\n",
       " 'HOMICIDE_2014',\n",
       " 'HOMICIDE_2015',\n",
       " 'HOMICIDE_2016',\n",
       " 'HOMICIDE_2017',\n",
       " 'HOMICIDE_2018',\n",
       " 'HOMICIDE_2019',\n",
       " 'HOMICIDE_2020',\n",
       " 'HOMICIDE_2021',\n",
       " 'HOMICIDE_2022',\n",
       " 'HOMICIDE_2023',\n",
       " 'HOMICIDE_RATE_2014',\n",
       " 'HOMICIDE_RATE_2015',\n",
       " 'HOMICIDE_RATE_2016',\n",
       " 'HOMICIDE_RATE_2017',\n",
       " 'HOMICIDE_RATE_2018',\n",
       " 'HOMICIDE_RATE_2019',\n",
       " 'HOMICIDE_RATE_2020',\n",
       " 'HOMICIDE_RATE_2021',\n",
       " 'HOMICIDE_RATE_2022',\n",
       " 'HOMICIDE_RATE_2023',\n",
       " 'ROBBERY_2014',\n",
       " 'ROBBERY_2015',\n",
       " 'ROBBERY_2016',\n",
       " 'ROBBERY_2017',\n",
       " 'ROBBERY_2018',\n",
       " 'ROBBERY_2019',\n",
       " 'ROBBERY_2020',\n",
       " 'ROBBERY_2021',\n",
       " 'ROBBERY_2022',\n",
       " 'ROBBERY_2023',\n",
       " 'ROBBERY_RATE_2014',\n",
       " 'ROBBERY_RATE_2015',\n",
       " 'ROBBERY_RATE_2016',\n",
       " 'ROBBERY_RATE_2017',\n",
       " 'ROBBERY_RATE_2018',\n",
       " 'ROBBERY_RATE_2019',\n",
       " 'ROBBERY_RATE_2020',\n",
       " 'ROBBERY_RATE_2021',\n",
       " 'ROBBERY_RATE_2022',\n",
       " 'ROBBERY_RATE_2023',\n",
       " 'SHOOTING_2014',\n",
       " 'SHOOTING_2015',\n",
       " 'SHOOTING_2016',\n",
       " 'SHOOTING_2017',\n",
       " 'SHOOTING_2018',\n",
       " 'SHOOTING_2019',\n",
       " 'SHOOTING_2020',\n",
       " 'SHOOTING_2021',\n",
       " 'SHOOTING_2022',\n",
       " 'SHOOTING_2023',\n",
       " 'SHOOTING_RATE_2014',\n",
       " 'SHOOTING_RATE_2015',\n",
       " 'SHOOTING_RATE_2016',\n",
       " 'SHOOTING_RATE_2017',\n",
       " 'SHOOTING_RATE_2018',\n",
       " 'SHOOTING_RATE_2019',\n",
       " 'SHOOTING_RATE_2020',\n",
       " 'SHOOTING_RATE_2021',\n",
       " 'SHOOTING_RATE_2022',\n",
       " 'SHOOTING_RATE_2023',\n",
       " 'THEFTFROMMV_2014',\n",
       " 'THEFTFROMMV_2015',\n",
       " 'THEFTFROMMV_2016',\n",
       " 'THEFTFROMMV_2017',\n",
       " 'THEFTFROMMV_2018',\n",
       " 'THEFTFROMMV_2019',\n",
       " 'THEFTFROMMV_2020',\n",
       " 'THEFTFROMMV_2021',\n",
       " 'THEFTFROMMV_2022',\n",
       " 'THEFTFROMMV_2023',\n",
       " 'THEFTFROMMV_RATE_2014',\n",
       " 'THEFTFROMMV_RATE_2015',\n",
       " 'THEFTFROMMV_RATE_2016',\n",
       " 'THEFTFROMMV_RATE_2017',\n",
       " 'THEFTFROMMV_RATE_2018',\n",
       " 'THEFTFROMMV_RATE_2019',\n",
       " 'THEFTFROMMV_RATE_2020',\n",
       " 'THEFTFROMMV_RATE_2021',\n",
       " 'THEFTFROMMV_RATE_2022',\n",
       " 'THEFTFROMMV_RATE_2023',\n",
       " 'THEFTOVER_2014',\n",
       " 'THEFTOVER_2015',\n",
       " 'THEFTOVER_2016',\n",
       " 'THEFTOVER_2017',\n",
       " 'THEFTOVER_2018',\n",
       " 'THEFTOVER_2019',\n",
       " 'THEFTOVER_2020',\n",
       " 'THEFTOVER_2021',\n",
       " 'THEFTOVER_2022',\n",
       " 'THEFTOVER_2023',\n",
       " 'THEFTOVER_RATE_2014',\n",
       " 'THEFTOVER_RATE_2015',\n",
       " 'THEFTOVER_RATE_2016',\n",
       " 'THEFTOVER_RATE_2017',\n",
       " 'THEFTOVER_RATE_2018',\n",
       " 'THEFTOVER_RATE_2019',\n",
       " 'THEFTOVER_RATE_2020',\n",
       " 'THEFTOVER_RATE_2021',\n",
       " 'THEFTOVER_RATE_2022',\n",
       " 'THEFTOVER_RATE_2023',\n",
       " 'geometry']"
      ]
     },
     "execution_count": 238,
     "metadata": {},
     "output_type": "execute_result"
    }
   ],
   "source": [
    "# listing all data frame columns\n",
    "columns_list = df.columns.tolist()\n",
    "columns_list"
   ]
  },
  {
   "cell_type": "code",
   "execution_count": 127,
   "metadata": {},
   "outputs": [],
   "source": [
    "# I've choosen Auto crimes from the data source\n",
    "# Select the related columns and assign it to a varaible selected_columns\n",
    "selected_columns = ['_id', 'AREA_NAME', 'HOOD_ID', 'POPULATION_2023', \n",
    "                    'AUTOTHEFT_2014', 'AUTOTHEFT_2015', 'AUTOTHEFT_2016', 'AUTOTHEFT_2017', \n",
    "                    'AUTOTHEFT_2018', 'AUTOTHEFT_2019', 'AUTOTHEFT_2020', 'AUTOTHEFT_2021', \n",
    "                    'AUTOTHEFT_2022', 'AUTOTHEFT_2023', 'AUTOTHEFT_RATE_2014', \n",
    "                    'AUTOTHEFT_RATE_2015', 'AUTOTHEFT_RATE_2016', 'AUTOTHEFT_RATE_2017', \n",
    "                    'AUTOTHEFT_RATE_2018', 'AUTOTHEFT_RATE_2019', 'AUTOTHEFT_RATE_2020', \n",
    "                    'AUTOTHEFT_RATE_2021', 'AUTOTHEFT_RATE_2022', 'AUTOTHEFT_RATE_2023']"
   ]
  },
  {
   "cell_type": "code",
   "execution_count": 128,
   "metadata": {},
   "outputs": [],
   "source": [
    "# Create a new data frame based on the selected columns from the data frame created\n",
    "selected_df = df.loc[:, selected_columns]\n"
   ]
  },
  {
   "cell_type": "code",
   "execution_count": 240,
   "metadata": {},
   "outputs": [
    {
     "data": {
      "text/html": [
       "<div>\n",
       "<style scoped>\n",
       "    .dataframe tbody tr th:only-of-type {\n",
       "        vertical-align: middle;\n",
       "    }\n",
       "\n",
       "    .dataframe tbody tr th {\n",
       "        vertical-align: top;\n",
       "    }\n",
       "\n",
       "    .dataframe thead th {\n",
       "        text-align: right;\n",
       "    }\n",
       "</style>\n",
       "<table border=\"1\" class=\"dataframe\">\n",
       "  <thead>\n",
       "    <tr style=\"text-align: right;\">\n",
       "      <th></th>\n",
       "      <th>_id</th>\n",
       "      <th>AREA_NAME</th>\n",
       "      <th>HOOD_ID</th>\n",
       "      <th>POPULATION_2023</th>\n",
       "      <th>AUTOTHEFT_2014</th>\n",
       "      <th>AUTOTHEFT_2015</th>\n",
       "      <th>AUTOTHEFT_2016</th>\n",
       "      <th>AUTOTHEFT_2017</th>\n",
       "      <th>AUTOTHEFT_2018</th>\n",
       "      <th>AUTOTHEFT_2019</th>\n",
       "      <th>...</th>\n",
       "      <th>AUTOTHEFT_RATE_2014</th>\n",
       "      <th>AUTOTHEFT_RATE_2015</th>\n",
       "      <th>AUTOTHEFT_RATE_2016</th>\n",
       "      <th>AUTOTHEFT_RATE_2017</th>\n",
       "      <th>AUTOTHEFT_RATE_2018</th>\n",
       "      <th>AUTOTHEFT_RATE_2019</th>\n",
       "      <th>AUTOTHEFT_RATE_2020</th>\n",
       "      <th>AUTOTHEFT_RATE_2021</th>\n",
       "      <th>AUTOTHEFT_RATE_2022</th>\n",
       "      <th>AUTOTHEFT_RATE_2023</th>\n",
       "    </tr>\n",
       "  </thead>\n",
       "  <tbody>\n",
       "    <tr>\n",
       "      <th>0</th>\n",
       "      <td>1</td>\n",
       "      <td>South Eglinton-Davisville</td>\n",
       "      <td>174</td>\n",
       "      <td>21987</td>\n",
       "      <td>5</td>\n",
       "      <td>4.0</td>\n",
       "      <td>3</td>\n",
       "      <td>8.0</td>\n",
       "      <td>15</td>\n",
       "      <td>8</td>\n",
       "      <td>...</td>\n",
       "      <td>27.379257</td>\n",
       "      <td>21.779375</td>\n",
       "      <td>16.192583</td>\n",
       "      <td>41.897980</td>\n",
       "      <td>76.161461</td>\n",
       "      <td>39.527645</td>\n",
       "      <td>72.593521</td>\n",
       "      <td>71.585381</td>\n",
       "      <td>46.689701</td>\n",
       "      <td>95.510986</td>\n",
       "    </tr>\n",
       "    <tr>\n",
       "      <th>1</th>\n",
       "      <td>2</td>\n",
       "      <td>North Toronto</td>\n",
       "      <td>173</td>\n",
       "      <td>15077</td>\n",
       "      <td>4</td>\n",
       "      <td>1.0</td>\n",
       "      <td>2</td>\n",
       "      <td>2.0</td>\n",
       "      <td>4</td>\n",
       "      <td>4</td>\n",
       "      <td>...</td>\n",
       "      <td>34.396767</td>\n",
       "      <td>8.637071</td>\n",
       "      <td>17.305529</td>\n",
       "      <td>16.500288</td>\n",
       "      <td>31.530821</td>\n",
       "      <td>30.234316</td>\n",
       "      <td>80.356491</td>\n",
       "      <td>99.693794</td>\n",
       "      <td>68.756874</td>\n",
       "      <td>119.387146</td>\n",
       "    </tr>\n",
       "    <tr>\n",
       "      <th>2</th>\n",
       "      <td>3</td>\n",
       "      <td>Dovercourt Village</td>\n",
       "      <td>172</td>\n",
       "      <td>13837</td>\n",
       "      <td>8</td>\n",
       "      <td>10.0</td>\n",
       "      <td>18</td>\n",
       "      <td>11.0</td>\n",
       "      <td>11</td>\n",
       "      <td>12</td>\n",
       "      <td>...</td>\n",
       "      <td>58.858150</td>\n",
       "      <td>74.063103</td>\n",
       "      <td>133.848892</td>\n",
       "      <td>81.204781</td>\n",
       "      <td>80.151558</td>\n",
       "      <td>86.792999</td>\n",
       "      <td>130.255447</td>\n",
       "      <td>58.164898</td>\n",
       "      <td>181.303940</td>\n",
       "      <td>202.356003</td>\n",
       "    </tr>\n",
       "    <tr>\n",
       "      <th>3</th>\n",
       "      <td>4</td>\n",
       "      <td>Junction-Wallace Emerson</td>\n",
       "      <td>171</td>\n",
       "      <td>26240</td>\n",
       "      <td>19</td>\n",
       "      <td>17.0</td>\n",
       "      <td>12</td>\n",
       "      <td>17.0</td>\n",
       "      <td>29</td>\n",
       "      <td>23</td>\n",
       "      <td>...</td>\n",
       "      <td>80.895813</td>\n",
       "      <td>71.317696</td>\n",
       "      <td>49.506992</td>\n",
       "      <td>69.145042</td>\n",
       "      <td>115.819321</td>\n",
       "      <td>90.590416</td>\n",
       "      <td>172.353012</td>\n",
       "      <td>136.980942</td>\n",
       "      <td>182.333084</td>\n",
       "      <td>129.573166</td>\n",
       "    </tr>\n",
       "    <tr>\n",
       "      <th>4</th>\n",
       "      <td>5</td>\n",
       "      <td>Yonge-Bay Corridor</td>\n",
       "      <td>170</td>\n",
       "      <td>14731</td>\n",
       "      <td>12</td>\n",
       "      <td>20.0</td>\n",
       "      <td>20</td>\n",
       "      <td>14.0</td>\n",
       "      <td>27</td>\n",
       "      <td>38</td>\n",
       "      <td>...</td>\n",
       "      <td>116.279068</td>\n",
       "      <td>182.798645</td>\n",
       "      <td>172.816040</td>\n",
       "      <td>115.980446</td>\n",
       "      <td>214.489990</td>\n",
       "      <td>290.675446</td>\n",
       "      <td>103.919243</td>\n",
       "      <td>123.349297</td>\n",
       "      <td>204.038559</td>\n",
       "      <td>312.266663</td>\n",
       "    </tr>\n",
       "  </tbody>\n",
       "</table>\n",
       "<p>5 rows × 24 columns</p>\n",
       "</div>"
      ],
      "text/plain": [
       "   _id                  AREA_NAME  HOOD_ID  POPULATION_2023  AUTOTHEFT_2014  \\\n",
       "0    1  South Eglinton-Davisville      174            21987               5   \n",
       "1    2              North Toronto      173            15077               4   \n",
       "2    3         Dovercourt Village      172            13837               8   \n",
       "3    4   Junction-Wallace Emerson      171            26240              19   \n",
       "4    5         Yonge-Bay Corridor      170            14731              12   \n",
       "\n",
       "   AUTOTHEFT_2015  AUTOTHEFT_2016  AUTOTHEFT_2017  AUTOTHEFT_2018  \\\n",
       "0             4.0               3             8.0              15   \n",
       "1             1.0               2             2.0               4   \n",
       "2            10.0              18            11.0              11   \n",
       "3            17.0              12            17.0              29   \n",
       "4            20.0              20            14.0              27   \n",
       "\n",
       "   AUTOTHEFT_2019  ...  AUTOTHEFT_RATE_2014  AUTOTHEFT_RATE_2015  \\\n",
       "0               8  ...            27.379257            21.779375   \n",
       "1               4  ...            34.396767             8.637071   \n",
       "2              12  ...            58.858150            74.063103   \n",
       "3              23  ...            80.895813            71.317696   \n",
       "4              38  ...           116.279068           182.798645   \n",
       "\n",
       "   AUTOTHEFT_RATE_2016  AUTOTHEFT_RATE_2017  AUTOTHEFT_RATE_2018  \\\n",
       "0            16.192583            41.897980            76.161461   \n",
       "1            17.305529            16.500288            31.530821   \n",
       "2           133.848892            81.204781            80.151558   \n",
       "3            49.506992            69.145042           115.819321   \n",
       "4           172.816040           115.980446           214.489990   \n",
       "\n",
       "   AUTOTHEFT_RATE_2019  AUTOTHEFT_RATE_2020  AUTOTHEFT_RATE_2021  \\\n",
       "0            39.527645            72.593521            71.585381   \n",
       "1            30.234316            80.356491            99.693794   \n",
       "2            86.792999           130.255447            58.164898   \n",
       "3            90.590416           172.353012           136.980942   \n",
       "4           290.675446           103.919243           123.349297   \n",
       "\n",
       "   AUTOTHEFT_RATE_2022  AUTOTHEFT_RATE_2023  \n",
       "0            46.689701            95.510986  \n",
       "1            68.756874           119.387146  \n",
       "2           181.303940           202.356003  \n",
       "3           182.333084           129.573166  \n",
       "4           204.038559           312.266663  \n",
       "\n",
       "[5 rows x 24 columns]"
      ]
     },
     "execution_count": 240,
     "metadata": {},
     "output_type": "execute_result"
    }
   ],
   "source": [
    "selected_df.head()"
   ]
  },
  {
   "cell_type": "code",
   "execution_count": 242,
   "metadata": {},
   "outputs": [
    {
     "data": {
      "text/html": [
       "<div>\n",
       "<style scoped>\n",
       "    .dataframe tbody tr th:only-of-type {\n",
       "        vertical-align: middle;\n",
       "    }\n",
       "\n",
       "    .dataframe tbody tr th {\n",
       "        vertical-align: top;\n",
       "    }\n",
       "\n",
       "    .dataframe thead th {\n",
       "        text-align: right;\n",
       "    }\n",
       "</style>\n",
       "<table border=\"1\" class=\"dataframe\">\n",
       "  <thead>\n",
       "    <tr style=\"text-align: right;\">\n",
       "      <th></th>\n",
       "      <th>ID</th>\n",
       "      <th>Area Name</th>\n",
       "      <th>Hood ID</th>\n",
       "      <th>Population 2023</th>\n",
       "      <th>2014</th>\n",
       "      <th>2015</th>\n",
       "      <th>2016</th>\n",
       "      <th>2017</th>\n",
       "      <th>2018</th>\n",
       "      <th>2019</th>\n",
       "      <th>...</th>\n",
       "      <th>Rate 2014</th>\n",
       "      <th>Rate 2015</th>\n",
       "      <th>Rate 2016</th>\n",
       "      <th>Rate 2017</th>\n",
       "      <th>Rate 2018</th>\n",
       "      <th>Rate 2019</th>\n",
       "      <th>Rate 2020</th>\n",
       "      <th>Rate 2021</th>\n",
       "      <th>Rate 2022</th>\n",
       "      <th>Rate 2023</th>\n",
       "    </tr>\n",
       "  </thead>\n",
       "  <tbody>\n",
       "    <tr>\n",
       "      <th>0</th>\n",
       "      <td>1</td>\n",
       "      <td>South Eglinton-Davisville</td>\n",
       "      <td>174</td>\n",
       "      <td>21987</td>\n",
       "      <td>5</td>\n",
       "      <td>4.0</td>\n",
       "      <td>3</td>\n",
       "      <td>8.0</td>\n",
       "      <td>15</td>\n",
       "      <td>8</td>\n",
       "      <td>...</td>\n",
       "      <td>27.379257</td>\n",
       "      <td>21.779375</td>\n",
       "      <td>16.192583</td>\n",
       "      <td>41.897980</td>\n",
       "      <td>76.161461</td>\n",
       "      <td>39.527645</td>\n",
       "      <td>72.593521</td>\n",
       "      <td>71.585381</td>\n",
       "      <td>46.689701</td>\n",
       "      <td>95.510986</td>\n",
       "    </tr>\n",
       "    <tr>\n",
       "      <th>1</th>\n",
       "      <td>2</td>\n",
       "      <td>North Toronto</td>\n",
       "      <td>173</td>\n",
       "      <td>15077</td>\n",
       "      <td>4</td>\n",
       "      <td>1.0</td>\n",
       "      <td>2</td>\n",
       "      <td>2.0</td>\n",
       "      <td>4</td>\n",
       "      <td>4</td>\n",
       "      <td>...</td>\n",
       "      <td>34.396767</td>\n",
       "      <td>8.637071</td>\n",
       "      <td>17.305529</td>\n",
       "      <td>16.500288</td>\n",
       "      <td>31.530821</td>\n",
       "      <td>30.234316</td>\n",
       "      <td>80.356491</td>\n",
       "      <td>99.693794</td>\n",
       "      <td>68.756874</td>\n",
       "      <td>119.387146</td>\n",
       "    </tr>\n",
       "    <tr>\n",
       "      <th>2</th>\n",
       "      <td>3</td>\n",
       "      <td>Dovercourt Village</td>\n",
       "      <td>172</td>\n",
       "      <td>13837</td>\n",
       "      <td>8</td>\n",
       "      <td>10.0</td>\n",
       "      <td>18</td>\n",
       "      <td>11.0</td>\n",
       "      <td>11</td>\n",
       "      <td>12</td>\n",
       "      <td>...</td>\n",
       "      <td>58.858150</td>\n",
       "      <td>74.063103</td>\n",
       "      <td>133.848892</td>\n",
       "      <td>81.204781</td>\n",
       "      <td>80.151558</td>\n",
       "      <td>86.792999</td>\n",
       "      <td>130.255447</td>\n",
       "      <td>58.164898</td>\n",
       "      <td>181.303940</td>\n",
       "      <td>202.356003</td>\n",
       "    </tr>\n",
       "    <tr>\n",
       "      <th>3</th>\n",
       "      <td>4</td>\n",
       "      <td>Junction-Wallace Emerson</td>\n",
       "      <td>171</td>\n",
       "      <td>26240</td>\n",
       "      <td>19</td>\n",
       "      <td>17.0</td>\n",
       "      <td>12</td>\n",
       "      <td>17.0</td>\n",
       "      <td>29</td>\n",
       "      <td>23</td>\n",
       "      <td>...</td>\n",
       "      <td>80.895813</td>\n",
       "      <td>71.317696</td>\n",
       "      <td>49.506992</td>\n",
       "      <td>69.145042</td>\n",
       "      <td>115.819321</td>\n",
       "      <td>90.590416</td>\n",
       "      <td>172.353012</td>\n",
       "      <td>136.980942</td>\n",
       "      <td>182.333084</td>\n",
       "      <td>129.573166</td>\n",
       "    </tr>\n",
       "    <tr>\n",
       "      <th>4</th>\n",
       "      <td>5</td>\n",
       "      <td>Yonge-Bay Corridor</td>\n",
       "      <td>170</td>\n",
       "      <td>14731</td>\n",
       "      <td>12</td>\n",
       "      <td>20.0</td>\n",
       "      <td>20</td>\n",
       "      <td>14.0</td>\n",
       "      <td>27</td>\n",
       "      <td>38</td>\n",
       "      <td>...</td>\n",
       "      <td>116.279068</td>\n",
       "      <td>182.798645</td>\n",
       "      <td>172.816040</td>\n",
       "      <td>115.980446</td>\n",
       "      <td>214.489990</td>\n",
       "      <td>290.675446</td>\n",
       "      <td>103.919243</td>\n",
       "      <td>123.349297</td>\n",
       "      <td>204.038559</td>\n",
       "      <td>312.266663</td>\n",
       "    </tr>\n",
       "  </tbody>\n",
       "</table>\n",
       "<p>5 rows × 24 columns</p>\n",
       "</div>"
      ],
      "text/plain": [
       "   ID                  Area Name  Hood ID  Population 2023  2014  2015  2016  \\\n",
       "0   1  South Eglinton-Davisville      174            21987     5   4.0     3   \n",
       "1   2              North Toronto      173            15077     4   1.0     2   \n",
       "2   3         Dovercourt Village      172            13837     8  10.0    18   \n",
       "3   4   Junction-Wallace Emerson      171            26240    19  17.0    12   \n",
       "4   5         Yonge-Bay Corridor      170            14731    12  20.0    20   \n",
       "\n",
       "   2017  2018  2019  ...   Rate 2014   Rate 2015   Rate 2016   Rate 2017  \\\n",
       "0   8.0    15     8  ...   27.379257   21.779375   16.192583   41.897980   \n",
       "1   2.0     4     4  ...   34.396767    8.637071   17.305529   16.500288   \n",
       "2  11.0    11    12  ...   58.858150   74.063103  133.848892   81.204781   \n",
       "3  17.0    29    23  ...   80.895813   71.317696   49.506992   69.145042   \n",
       "4  14.0    27    38  ...  116.279068  182.798645  172.816040  115.980446   \n",
       "\n",
       "    Rate 2018   Rate 2019   Rate 2020   Rate 2021   Rate 2022   Rate 2023  \n",
       "0   76.161461   39.527645   72.593521   71.585381   46.689701   95.510986  \n",
       "1   31.530821   30.234316   80.356491   99.693794   68.756874  119.387146  \n",
       "2   80.151558   86.792999  130.255447   58.164898  181.303940  202.356003  \n",
       "3  115.819321   90.590416  172.353012  136.980942  182.333084  129.573166  \n",
       "4  214.489990  290.675446  103.919243  123.349297  204.038559  312.266663  \n",
       "\n",
       "[5 rows x 24 columns]"
      ]
     },
     "execution_count": 242,
     "metadata": {},
     "output_type": "execute_result"
    }
   ],
   "source": [
    "# Rename the columns\n",
    "new_column_names = {\n",
    "    '_id': 'ID',\n",
    "    'AREA_NAME': 'Area Name',\n",
    "    'HOOD_ID': 'Hood ID',\n",
    "    'POPULATION_2023': 'Population 2023',\n",
    "    'AUTOTHEFT_2014': '2014',\n",
    "    'AUTOTHEFT_2015': '2015',\n",
    "    'AUTOTHEFT_2016': '2016',\n",
    "    'AUTOTHEFT_2017': '2017',\n",
    "    'AUTOTHEFT_2018': '2018',\n",
    "    'AUTOTHEFT_2019': '2019',\n",
    "    'AUTOTHEFT_2020': '2020',\n",
    "    'AUTOTHEFT_2021': '2021',\n",
    "    'AUTOTHEFT_2022': '2022',\n",
    "    'AUTOTHEFT_2023': '2023',\n",
    "    'AUTOTHEFT_RATE_2014': 'Rate 2014',\n",
    "    'AUTOTHEFT_RATE_2015': 'Rate 2015',\n",
    "    'AUTOTHEFT_RATE_2016': 'Rate 2016',\n",
    "    'AUTOTHEFT_RATE_2017': 'Rate 2017',\n",
    "    'AUTOTHEFT_RATE_2018': 'Rate 2018',\n",
    "    'AUTOTHEFT_RATE_2019': 'Rate 2019',\n",
    "    'AUTOTHEFT_RATE_2020': 'Rate 2020',\n",
    "    'AUTOTHEFT_RATE_2021': 'Rate 2021',\n",
    "    'AUTOTHEFT_RATE_2022': 'Rate 2022',\n",
    "    'AUTOTHEFT_RATE_2023': 'Rate 2023'\n",
    "}\n",
    "\n",
    "selected_df_renamed = selected_df.rename(columns=new_column_names)\n",
    "\n",
    "# Display the new DataFrame with renamed columns\n",
    "selected_df_renamed.head()\n"
   ]
  },
  {
   "cell_type": "code",
   "execution_count": 212,
   "metadata": {},
   "outputs": [
    {
     "data": {
      "text/html": [
       "<div>\n",
       "<style scoped>\n",
       "    .dataframe tbody tr th:only-of-type {\n",
       "        vertical-align: middle;\n",
       "    }\n",
       "\n",
       "    .dataframe tbody tr th {\n",
       "        vertical-align: top;\n",
       "    }\n",
       "\n",
       "    .dataframe thead th {\n",
       "        text-align: right;\n",
       "    }\n",
       "</style>\n",
       "<table border=\"1\" class=\"dataframe\">\n",
       "  <thead>\n",
       "    <tr style=\"text-align: right;\">\n",
       "      <th></th>\n",
       "      <th>ID</th>\n",
       "      <th>Area Name</th>\n",
       "      <th>Hood ID</th>\n",
       "      <th>Population 2023</th>\n",
       "      <th>Year</th>\n",
       "      <th>Value</th>\n",
       "    </tr>\n",
       "  </thead>\n",
       "  <tbody>\n",
       "    <tr>\n",
       "      <th>0</th>\n",
       "      <td>1</td>\n",
       "      <td>South Eglinton-Davisville</td>\n",
       "      <td>174</td>\n",
       "      <td>21987</td>\n",
       "      <td>2014</td>\n",
       "      <td>5.000000</td>\n",
       "    </tr>\n",
       "    <tr>\n",
       "      <th>1</th>\n",
       "      <td>2</td>\n",
       "      <td>North Toronto</td>\n",
       "      <td>173</td>\n",
       "      <td>15077</td>\n",
       "      <td>2014</td>\n",
       "      <td>4.000000</td>\n",
       "    </tr>\n",
       "    <tr>\n",
       "      <th>2</th>\n",
       "      <td>3</td>\n",
       "      <td>Dovercourt Village</td>\n",
       "      <td>172</td>\n",
       "      <td>13837</td>\n",
       "      <td>2014</td>\n",
       "      <td>8.000000</td>\n",
       "    </tr>\n",
       "    <tr>\n",
       "      <th>3</th>\n",
       "      <td>4</td>\n",
       "      <td>Junction-Wallace Emerson</td>\n",
       "      <td>171</td>\n",
       "      <td>26240</td>\n",
       "      <td>2014</td>\n",
       "      <td>19.000000</td>\n",
       "    </tr>\n",
       "    <tr>\n",
       "      <th>4</th>\n",
       "      <td>5</td>\n",
       "      <td>Yonge-Bay Corridor</td>\n",
       "      <td>170</td>\n",
       "      <td>14731</td>\n",
       "      <td>2014</td>\n",
       "      <td>12.000000</td>\n",
       "    </tr>\n",
       "    <tr>\n",
       "      <th>...</th>\n",
       "      <td>...</td>\n",
       "      <td>...</td>\n",
       "      <td>...</td>\n",
       "      <td>...</td>\n",
       "      <td>...</td>\n",
       "      <td>...</td>\n",
       "    </tr>\n",
       "    <tr>\n",
       "      <th>3155</th>\n",
       "      <td>154</td>\n",
       "      <td>West Humber-Clairville</td>\n",
       "      <td>1</td>\n",
       "      <td>36388</td>\n",
       "      <td>Rate 2023</td>\n",
       "      <td>2278.223633</td>\n",
       "    </tr>\n",
       "    <tr>\n",
       "      <th>3156</th>\n",
       "      <td>155</td>\n",
       "      <td>Black Creek</td>\n",
       "      <td>24</td>\n",
       "      <td>23047</td>\n",
       "      <td>Rate 2023</td>\n",
       "      <td>360.133637</td>\n",
       "    </tr>\n",
       "    <tr>\n",
       "      <th>3157</th>\n",
       "      <td>156</td>\n",
       "      <td>Pelmo Park-Humberlea</td>\n",
       "      <td>23</td>\n",
       "      <td>12121</td>\n",
       "      <td>Rate 2023</td>\n",
       "      <td>833.264587</td>\n",
       "    </tr>\n",
       "    <tr>\n",
       "      <th>3158</th>\n",
       "      <td>157</td>\n",
       "      <td>Humbermede</td>\n",
       "      <td>22</td>\n",
       "      <td>16568</td>\n",
       "      <td>Rate 2023</td>\n",
       "      <td>736.359253</td>\n",
       "    </tr>\n",
       "    <tr>\n",
       "      <th>3159</th>\n",
       "      <td>158</td>\n",
       "      <td>Humber Summit</td>\n",
       "      <td>21</td>\n",
       "      <td>13425</td>\n",
       "      <td>Rate 2023</td>\n",
       "      <td>975.791443</td>\n",
       "    </tr>\n",
       "  </tbody>\n",
       "</table>\n",
       "<p>3160 rows × 6 columns</p>\n",
       "</div>"
      ],
      "text/plain": [
       "       ID                  Area Name  Hood ID  Population 2023       Year  \\\n",
       "0       1  South Eglinton-Davisville      174            21987       2014   \n",
       "1       2              North Toronto      173            15077       2014   \n",
       "2       3         Dovercourt Village      172            13837       2014   \n",
       "3       4   Junction-Wallace Emerson      171            26240       2014   \n",
       "4       5         Yonge-Bay Corridor      170            14731       2014   \n",
       "...   ...                        ...      ...              ...        ...   \n",
       "3155  154     West Humber-Clairville        1            36388  Rate 2023   \n",
       "3156  155                Black Creek       24            23047  Rate 2023   \n",
       "3157  156       Pelmo Park-Humberlea       23            12121  Rate 2023   \n",
       "3158  157                 Humbermede       22            16568  Rate 2023   \n",
       "3159  158              Humber Summit       21            13425  Rate 2023   \n",
       "\n",
       "            Value  \n",
       "0        5.000000  \n",
       "1        4.000000  \n",
       "2        8.000000  \n",
       "3       19.000000  \n",
       "4       12.000000  \n",
       "...           ...  \n",
       "3155  2278.223633  \n",
       "3156   360.133637  \n",
       "3157   833.264587  \n",
       "3158   736.359253  \n",
       "3159   975.791443  \n",
       "\n",
       "[3160 rows x 6 columns]"
      ]
     },
     "execution_count": 212,
     "metadata": {},
     "output_type": "execute_result"
    }
   ],
   "source": [
    "# Reshape the DataFrame using the melt function\n",
    "melted_df = pd.melt(selected_df_renamed, \n",
    "                    id_vars=['ID', 'Area Name', 'Hood ID', 'Population 2023'], \n",
    "                    var_name='Year', \n",
    "                    value_name='Value')\n",
    "\n",
    "# Show the rows of the melted DataFrame\n",
    "melted_df"
   ]
  },
  {
   "cell_type": "code",
   "execution_count": 254,
   "metadata": {},
   "outputs": [
    {
     "data": {
      "text/html": [
       "<div>\n",
       "<style scoped>\n",
       "    .dataframe tbody tr th:only-of-type {\n",
       "        vertical-align: middle;\n",
       "    }\n",
       "\n",
       "    .dataframe tbody tr th {\n",
       "        vertical-align: top;\n",
       "    }\n",
       "\n",
       "    .dataframe thead th {\n",
       "        text-align: right;\n",
       "    }\n",
       "</style>\n",
       "<table border=\"1\" class=\"dataframe\">\n",
       "  <thead>\n",
       "    <tr style=\"text-align: right;\">\n",
       "      <th></th>\n",
       "      <th>ID</th>\n",
       "      <th>Area Name</th>\n",
       "      <th>Hood ID</th>\n",
       "      <th>Population 2023</th>\n",
       "      <th>Year</th>\n",
       "      <th>Value</th>\n",
       "      <th>Value Type</th>\n",
       "      <th>Value Year</th>\n",
       "    </tr>\n",
       "  </thead>\n",
       "  <tbody>\n",
       "    <tr>\n",
       "      <th>0</th>\n",
       "      <td>1</td>\n",
       "      <td>South Eglinton-Davisville</td>\n",
       "      <td>174</td>\n",
       "      <td>21987</td>\n",
       "      <td>2014</td>\n",
       "      <td>5.0</td>\n",
       "      <td>Count</td>\n",
       "      <td>2014</td>\n",
       "    </tr>\n",
       "    <tr>\n",
       "      <th>1</th>\n",
       "      <td>2</td>\n",
       "      <td>North Toronto</td>\n",
       "      <td>173</td>\n",
       "      <td>15077</td>\n",
       "      <td>2014</td>\n",
       "      <td>4.0</td>\n",
       "      <td>Count</td>\n",
       "      <td>2014</td>\n",
       "    </tr>\n",
       "    <tr>\n",
       "      <th>2</th>\n",
       "      <td>3</td>\n",
       "      <td>Dovercourt Village</td>\n",
       "      <td>172</td>\n",
       "      <td>13837</td>\n",
       "      <td>2014</td>\n",
       "      <td>8.0</td>\n",
       "      <td>Count</td>\n",
       "      <td>2014</td>\n",
       "    </tr>\n",
       "    <tr>\n",
       "      <th>3</th>\n",
       "      <td>4</td>\n",
       "      <td>Junction-Wallace Emerson</td>\n",
       "      <td>171</td>\n",
       "      <td>26240</td>\n",
       "      <td>2014</td>\n",
       "      <td>19.0</td>\n",
       "      <td>Count</td>\n",
       "      <td>2014</td>\n",
       "    </tr>\n",
       "    <tr>\n",
       "      <th>4</th>\n",
       "      <td>5</td>\n",
       "      <td>Yonge-Bay Corridor</td>\n",
       "      <td>170</td>\n",
       "      <td>14731</td>\n",
       "      <td>2014</td>\n",
       "      <td>12.0</td>\n",
       "      <td>Count</td>\n",
       "      <td>2014</td>\n",
       "    </tr>\n",
       "  </tbody>\n",
       "</table>\n",
       "</div>"
      ],
      "text/plain": [
       "   ID                  Area Name  Hood ID  Population 2023  Year  Value  \\\n",
       "0   1  South Eglinton-Davisville      174            21987  2014    5.0   \n",
       "1   2              North Toronto      173            15077  2014    4.0   \n",
       "2   3         Dovercourt Village      172            13837  2014    8.0   \n",
       "3   4   Junction-Wallace Emerson      171            26240  2014   19.0   \n",
       "4   5         Yonge-Bay Corridor      170            14731  2014   12.0   \n",
       "\n",
       "  Value Type  Value Year  \n",
       "0      Count        2014  \n",
       "1      Count        2014  \n",
       "2      Count        2014  \n",
       "3      Count        2014  \n",
       "4      Count        2014  "
      ]
     },
     "execution_count": 254,
     "metadata": {},
     "output_type": "execute_result"
    }
   ],
   "source": [
    "# Create DataFrame including new value type column\n",
    "melted_df_new_col = pd.DataFrame(melted_df)\n",
    "\n",
    "# Create a new column 'value type' based on the followin conditions of Year Column\n",
    "# when Rate string exists add value type='Rate' else 'Count'\n",
    "melted_df_new_col['Value Type'] = melted_df_new_col['Year'].apply(lambda x: 'Count' if not 'Rate' in str(x) else 'Rate')\n",
    "# Show the updated DataFrame\n",
    "melted_df_new_col.head()"
   ]
  },
  {
   "cell_type": "code",
   "execution_count": 246,
   "metadata": {},
   "outputs": [],
   "source": [
    "# Create New column 'Value Year'\n",
    "# Extract integers from 'Year' column and create 'Value Year' column\n",
    "melted_df_new_col['Value Year'] = melted_df_new_col['Year'].str.extract(r'(\\d+)')\n",
    "\n",
    "# Convert 'Value Year' column to integer type\n",
    "melted_df_new_col['Value Year'] = melted_df_new_col['Value Year'].astype(int)"
   ]
  },
  {
   "cell_type": "code",
   "execution_count": 255,
   "metadata": {},
   "outputs": [
    {
     "data": {
      "text/html": [
       "<div>\n",
       "<style scoped>\n",
       "    .dataframe tbody tr th:only-of-type {\n",
       "        vertical-align: middle;\n",
       "    }\n",
       "\n",
       "    .dataframe tbody tr th {\n",
       "        vertical-align: top;\n",
       "    }\n",
       "\n",
       "    .dataframe thead th {\n",
       "        text-align: right;\n",
       "    }\n",
       "</style>\n",
       "<table border=\"1\" class=\"dataframe\">\n",
       "  <thead>\n",
       "    <tr style=\"text-align: right;\">\n",
       "      <th></th>\n",
       "      <th>ID</th>\n",
       "      <th>Area Name</th>\n",
       "      <th>Hood ID</th>\n",
       "      <th>Population 2023</th>\n",
       "      <th>Year</th>\n",
       "      <th>Value</th>\n",
       "      <th>Value Type</th>\n",
       "      <th>Value Year</th>\n",
       "    </tr>\n",
       "  </thead>\n",
       "  <tbody>\n",
       "    <tr>\n",
       "      <th>0</th>\n",
       "      <td>1</td>\n",
       "      <td>South Eglinton-Davisville</td>\n",
       "      <td>174</td>\n",
       "      <td>21987</td>\n",
       "      <td>2014</td>\n",
       "      <td>5.0</td>\n",
       "      <td>Count</td>\n",
       "      <td>2014</td>\n",
       "    </tr>\n",
       "    <tr>\n",
       "      <th>1</th>\n",
       "      <td>2</td>\n",
       "      <td>North Toronto</td>\n",
       "      <td>173</td>\n",
       "      <td>15077</td>\n",
       "      <td>2014</td>\n",
       "      <td>4.0</td>\n",
       "      <td>Count</td>\n",
       "      <td>2014</td>\n",
       "    </tr>\n",
       "    <tr>\n",
       "      <th>2</th>\n",
       "      <td>3</td>\n",
       "      <td>Dovercourt Village</td>\n",
       "      <td>172</td>\n",
       "      <td>13837</td>\n",
       "      <td>2014</td>\n",
       "      <td>8.0</td>\n",
       "      <td>Count</td>\n",
       "      <td>2014</td>\n",
       "    </tr>\n",
       "    <tr>\n",
       "      <th>3</th>\n",
       "      <td>4</td>\n",
       "      <td>Junction-Wallace Emerson</td>\n",
       "      <td>171</td>\n",
       "      <td>26240</td>\n",
       "      <td>2014</td>\n",
       "      <td>19.0</td>\n",
       "      <td>Count</td>\n",
       "      <td>2014</td>\n",
       "    </tr>\n",
       "    <tr>\n",
       "      <th>4</th>\n",
       "      <td>5</td>\n",
       "      <td>Yonge-Bay Corridor</td>\n",
       "      <td>170</td>\n",
       "      <td>14731</td>\n",
       "      <td>2014</td>\n",
       "      <td>12.0</td>\n",
       "      <td>Count</td>\n",
       "      <td>2014</td>\n",
       "    </tr>\n",
       "  </tbody>\n",
       "</table>\n",
       "</div>"
      ],
      "text/plain": [
       "   ID                  Area Name  Hood ID  Population 2023  Year  Value  \\\n",
       "0   1  South Eglinton-Davisville      174            21987  2014    5.0   \n",
       "1   2              North Toronto      173            15077  2014    4.0   \n",
       "2   3         Dovercourt Village      172            13837  2014    8.0   \n",
       "3   4   Junction-Wallace Emerson      171            26240  2014   19.0   \n",
       "4   5         Yonge-Bay Corridor      170            14731  2014   12.0   \n",
       "\n",
       "  Value Type  Value Year  \n",
       "0      Count        2014  \n",
       "1      Count        2014  \n",
       "2      Count        2014  \n",
       "3      Count        2014  \n",
       "4      Count        2014  "
      ]
     },
     "execution_count": 255,
     "metadata": {},
     "output_type": "execute_result"
    }
   ],
   "source": [
    "melted_df_new_col.head()"
   ]
  },
  {
   "cell_type": "code",
   "execution_count": 256,
   "metadata": {},
   "outputs": [],
   "source": [
    "# Drop unnecessory Year column to avoid confusion\n",
    "melted_df_new_col.drop(columns=['Year'], inplace=True)"
   ]
  },
  {
   "cell_type": "code",
   "execution_count": 257,
   "metadata": {},
   "outputs": [
    {
     "data": {
      "text/html": [
       "<div>\n",
       "<style scoped>\n",
       "    .dataframe tbody tr th:only-of-type {\n",
       "        vertical-align: middle;\n",
       "    }\n",
       "\n",
       "    .dataframe tbody tr th {\n",
       "        vertical-align: top;\n",
       "    }\n",
       "\n",
       "    .dataframe thead th {\n",
       "        text-align: right;\n",
       "    }\n",
       "</style>\n",
       "<table border=\"1\" class=\"dataframe\">\n",
       "  <thead>\n",
       "    <tr style=\"text-align: right;\">\n",
       "      <th></th>\n",
       "      <th>ID</th>\n",
       "      <th>Area Name</th>\n",
       "      <th>Hood ID</th>\n",
       "      <th>Population 2023</th>\n",
       "      <th>Value</th>\n",
       "      <th>Value Type</th>\n",
       "      <th>Value Year</th>\n",
       "    </tr>\n",
       "  </thead>\n",
       "  <tbody>\n",
       "    <tr>\n",
       "      <th>0</th>\n",
       "      <td>1</td>\n",
       "      <td>South Eglinton-Davisville</td>\n",
       "      <td>174</td>\n",
       "      <td>21987</td>\n",
       "      <td>5.0</td>\n",
       "      <td>Count</td>\n",
       "      <td>2014</td>\n",
       "    </tr>\n",
       "    <tr>\n",
       "      <th>1</th>\n",
       "      <td>2</td>\n",
       "      <td>North Toronto</td>\n",
       "      <td>173</td>\n",
       "      <td>15077</td>\n",
       "      <td>4.0</td>\n",
       "      <td>Count</td>\n",
       "      <td>2014</td>\n",
       "    </tr>\n",
       "    <tr>\n",
       "      <th>2</th>\n",
       "      <td>3</td>\n",
       "      <td>Dovercourt Village</td>\n",
       "      <td>172</td>\n",
       "      <td>13837</td>\n",
       "      <td>8.0</td>\n",
       "      <td>Count</td>\n",
       "      <td>2014</td>\n",
       "    </tr>\n",
       "    <tr>\n",
       "      <th>3</th>\n",
       "      <td>4</td>\n",
       "      <td>Junction-Wallace Emerson</td>\n",
       "      <td>171</td>\n",
       "      <td>26240</td>\n",
       "      <td>19.0</td>\n",
       "      <td>Count</td>\n",
       "      <td>2014</td>\n",
       "    </tr>\n",
       "    <tr>\n",
       "      <th>4</th>\n",
       "      <td>5</td>\n",
       "      <td>Yonge-Bay Corridor</td>\n",
       "      <td>170</td>\n",
       "      <td>14731</td>\n",
       "      <td>12.0</td>\n",
       "      <td>Count</td>\n",
       "      <td>2014</td>\n",
       "    </tr>\n",
       "    <tr>\n",
       "      <th>5</th>\n",
       "      <td>6</td>\n",
       "      <td>Bay-Cloverhill</td>\n",
       "      <td>169</td>\n",
       "      <td>19055</td>\n",
       "      <td>6.0</td>\n",
       "      <td>Count</td>\n",
       "      <td>2014</td>\n",
       "    </tr>\n",
       "    <tr>\n",
       "      <th>6</th>\n",
       "      <td>7</td>\n",
       "      <td>Bendale-Glen Andrew</td>\n",
       "      <td>156</td>\n",
       "      <td>20773</td>\n",
       "      <td>35.0</td>\n",
       "      <td>Count</td>\n",
       "      <td>2014</td>\n",
       "    </tr>\n",
       "    <tr>\n",
       "      <th>7</th>\n",
       "      <td>8</td>\n",
       "      <td>Downsview</td>\n",
       "      <td>155</td>\n",
       "      <td>17003</td>\n",
       "      <td>37.0</td>\n",
       "      <td>Count</td>\n",
       "      <td>2014</td>\n",
       "    </tr>\n",
       "    <tr>\n",
       "      <th>8</th>\n",
       "      <td>9</td>\n",
       "      <td>Oakdale-Beverley Heights</td>\n",
       "      <td>154</td>\n",
       "      <td>21503</td>\n",
       "      <td>66.0</td>\n",
       "      <td>Count</td>\n",
       "      <td>2014</td>\n",
       "    </tr>\n",
       "    <tr>\n",
       "      <th>9</th>\n",
       "      <td>10</td>\n",
       "      <td>Avondale</td>\n",
       "      <td>153</td>\n",
       "      <td>16149</td>\n",
       "      <td>9.0</td>\n",
       "      <td>Count</td>\n",
       "      <td>2014</td>\n",
       "    </tr>\n",
       "  </tbody>\n",
       "</table>\n",
       "</div>"
      ],
      "text/plain": [
       "   ID                  Area Name  Hood ID  Population 2023  Value Value Type  \\\n",
       "0   1  South Eglinton-Davisville      174            21987    5.0      Count   \n",
       "1   2              North Toronto      173            15077    4.0      Count   \n",
       "2   3         Dovercourt Village      172            13837    8.0      Count   \n",
       "3   4   Junction-Wallace Emerson      171            26240   19.0      Count   \n",
       "4   5         Yonge-Bay Corridor      170            14731   12.0      Count   \n",
       "5   6             Bay-Cloverhill      169            19055    6.0      Count   \n",
       "6   7        Bendale-Glen Andrew      156            20773   35.0      Count   \n",
       "7   8                  Downsview      155            17003   37.0      Count   \n",
       "8   9   Oakdale-Beverley Heights      154            21503   66.0      Count   \n",
       "9  10                   Avondale      153            16149    9.0      Count   \n",
       "\n",
       "   Value Year  \n",
       "0        2014  \n",
       "1        2014  \n",
       "2        2014  \n",
       "3        2014  \n",
       "4        2014  \n",
       "5        2014  \n",
       "6        2014  \n",
       "7        2014  \n",
       "8        2014  \n",
       "9        2014  "
      ]
     },
     "execution_count": 257,
     "metadata": {},
     "output_type": "execute_result"
    }
   ],
   "source": [
    "melted_df_new_col.head(10)"
   ]
  },
  {
   "cell_type": "code",
   "execution_count": 258,
   "metadata": {},
   "outputs": [
    {
     "data": {
      "text/html": [
       "<div>\n",
       "<style scoped>\n",
       "    .dataframe tbody tr th:only-of-type {\n",
       "        vertical-align: middle;\n",
       "    }\n",
       "\n",
       "    .dataframe tbody tr th {\n",
       "        vertical-align: top;\n",
       "    }\n",
       "\n",
       "    .dataframe thead th {\n",
       "        text-align: right;\n",
       "    }\n",
       "</style>\n",
       "<table border=\"1\" class=\"dataframe\">\n",
       "  <thead>\n",
       "    <tr style=\"text-align: right;\">\n",
       "      <th></th>\n",
       "      <th>ID</th>\n",
       "      <th>Area Name</th>\n",
       "      <th>Hood ID</th>\n",
       "      <th>Population 2023</th>\n",
       "      <th>Value</th>\n",
       "      <th>Value Type</th>\n",
       "      <th>Value Year</th>\n",
       "      <th>Count</th>\n",
       "      <th>Rate</th>\n",
       "    </tr>\n",
       "  </thead>\n",
       "  <tbody>\n",
       "    <tr>\n",
       "      <th>0</th>\n",
       "      <td>1</td>\n",
       "      <td>South Eglinton-Davisville</td>\n",
       "      <td>174</td>\n",
       "      <td>21987</td>\n",
       "      <td>5.0</td>\n",
       "      <td>Count</td>\n",
       "      <td>2014</td>\n",
       "      <td>5.0</td>\n",
       "      <td>NaN</td>\n",
       "    </tr>\n",
       "    <tr>\n",
       "      <th>1</th>\n",
       "      <td>2</td>\n",
       "      <td>North Toronto</td>\n",
       "      <td>173</td>\n",
       "      <td>15077</td>\n",
       "      <td>4.0</td>\n",
       "      <td>Count</td>\n",
       "      <td>2014</td>\n",
       "      <td>4.0</td>\n",
       "      <td>NaN</td>\n",
       "    </tr>\n",
       "    <tr>\n",
       "      <th>2</th>\n",
       "      <td>3</td>\n",
       "      <td>Dovercourt Village</td>\n",
       "      <td>172</td>\n",
       "      <td>13837</td>\n",
       "      <td>8.0</td>\n",
       "      <td>Count</td>\n",
       "      <td>2014</td>\n",
       "      <td>8.0</td>\n",
       "      <td>NaN</td>\n",
       "    </tr>\n",
       "    <tr>\n",
       "      <th>3</th>\n",
       "      <td>4</td>\n",
       "      <td>Junction-Wallace Emerson</td>\n",
       "      <td>171</td>\n",
       "      <td>26240</td>\n",
       "      <td>19.0</td>\n",
       "      <td>Count</td>\n",
       "      <td>2014</td>\n",
       "      <td>19.0</td>\n",
       "      <td>NaN</td>\n",
       "    </tr>\n",
       "    <tr>\n",
       "      <th>4</th>\n",
       "      <td>5</td>\n",
       "      <td>Yonge-Bay Corridor</td>\n",
       "      <td>170</td>\n",
       "      <td>14731</td>\n",
       "      <td>12.0</td>\n",
       "      <td>Count</td>\n",
       "      <td>2014</td>\n",
       "      <td>12.0</td>\n",
       "      <td>NaN</td>\n",
       "    </tr>\n",
       "  </tbody>\n",
       "</table>\n",
       "</div>"
      ],
      "text/plain": [
       "   ID                  Area Name  Hood ID  Population 2023  Value Value Type  \\\n",
       "0   1  South Eglinton-Davisville      174            21987    5.0      Count   \n",
       "1   2              North Toronto      173            15077    4.0      Count   \n",
       "2   3         Dovercourt Village      172            13837    8.0      Count   \n",
       "3   4   Junction-Wallace Emerson      171            26240   19.0      Count   \n",
       "4   5         Yonge-Bay Corridor      170            14731   12.0      Count   \n",
       "\n",
       "   Value Year  Count  Rate  \n",
       "0        2014    5.0   NaN  \n",
       "1        2014    4.0   NaN  \n",
       "2        2014    8.0   NaN  \n",
       "3        2014   19.0   NaN  \n",
       "4        2014   12.0   NaN  "
      ]
     },
     "execution_count": 258,
     "metadata": {},
     "output_type": "execute_result"
    }
   ],
   "source": [
    "# Add 'Count' and 'Rate' columns based on 'value type' \n",
    "melted_df_new_col['Count'] = melted_df_new_col.loc[melted_df_new_col['Value Type'] == 'Count', 'Value']\n",
    "melted_df_new_col['Rate'] = melted_df_new_col.loc[melted_df_new_col['Value Type'] == 'Rate', 'Value']\n",
    "melted_df_new_col.head()"
   ]
  },
  {
   "cell_type": "code",
   "execution_count": 259,
   "metadata": {},
   "outputs": [],
   "source": [
    "# Drop unnecessory 'Value', 'Value Type' columns to avoid confusion\n",
    "melted_df_new_col.drop(columns=['Value', 'Value Type'], inplace=True)"
   ]
  },
  {
   "cell_type": "code",
   "execution_count": 261,
   "metadata": {},
   "outputs": [
    {
     "data": {
      "text/html": [
       "<div>\n",
       "<style scoped>\n",
       "    .dataframe tbody tr th:only-of-type {\n",
       "        vertical-align: middle;\n",
       "    }\n",
       "\n",
       "    .dataframe tbody tr th {\n",
       "        vertical-align: top;\n",
       "    }\n",
       "\n",
       "    .dataframe thead th {\n",
       "        text-align: right;\n",
       "    }\n",
       "</style>\n",
       "<table border=\"1\" class=\"dataframe\">\n",
       "  <thead>\n",
       "    <tr style=\"text-align: right;\">\n",
       "      <th></th>\n",
       "      <th>ID</th>\n",
       "      <th>Area Name</th>\n",
       "      <th>Hood ID</th>\n",
       "      <th>Population 2023</th>\n",
       "      <th>Value Year</th>\n",
       "      <th>Count</th>\n",
       "      <th>Rate</th>\n",
       "    </tr>\n",
       "  </thead>\n",
       "  <tbody>\n",
       "    <tr>\n",
       "      <th>0</th>\n",
       "      <td>1</td>\n",
       "      <td>South Eglinton-Davisville</td>\n",
       "      <td>174</td>\n",
       "      <td>21987</td>\n",
       "      <td>2014</td>\n",
       "      <td>5.0</td>\n",
       "      <td>NaN</td>\n",
       "    </tr>\n",
       "    <tr>\n",
       "      <th>1</th>\n",
       "      <td>2</td>\n",
       "      <td>North Toronto</td>\n",
       "      <td>173</td>\n",
       "      <td>15077</td>\n",
       "      <td>2014</td>\n",
       "      <td>4.0</td>\n",
       "      <td>NaN</td>\n",
       "    </tr>\n",
       "    <tr>\n",
       "      <th>2</th>\n",
       "      <td>3</td>\n",
       "      <td>Dovercourt Village</td>\n",
       "      <td>172</td>\n",
       "      <td>13837</td>\n",
       "      <td>2014</td>\n",
       "      <td>8.0</td>\n",
       "      <td>NaN</td>\n",
       "    </tr>\n",
       "    <tr>\n",
       "      <th>3</th>\n",
       "      <td>4</td>\n",
       "      <td>Junction-Wallace Emerson</td>\n",
       "      <td>171</td>\n",
       "      <td>26240</td>\n",
       "      <td>2014</td>\n",
       "      <td>19.0</td>\n",
       "      <td>NaN</td>\n",
       "    </tr>\n",
       "    <tr>\n",
       "      <th>4</th>\n",
       "      <td>5</td>\n",
       "      <td>Yonge-Bay Corridor</td>\n",
       "      <td>170</td>\n",
       "      <td>14731</td>\n",
       "      <td>2014</td>\n",
       "      <td>12.0</td>\n",
       "      <td>NaN</td>\n",
       "    </tr>\n",
       "    <tr>\n",
       "      <th>5</th>\n",
       "      <td>6</td>\n",
       "      <td>Bay-Cloverhill</td>\n",
       "      <td>169</td>\n",
       "      <td>19055</td>\n",
       "      <td>2014</td>\n",
       "      <td>6.0</td>\n",
       "      <td>NaN</td>\n",
       "    </tr>\n",
       "    <tr>\n",
       "      <th>6</th>\n",
       "      <td>7</td>\n",
       "      <td>Bendale-Glen Andrew</td>\n",
       "      <td>156</td>\n",
       "      <td>20773</td>\n",
       "      <td>2014</td>\n",
       "      <td>35.0</td>\n",
       "      <td>NaN</td>\n",
       "    </tr>\n",
       "    <tr>\n",
       "      <th>7</th>\n",
       "      <td>8</td>\n",
       "      <td>Downsview</td>\n",
       "      <td>155</td>\n",
       "      <td>17003</td>\n",
       "      <td>2014</td>\n",
       "      <td>37.0</td>\n",
       "      <td>NaN</td>\n",
       "    </tr>\n",
       "    <tr>\n",
       "      <th>8</th>\n",
       "      <td>9</td>\n",
       "      <td>Oakdale-Beverley Heights</td>\n",
       "      <td>154</td>\n",
       "      <td>21503</td>\n",
       "      <td>2014</td>\n",
       "      <td>66.0</td>\n",
       "      <td>NaN</td>\n",
       "    </tr>\n",
       "    <tr>\n",
       "      <th>9</th>\n",
       "      <td>10</td>\n",
       "      <td>Avondale</td>\n",
       "      <td>153</td>\n",
       "      <td>16149</td>\n",
       "      <td>2014</td>\n",
       "      <td>9.0</td>\n",
       "      <td>NaN</td>\n",
       "    </tr>\n",
       "  </tbody>\n",
       "</table>\n",
       "</div>"
      ],
      "text/plain": [
       "   ID                  Area Name  Hood ID  Population 2023  Value Year  Count  \\\n",
       "0   1  South Eglinton-Davisville      174            21987        2014    5.0   \n",
       "1   2              North Toronto      173            15077        2014    4.0   \n",
       "2   3         Dovercourt Village      172            13837        2014    8.0   \n",
       "3   4   Junction-Wallace Emerson      171            26240        2014   19.0   \n",
       "4   5         Yonge-Bay Corridor      170            14731        2014   12.0   \n",
       "5   6             Bay-Cloverhill      169            19055        2014    6.0   \n",
       "6   7        Bendale-Glen Andrew      156            20773        2014   35.0   \n",
       "7   8                  Downsview      155            17003        2014   37.0   \n",
       "8   9   Oakdale-Beverley Heights      154            21503        2014   66.0   \n",
       "9  10                   Avondale      153            16149        2014    9.0   \n",
       "\n",
       "   Rate  \n",
       "0   NaN  \n",
       "1   NaN  \n",
       "2   NaN  \n",
       "3   NaN  \n",
       "4   NaN  \n",
       "5   NaN  \n",
       "6   NaN  \n",
       "7   NaN  \n",
       "8   NaN  \n",
       "9   NaN  "
      ]
     },
     "execution_count": 261,
     "metadata": {},
     "output_type": "execute_result"
    }
   ],
   "source": [
    "melted_df_new_col.head(10)"
   ]
  },
  {
   "cell_type": "code",
   "execution_count": 262,
   "metadata": {},
   "outputs": [
    {
     "data": {
      "text/html": [
       "<div>\n",
       "<style scoped>\n",
       "    .dataframe tbody tr th:only-of-type {\n",
       "        vertical-align: middle;\n",
       "    }\n",
       "\n",
       "    .dataframe tbody tr th {\n",
       "        vertical-align: top;\n",
       "    }\n",
       "\n",
       "    .dataframe thead th {\n",
       "        text-align: right;\n",
       "    }\n",
       "</style>\n",
       "<table border=\"1\" class=\"dataframe\">\n",
       "  <thead>\n",
       "    <tr style=\"text-align: right;\">\n",
       "      <th></th>\n",
       "      <th>ID</th>\n",
       "      <th>Area Name</th>\n",
       "      <th>Hood ID</th>\n",
       "      <th>Population 2023</th>\n",
       "      <th>Value Year</th>\n",
       "      <th>Count</th>\n",
       "      <th>Rate</th>\n",
       "    </tr>\n",
       "  </thead>\n",
       "  <tbody>\n",
       "    <tr>\n",
       "      <th>154</th>\n",
       "      <td>155</td>\n",
       "      <td>Black Creek</td>\n",
       "      <td>24</td>\n",
       "      <td>23047</td>\n",
       "      <td>2014</td>\n",
       "      <td>42.0</td>\n",
       "      <td>NaN</td>\n",
       "    </tr>\n",
       "    <tr>\n",
       "      <th>312</th>\n",
       "      <td>155</td>\n",
       "      <td>Black Creek</td>\n",
       "      <td>24</td>\n",
       "      <td>23047</td>\n",
       "      <td>2015</td>\n",
       "      <td>45.0</td>\n",
       "      <td>NaN</td>\n",
       "    </tr>\n",
       "    <tr>\n",
       "      <th>470</th>\n",
       "      <td>155</td>\n",
       "      <td>Black Creek</td>\n",
       "      <td>24</td>\n",
       "      <td>23047</td>\n",
       "      <td>2016</td>\n",
       "      <td>50.0</td>\n",
       "      <td>NaN</td>\n",
       "    </tr>\n",
       "    <tr>\n",
       "      <th>628</th>\n",
       "      <td>155</td>\n",
       "      <td>Black Creek</td>\n",
       "      <td>24</td>\n",
       "      <td>23047</td>\n",
       "      <td>2017</td>\n",
       "      <td>33.0</td>\n",
       "      <td>NaN</td>\n",
       "    </tr>\n",
       "    <tr>\n",
       "      <th>786</th>\n",
       "      <td>155</td>\n",
       "      <td>Black Creek</td>\n",
       "      <td>24</td>\n",
       "      <td>23047</td>\n",
       "      <td>2018</td>\n",
       "      <td>54.0</td>\n",
       "      <td>NaN</td>\n",
       "    </tr>\n",
       "    <tr>\n",
       "      <th>944</th>\n",
       "      <td>155</td>\n",
       "      <td>Black Creek</td>\n",
       "      <td>24</td>\n",
       "      <td>23047</td>\n",
       "      <td>2019</td>\n",
       "      <td>72.0</td>\n",
       "      <td>NaN</td>\n",
       "    </tr>\n",
       "    <tr>\n",
       "      <th>1102</th>\n",
       "      <td>155</td>\n",
       "      <td>Black Creek</td>\n",
       "      <td>24</td>\n",
       "      <td>23047</td>\n",
       "      <td>2020</td>\n",
       "      <td>80.0</td>\n",
       "      <td>NaN</td>\n",
       "    </tr>\n",
       "    <tr>\n",
       "      <th>1260</th>\n",
       "      <td>155</td>\n",
       "      <td>Black Creek</td>\n",
       "      <td>24</td>\n",
       "      <td>23047</td>\n",
       "      <td>2021</td>\n",
       "      <td>65.0</td>\n",
       "      <td>NaN</td>\n",
       "    </tr>\n",
       "    <tr>\n",
       "      <th>1418</th>\n",
       "      <td>155</td>\n",
       "      <td>Black Creek</td>\n",
       "      <td>24</td>\n",
       "      <td>23047</td>\n",
       "      <td>2022</td>\n",
       "      <td>70.0</td>\n",
       "      <td>NaN</td>\n",
       "    </tr>\n",
       "    <tr>\n",
       "      <th>1576</th>\n",
       "      <td>155</td>\n",
       "      <td>Black Creek</td>\n",
       "      <td>24</td>\n",
       "      <td>23047</td>\n",
       "      <td>2023</td>\n",
       "      <td>83.0</td>\n",
       "      <td>NaN</td>\n",
       "    </tr>\n",
       "    <tr>\n",
       "      <th>1734</th>\n",
       "      <td>155</td>\n",
       "      <td>Black Creek</td>\n",
       "      <td>24</td>\n",
       "      <td>23047</td>\n",
       "      <td>2014</td>\n",
       "      <td>NaN</td>\n",
       "      <td>186.982452</td>\n",
       "    </tr>\n",
       "    <tr>\n",
       "      <th>1892</th>\n",
       "      <td>155</td>\n",
       "      <td>Black Creek</td>\n",
       "      <td>24</td>\n",
       "      <td>23047</td>\n",
       "      <td>2015</td>\n",
       "      <td>NaN</td>\n",
       "      <td>201.712311</td>\n",
       "    </tr>\n",
       "    <tr>\n",
       "      <th>2050</th>\n",
       "      <td>155</td>\n",
       "      <td>Black Creek</td>\n",
       "      <td>24</td>\n",
       "      <td>23047</td>\n",
       "      <td>2016</td>\n",
       "      <td>NaN</td>\n",
       "      <td>225.164368</td>\n",
       "    </tr>\n",
       "    <tr>\n",
       "      <th>2208</th>\n",
       "      <td>155</td>\n",
       "      <td>Black Creek</td>\n",
       "      <td>24</td>\n",
       "      <td>23047</td>\n",
       "      <td>2017</td>\n",
       "      <td>NaN</td>\n",
       "      <td>147.150635</td>\n",
       "    </tr>\n",
       "    <tr>\n",
       "      <th>2366</th>\n",
       "      <td>155</td>\n",
       "      <td>Black Creek</td>\n",
       "      <td>24</td>\n",
       "      <td>23047</td>\n",
       "      <td>2018</td>\n",
       "      <td>NaN</td>\n",
       "      <td>238.011276</td>\n",
       "    </tr>\n",
       "    <tr>\n",
       "      <th>2524</th>\n",
       "      <td>155</td>\n",
       "      <td>Black Creek</td>\n",
       "      <td>24</td>\n",
       "      <td>23047</td>\n",
       "      <td>2019</td>\n",
       "      <td>NaN</td>\n",
       "      <td>314.547852</td>\n",
       "    </tr>\n",
       "    <tr>\n",
       "      <th>2682</th>\n",
       "      <td>155</td>\n",
       "      <td>Black Creek</td>\n",
       "      <td>24</td>\n",
       "      <td>23047</td>\n",
       "      <td>2020</td>\n",
       "      <td>NaN</td>\n",
       "      <td>349.162018</td>\n",
       "    </tr>\n",
       "    <tr>\n",
       "      <th>2840</th>\n",
       "      <td>155</td>\n",
       "      <td>Black Creek</td>\n",
       "      <td>24</td>\n",
       "      <td>23047</td>\n",
       "      <td>2021</td>\n",
       "      <td>NaN</td>\n",
       "      <td>285.137756</td>\n",
       "    </tr>\n",
       "    <tr>\n",
       "      <th>2998</th>\n",
       "      <td>155</td>\n",
       "      <td>Black Creek</td>\n",
       "      <td>24</td>\n",
       "      <td>23047</td>\n",
       "      <td>2022</td>\n",
       "      <td>NaN</td>\n",
       "      <td>305.970795</td>\n",
       "    </tr>\n",
       "    <tr>\n",
       "      <th>3156</th>\n",
       "      <td>155</td>\n",
       "      <td>Black Creek</td>\n",
       "      <td>24</td>\n",
       "      <td>23047</td>\n",
       "      <td>2023</td>\n",
       "      <td>NaN</td>\n",
       "      <td>360.133637</td>\n",
       "    </tr>\n",
       "  </tbody>\n",
       "</table>\n",
       "</div>"
      ],
      "text/plain": [
       "       ID    Area Name  Hood ID  Population 2023  Value Year  Count  \\\n",
       "154   155  Black Creek       24            23047        2014   42.0   \n",
       "312   155  Black Creek       24            23047        2015   45.0   \n",
       "470   155  Black Creek       24            23047        2016   50.0   \n",
       "628   155  Black Creek       24            23047        2017   33.0   \n",
       "786   155  Black Creek       24            23047        2018   54.0   \n",
       "944   155  Black Creek       24            23047        2019   72.0   \n",
       "1102  155  Black Creek       24            23047        2020   80.0   \n",
       "1260  155  Black Creek       24            23047        2021   65.0   \n",
       "1418  155  Black Creek       24            23047        2022   70.0   \n",
       "1576  155  Black Creek       24            23047        2023   83.0   \n",
       "1734  155  Black Creek       24            23047        2014    NaN   \n",
       "1892  155  Black Creek       24            23047        2015    NaN   \n",
       "2050  155  Black Creek       24            23047        2016    NaN   \n",
       "2208  155  Black Creek       24            23047        2017    NaN   \n",
       "2366  155  Black Creek       24            23047        2018    NaN   \n",
       "2524  155  Black Creek       24            23047        2019    NaN   \n",
       "2682  155  Black Creek       24            23047        2020    NaN   \n",
       "2840  155  Black Creek       24            23047        2021    NaN   \n",
       "2998  155  Black Creek       24            23047        2022    NaN   \n",
       "3156  155  Black Creek       24            23047        2023    NaN   \n",
       "\n",
       "            Rate  \n",
       "154          NaN  \n",
       "312          NaN  \n",
       "470          NaN  \n",
       "628          NaN  \n",
       "786          NaN  \n",
       "944          NaN  \n",
       "1102         NaN  \n",
       "1260         NaN  \n",
       "1418         NaN  \n",
       "1576         NaN  \n",
       "1734  186.982452  \n",
       "1892  201.712311  \n",
       "2050  225.164368  \n",
       "2208  147.150635  \n",
       "2366  238.011276  \n",
       "2524  314.547852  \n",
       "2682  349.162018  \n",
       "2840  285.137756  \n",
       "2998  305.970795  \n",
       "3156  360.133637  "
      ]
     },
     "execution_count": 262,
     "metadata": {},
     "output_type": "execute_result"
    }
   ],
   "source": [
    "# For testing purpose, show one area data. Black Creek was choosen\n",
    "melted_df_new_col[melted_df_new_col['Area Name'] == 'Black Creek']"
   ]
  },
  {
   "cell_type": "code",
   "execution_count": 263,
   "metadata": {},
   "outputs": [],
   "source": [
    "#  fill NaN values in the 'Count' and 'Rate' columns with the non-NaN value within the same 'Value Year' and same area'ID'\n",
    "\n",
    "melted_df_new_col['Count'] = melted_df_new_col.groupby(['Value Year', 'ID'])['Count'].fillna(method='ffill')\n",
    "melted_df_new_col['Rate'] = melted_df_new_col.groupby(['Value Year', 'ID'])['Rate'].fillna(method='ffill')"
   ]
  },
  {
   "cell_type": "code",
   "execution_count": 264,
   "metadata": {},
   "outputs": [
    {
     "data": {
      "text/html": [
       "<div>\n",
       "<style scoped>\n",
       "    .dataframe tbody tr th:only-of-type {\n",
       "        vertical-align: middle;\n",
       "    }\n",
       "\n",
       "    .dataframe tbody tr th {\n",
       "        vertical-align: top;\n",
       "    }\n",
       "\n",
       "    .dataframe thead th {\n",
       "        text-align: right;\n",
       "    }\n",
       "</style>\n",
       "<table border=\"1\" class=\"dataframe\">\n",
       "  <thead>\n",
       "    <tr style=\"text-align: right;\">\n",
       "      <th></th>\n",
       "      <th>ID</th>\n",
       "      <th>Area Name</th>\n",
       "      <th>Hood ID</th>\n",
       "      <th>Population 2023</th>\n",
       "      <th>Value Year</th>\n",
       "      <th>Count</th>\n",
       "      <th>Rate</th>\n",
       "    </tr>\n",
       "  </thead>\n",
       "  <tbody>\n",
       "    <tr>\n",
       "      <th>154</th>\n",
       "      <td>155</td>\n",
       "      <td>Black Creek</td>\n",
       "      <td>24</td>\n",
       "      <td>23047</td>\n",
       "      <td>2014</td>\n",
       "      <td>42.0</td>\n",
       "      <td>NaN</td>\n",
       "    </tr>\n",
       "    <tr>\n",
       "      <th>312</th>\n",
       "      <td>155</td>\n",
       "      <td>Black Creek</td>\n",
       "      <td>24</td>\n",
       "      <td>23047</td>\n",
       "      <td>2015</td>\n",
       "      <td>45.0</td>\n",
       "      <td>NaN</td>\n",
       "    </tr>\n",
       "    <tr>\n",
       "      <th>470</th>\n",
       "      <td>155</td>\n",
       "      <td>Black Creek</td>\n",
       "      <td>24</td>\n",
       "      <td>23047</td>\n",
       "      <td>2016</td>\n",
       "      <td>50.0</td>\n",
       "      <td>NaN</td>\n",
       "    </tr>\n",
       "    <tr>\n",
       "      <th>628</th>\n",
       "      <td>155</td>\n",
       "      <td>Black Creek</td>\n",
       "      <td>24</td>\n",
       "      <td>23047</td>\n",
       "      <td>2017</td>\n",
       "      <td>33.0</td>\n",
       "      <td>NaN</td>\n",
       "    </tr>\n",
       "    <tr>\n",
       "      <th>786</th>\n",
       "      <td>155</td>\n",
       "      <td>Black Creek</td>\n",
       "      <td>24</td>\n",
       "      <td>23047</td>\n",
       "      <td>2018</td>\n",
       "      <td>54.0</td>\n",
       "      <td>NaN</td>\n",
       "    </tr>\n",
       "    <tr>\n",
       "      <th>944</th>\n",
       "      <td>155</td>\n",
       "      <td>Black Creek</td>\n",
       "      <td>24</td>\n",
       "      <td>23047</td>\n",
       "      <td>2019</td>\n",
       "      <td>72.0</td>\n",
       "      <td>NaN</td>\n",
       "    </tr>\n",
       "    <tr>\n",
       "      <th>1102</th>\n",
       "      <td>155</td>\n",
       "      <td>Black Creek</td>\n",
       "      <td>24</td>\n",
       "      <td>23047</td>\n",
       "      <td>2020</td>\n",
       "      <td>80.0</td>\n",
       "      <td>NaN</td>\n",
       "    </tr>\n",
       "    <tr>\n",
       "      <th>1260</th>\n",
       "      <td>155</td>\n",
       "      <td>Black Creek</td>\n",
       "      <td>24</td>\n",
       "      <td>23047</td>\n",
       "      <td>2021</td>\n",
       "      <td>65.0</td>\n",
       "      <td>NaN</td>\n",
       "    </tr>\n",
       "    <tr>\n",
       "      <th>1418</th>\n",
       "      <td>155</td>\n",
       "      <td>Black Creek</td>\n",
       "      <td>24</td>\n",
       "      <td>23047</td>\n",
       "      <td>2022</td>\n",
       "      <td>70.0</td>\n",
       "      <td>NaN</td>\n",
       "    </tr>\n",
       "    <tr>\n",
       "      <th>1576</th>\n",
       "      <td>155</td>\n",
       "      <td>Black Creek</td>\n",
       "      <td>24</td>\n",
       "      <td>23047</td>\n",
       "      <td>2023</td>\n",
       "      <td>83.0</td>\n",
       "      <td>NaN</td>\n",
       "    </tr>\n",
       "    <tr>\n",
       "      <th>1734</th>\n",
       "      <td>155</td>\n",
       "      <td>Black Creek</td>\n",
       "      <td>24</td>\n",
       "      <td>23047</td>\n",
       "      <td>2014</td>\n",
       "      <td>42.0</td>\n",
       "      <td>186.982452</td>\n",
       "    </tr>\n",
       "    <tr>\n",
       "      <th>1892</th>\n",
       "      <td>155</td>\n",
       "      <td>Black Creek</td>\n",
       "      <td>24</td>\n",
       "      <td>23047</td>\n",
       "      <td>2015</td>\n",
       "      <td>45.0</td>\n",
       "      <td>201.712311</td>\n",
       "    </tr>\n",
       "    <tr>\n",
       "      <th>2050</th>\n",
       "      <td>155</td>\n",
       "      <td>Black Creek</td>\n",
       "      <td>24</td>\n",
       "      <td>23047</td>\n",
       "      <td>2016</td>\n",
       "      <td>50.0</td>\n",
       "      <td>225.164368</td>\n",
       "    </tr>\n",
       "    <tr>\n",
       "      <th>2208</th>\n",
       "      <td>155</td>\n",
       "      <td>Black Creek</td>\n",
       "      <td>24</td>\n",
       "      <td>23047</td>\n",
       "      <td>2017</td>\n",
       "      <td>33.0</td>\n",
       "      <td>147.150635</td>\n",
       "    </tr>\n",
       "    <tr>\n",
       "      <th>2366</th>\n",
       "      <td>155</td>\n",
       "      <td>Black Creek</td>\n",
       "      <td>24</td>\n",
       "      <td>23047</td>\n",
       "      <td>2018</td>\n",
       "      <td>54.0</td>\n",
       "      <td>238.011276</td>\n",
       "    </tr>\n",
       "    <tr>\n",
       "      <th>2524</th>\n",
       "      <td>155</td>\n",
       "      <td>Black Creek</td>\n",
       "      <td>24</td>\n",
       "      <td>23047</td>\n",
       "      <td>2019</td>\n",
       "      <td>72.0</td>\n",
       "      <td>314.547852</td>\n",
       "    </tr>\n",
       "    <tr>\n",
       "      <th>2682</th>\n",
       "      <td>155</td>\n",
       "      <td>Black Creek</td>\n",
       "      <td>24</td>\n",
       "      <td>23047</td>\n",
       "      <td>2020</td>\n",
       "      <td>80.0</td>\n",
       "      <td>349.162018</td>\n",
       "    </tr>\n",
       "    <tr>\n",
       "      <th>2840</th>\n",
       "      <td>155</td>\n",
       "      <td>Black Creek</td>\n",
       "      <td>24</td>\n",
       "      <td>23047</td>\n",
       "      <td>2021</td>\n",
       "      <td>65.0</td>\n",
       "      <td>285.137756</td>\n",
       "    </tr>\n",
       "    <tr>\n",
       "      <th>2998</th>\n",
       "      <td>155</td>\n",
       "      <td>Black Creek</td>\n",
       "      <td>24</td>\n",
       "      <td>23047</td>\n",
       "      <td>2022</td>\n",
       "      <td>70.0</td>\n",
       "      <td>305.970795</td>\n",
       "    </tr>\n",
       "    <tr>\n",
       "      <th>3156</th>\n",
       "      <td>155</td>\n",
       "      <td>Black Creek</td>\n",
       "      <td>24</td>\n",
       "      <td>23047</td>\n",
       "      <td>2023</td>\n",
       "      <td>83.0</td>\n",
       "      <td>360.133637</td>\n",
       "    </tr>\n",
       "  </tbody>\n",
       "</table>\n",
       "</div>"
      ],
      "text/plain": [
       "       ID    Area Name  Hood ID  Population 2023  Value Year  Count  \\\n",
       "154   155  Black Creek       24            23047        2014   42.0   \n",
       "312   155  Black Creek       24            23047        2015   45.0   \n",
       "470   155  Black Creek       24            23047        2016   50.0   \n",
       "628   155  Black Creek       24            23047        2017   33.0   \n",
       "786   155  Black Creek       24            23047        2018   54.0   \n",
       "944   155  Black Creek       24            23047        2019   72.0   \n",
       "1102  155  Black Creek       24            23047        2020   80.0   \n",
       "1260  155  Black Creek       24            23047        2021   65.0   \n",
       "1418  155  Black Creek       24            23047        2022   70.0   \n",
       "1576  155  Black Creek       24            23047        2023   83.0   \n",
       "1734  155  Black Creek       24            23047        2014   42.0   \n",
       "1892  155  Black Creek       24            23047        2015   45.0   \n",
       "2050  155  Black Creek       24            23047        2016   50.0   \n",
       "2208  155  Black Creek       24            23047        2017   33.0   \n",
       "2366  155  Black Creek       24            23047        2018   54.0   \n",
       "2524  155  Black Creek       24            23047        2019   72.0   \n",
       "2682  155  Black Creek       24            23047        2020   80.0   \n",
       "2840  155  Black Creek       24            23047        2021   65.0   \n",
       "2998  155  Black Creek       24            23047        2022   70.0   \n",
       "3156  155  Black Creek       24            23047        2023   83.0   \n",
       "\n",
       "            Rate  \n",
       "154          NaN  \n",
       "312          NaN  \n",
       "470          NaN  \n",
       "628          NaN  \n",
       "786          NaN  \n",
       "944          NaN  \n",
       "1102         NaN  \n",
       "1260         NaN  \n",
       "1418         NaN  \n",
       "1576         NaN  \n",
       "1734  186.982452  \n",
       "1892  201.712311  \n",
       "2050  225.164368  \n",
       "2208  147.150635  \n",
       "2366  238.011276  \n",
       "2524  314.547852  \n",
       "2682  349.162018  \n",
       "2840  285.137756  \n",
       "2998  305.970795  \n",
       "3156  360.133637  "
      ]
     },
     "execution_count": 264,
     "metadata": {},
     "output_type": "execute_result"
    }
   ],
   "source": [
    "melted_df_new_col[melted_df_new_col['Area Name'] == 'Black Creek']"
   ]
  },
  {
   "cell_type": "code",
   "execution_count": 265,
   "metadata": {},
   "outputs": [],
   "source": [
    "# Create a filtered DataFrame to include only rows where 'Rate' is not NaN\n",
    "\n",
    "final_df = melted_df_new_col.dropna(subset=['Rate'])\n"
   ]
  },
  {
   "cell_type": "code",
   "execution_count": 231,
   "metadata": {},
   "outputs": [],
   "source": [
    "# pd.set_option('display.max_rows', None)"
   ]
  },
  {
   "cell_type": "code",
   "execution_count": 234,
   "metadata": {},
   "outputs": [],
   "source": [
    "# Export DataFrame to CSV file\n",
    "final_df.to_csv('toronto_autotheft_neighbourhood-crime-rates.csv', index=False)"
   ]
  },
  {
   "cell_type": "code",
   "execution_count": 267,
   "metadata": {},
   "outputs": [
    {
     "data": {
      "text/html": [
       "<div>\n",
       "<style scoped>\n",
       "    .dataframe tbody tr th:only-of-type {\n",
       "        vertical-align: middle;\n",
       "    }\n",
       "\n",
       "    .dataframe tbody tr th {\n",
       "        vertical-align: top;\n",
       "    }\n",
       "\n",
       "    .dataframe thead th {\n",
       "        text-align: right;\n",
       "    }\n",
       "</style>\n",
       "<table border=\"1\" class=\"dataframe\">\n",
       "  <thead>\n",
       "    <tr style=\"text-align: right;\">\n",
       "      <th></th>\n",
       "      <th>ID</th>\n",
       "      <th>Hood ID</th>\n",
       "      <th>Population 2023</th>\n",
       "      <th>Value Year</th>\n",
       "      <th>Count</th>\n",
       "      <th>Rate</th>\n",
       "    </tr>\n",
       "  </thead>\n",
       "  <tbody>\n",
       "    <tr>\n",
       "      <th>count</th>\n",
       "      <td>1578.000000</td>\n",
       "      <td>1578.000000</td>\n",
       "      <td>1578.000000</td>\n",
       "      <td>1578.000000</td>\n",
       "      <td>1578.000000</td>\n",
       "      <td>1578.000000</td>\n",
       "    </tr>\n",
       "    <tr>\n",
       "      <th>mean</th>\n",
       "      <td>79.524081</td>\n",
       "      <td>88.093790</td>\n",
       "      <td>19076.811153</td>\n",
       "      <td>2018.503169</td>\n",
       "      <td>36.603929</td>\n",
       "      <td>191.108889</td>\n",
       "    </tr>\n",
       "    <tr>\n",
       "      <th>std</th>\n",
       "      <td>45.628560</td>\n",
       "      <td>51.100211</td>\n",
       "      <td>6709.627365</td>\n",
       "      <td>2.873411</td>\n",
       "      <td>49.993249</td>\n",
       "      <td>185.553784</td>\n",
       "    </tr>\n",
       "    <tr>\n",
       "      <th>min</th>\n",
       "      <td>1.000000</td>\n",
       "      <td>1.000000</td>\n",
       "      <td>7057.000000</td>\n",
       "      <td>2014.000000</td>\n",
       "      <td>1.000000</td>\n",
       "      <td>6.854479</td>\n",
       "    </tr>\n",
       "    <tr>\n",
       "      <th>25%</th>\n",
       "      <td>40.000000</td>\n",
       "      <td>43.000000</td>\n",
       "      <td>13743.000000</td>\n",
       "      <td>2016.000000</td>\n",
       "      <td>13.000000</td>\n",
       "      <td>84.668636</td>\n",
       "    </tr>\n",
       "    <tr>\n",
       "      <th>50%</th>\n",
       "      <td>79.500000</td>\n",
       "      <td>88.500000</td>\n",
       "      <td>18084.000000</td>\n",
       "      <td>2019.000000</td>\n",
       "      <td>23.000000</td>\n",
       "      <td>138.933624</td>\n",
       "    </tr>\n",
       "    <tr>\n",
       "      <th>75%</th>\n",
       "      <td>119.000000</td>\n",
       "      <td>134.000000</td>\n",
       "      <td>23485.000000</td>\n",
       "      <td>2021.000000</td>\n",
       "      <td>43.000000</td>\n",
       "      <td>231.346081</td>\n",
       "    </tr>\n",
       "    <tr>\n",
       "      <th>max</th>\n",
       "      <td>158.000000</td>\n",
       "      <td>174.000000</td>\n",
       "      <td>36388.000000</td>\n",
       "      <td>2023.000000</td>\n",
       "      <td>829.000000</td>\n",
       "      <td>2278.223633</td>\n",
       "    </tr>\n",
       "  </tbody>\n",
       "</table>\n",
       "</div>"
      ],
      "text/plain": [
       "                ID      Hood ID  Population 2023   Value Year        Count  \\\n",
       "count  1578.000000  1578.000000      1578.000000  1578.000000  1578.000000   \n",
       "mean     79.524081    88.093790     19076.811153  2018.503169    36.603929   \n",
       "std      45.628560    51.100211      6709.627365     2.873411    49.993249   \n",
       "min       1.000000     1.000000      7057.000000  2014.000000     1.000000   \n",
       "25%      40.000000    43.000000     13743.000000  2016.000000    13.000000   \n",
       "50%      79.500000    88.500000     18084.000000  2019.000000    23.000000   \n",
       "75%     119.000000   134.000000     23485.000000  2021.000000    43.000000   \n",
       "max     158.000000   174.000000     36388.000000  2023.000000   829.000000   \n",
       "\n",
       "              Rate  \n",
       "count  1578.000000  \n",
       "mean    191.108889  \n",
       "std     185.553784  \n",
       "min       6.854479  \n",
       "25%      84.668636  \n",
       "50%     138.933624  \n",
       "75%     231.346081  \n",
       "max    2278.223633  "
      ]
     },
     "execution_count": 267,
     "metadata": {},
     "output_type": "execute_result"
    }
   ],
   "source": [
    "final_df.describe()"
   ]
  },
  {
   "cell_type": "code",
   "execution_count": 332,
   "metadata": {},
   "outputs": [],
   "source": [
    "# # Change the scope of data to show only the Top 20 Areas at 2023 by total Crims over the past 10 years\n",
    "\n",
    "# Filter final_df for the year 2023\n",
    "final_df_2023 = final_df[final_df['Value Year'] == 2023]\n",
    "\n",
    "# Group by 'Area Name' and calculate the total count\n",
    "area_count_2023 = final_df_2023.groupby('Area Name')['Count'].sum()\n",
    "\n",
    "# Sort the counts in descending order and select the top 20\n",
    "top_20_areas_2023 = area_count_2023.nlargest(20)\n",
    "\n"
   ]
  },
  {
   "cell_type": "code",
   "execution_count": null,
   "metadata": {},
   "outputs": [],
   "source": [
    "top_20_final_df=final_df[final_df['Area Name'].isin(top_20_areas_2023.nlargest(20).index)]"
   ]
  },
  {
   "cell_type": "code",
   "execution_count": null,
   "metadata": {},
   "outputs": [],
   "source": [
    "# Export the top 20 areas DataFrame to CSV file\n",
    "top_20_final_df.to_csv('top_20_toronto_autotheft_neighbourhood-crime-rates.csv', index=False)"
   ]
  },
  {
   "cell_type": "code",
   "execution_count": 363,
   "metadata": {},
   "outputs": [],
   "source": [
    "# # Change the scope of data to show only the Top 10 Areas at 2023 by total Crims over the past 10 years\n",
    "\n",
    "# Filter final_df for the year 2023\n",
    "final_df_2023 = final_df[final_df['Value Year'] == 2023]\n",
    "\n",
    "# Group by 'Area Name' and calculate the total count\n",
    "area_count_2023 = final_df_2023.groupby('Area Name')['Count'].sum()\n",
    "\n",
    "# Sort the counts in descending order and select the top 10\n",
    "top_10_areas_2023 = area_count_2023.nlargest(10)\n",
    "\n"
   ]
  },
  {
   "cell_type": "code",
   "execution_count": 414,
   "metadata": {},
   "outputs": [
    {
     "name": "stderr",
     "output_type": "stream",
     "text": [
      "C:\\Users\\a.alhuraibi\\AppData\\Local\\Temp\\ipykernel_17916\\1103786887.py:3: SettingWithCopyWarning:\n",
      "\n",
      "\n",
      "A value is trying to be set on a copy of a slice from a DataFrame.\n",
      "Try using .loc[row_indexer,col_indexer] = value instead\n",
      "\n",
      "See the caveats in the documentation: https://pandas.pydata.org/pandas-docs/stable/user_guide/indexing.html#returning-a-view-versus-a-copy\n",
      "\n",
      "C:\\Users\\a.alhuraibi\\AppData\\Local\\Temp\\ipykernel_17916\\1103786887.py:4: SettingWithCopyWarning:\n",
      "\n",
      "\n",
      "A value is trying to be set on a copy of a slice from a DataFrame.\n",
      "Try using .loc[row_indexer,col_indexer] = value instead\n",
      "\n",
      "See the caveats in the documentation: https://pandas.pydata.org/pandas-docs/stable/user_guide/indexing.html#returning-a-view-versus-a-copy\n",
      "\n"
     ]
    }
   ],
   "source": [
    "top_10_final_df=final_df[final_df['Area Name'].isin(top_10_areas_2023.nlargest(10).index)]\n",
    "# top_10_final_df['Area'] = top_10_final_df['Area Name'] + ' (' + top_10_final_df['Hood ID'].astype(str) + ')'\n",
    "top_10_final_df['Initials'] = top_10_final_df['Area Name'].apply(lambda x: ''.join([word[0] for word in x.split()]))\n",
    "top_10_final_df['Area'] = top_10_final_df['Area Name'] + ' (' + top_10_final_df['Initials'].astype(str) + ')'\n",
    "\n"
   ]
  },
  {
   "cell_type": "code",
   "execution_count": 411,
   "metadata": {},
   "outputs": [],
   "source": [
    "# Export the top 10 areas DataFrame to CSV file\n",
    "top_10_final_df.to_csv('top_10_toronto_autotheft_neighbourhood-crime-rates.csv', index=False)"
   ]
  },
  {
   "cell_type": "code",
   "execution_count": 668,
   "metadata": {},
   "outputs": [
    {
     "data": {
      "application/vnd.plotly.v1+json": {
       "config": {
        "plotlyServerURL": "https://plot.ly"
       },
       "data": [
        {
         "customdata": [
          [
           "Milliken"
          ]
         ],
         "hovertemplate": "Area=Milliken (M)<br>Value Year=2014<br>Count=%{x}<br>Population 2023=%{y}<br>Rate=%{marker.size}<br>Initials=%{text}<br>Area Name=%{customdata[0]}<extra></extra>",
         "legendgroup": "Milliken (M)",
         "marker": {
          "color": "purple",
          "opacity": 0.35,
          "size": [
           143.1087646
          ],
          "sizemode": "area",
          "sizeref": 0.9112894532,
          "symbol": "circle"
         },
         "mode": "markers+text",
         "name": "Milliken (M)",
         "orientation": "v",
         "showlegend": true,
         "text": [
          "M"
         ],
         "type": "scatter",
         "x": [
          39
         ],
         "xaxis": "x",
         "y": [
          28371
         ],
         "yaxis": "y"
        },
        {
         "customdata": [
          [
           "Etobicoke City Centre"
          ]
         ],
         "hovertemplate": "Area=Etobicoke City Centre (ECC)<br>Value Year=2014<br>Count=%{x}<br>Population 2023=%{y}<br>Rate=%{marker.size}<br>Initials=%{text}<br>Area Name=%{customdata[0]}<extra></extra>",
         "legendgroup": "Etobicoke City Centre (ECC)",
         "marker": {
          "color": "hotpink",
          "opacity": 0.35,
          "size": [
           328.9642639
          ],
          "sizemode": "area",
          "sizeref": 0.9112894532,
          "symbol": "circle"
         },
         "mode": "markers+text",
         "name": "Etobicoke City Centre (ECC)",
         "orientation": "v",
         "showlegend": true,
         "text": [
          "ECC"
         ],
         "type": "scatter",
         "x": [
          64
         ],
         "xaxis": "x",
         "y": [
          25495
         ],
         "yaxis": "y"
        },
        {
         "customdata": [
          [
           "Islington"
          ]
         ],
         "hovertemplate": "Area=Islington (I)<br>Value Year=2014<br>Count=%{x}<br>Population 2023=%{y}<br>Rate=%{marker.size}<br>Initials=%{text}<br>Area Name=%{customdata[0]}<extra></extra>",
         "legendgroup": "Islington (I)",
         "marker": {
          "color": "deepskyblue",
          "opacity": 0.35,
          "size": [
           112.5589828
          ],
          "sizemode": "area",
          "sizeref": 0.9112894532,
          "symbol": "circle"
         },
         "mode": "markers+text",
         "name": "Islington (I)",
         "orientation": "v",
         "showlegend": true,
         "text": [
          "I"
         ],
         "type": "scatter",
         "x": [
          26
         ],
         "xaxis": "x",
         "y": [
          25937
         ],
         "yaxis": "y"
        },
        {
         "customdata": [
          [
           "Wexford/Maryvale"
          ]
         ],
         "hovertemplate": "Area=Wexford/Maryvale (W)<br>Value Year=2014<br>Count=%{x}<br>Population 2023=%{y}<br>Rate=%{marker.size}<br>Initials=%{text}<br>Area Name=%{customdata[0]}<extra></extra>",
         "legendgroup": "Wexford/Maryvale (W)",
         "marker": {
          "color": "yellowgreen",
          "opacity": 0.35,
          "size": [
           209.2792206
          ],
          "sizemode": "area",
          "sizeref": 0.9112894532,
          "symbol": "circle"
         },
         "mode": "markers+text",
         "name": "Wexford/Maryvale (W)",
         "orientation": "v",
         "showlegend": true,
         "text": [
          "W"
         ],
         "type": "scatter",
         "x": [
          59
         ],
         "xaxis": "x",
         "y": [
          29870
         ],
         "yaxis": "y"
        },
        {
         "customdata": [
          [
           "Don Valley Village"
          ]
         ],
         "hovertemplate": "Area=Don Valley Village (DVV)<br>Value Year=2014<br>Count=%{x}<br>Population 2023=%{y}<br>Rate=%{marker.size}<br>Initials=%{text}<br>Area Name=%{customdata[0]}<extra></extra>",
         "legendgroup": "Don Valley Village (DVV)",
         "marker": {
          "color": "lightcoral",
          "opacity": 0.35,
          "size": [
           180.4402771
          ],
          "sizemode": "area",
          "sizeref": 0.9112894532,
          "symbol": "circle"
         },
         "mode": "markers+text",
         "name": "Don Valley Village (DVV)",
         "orientation": "v",
         "showlegend": true,
         "text": [
          "DVV"
         ],
         "type": "scatter",
         "x": [
          50
         ],
         "xaxis": "x",
         "y": [
          29424
         ],
         "yaxis": "y"
        },
        {
         "customdata": [
          [
           "Bedford Park-Nortown"
          ]
         ],
         "hovertemplate": "Area=Bedford Park-Nortown (BP)<br>Value Year=2014<br>Count=%{x}<br>Population 2023=%{y}<br>Rate=%{marker.size}<br>Initials=%{text}<br>Area Name=%{customdata[0]}<extra></extra>",
         "legendgroup": "Bedford Park-Nortown (BP)",
         "marker": {
          "color": "lightseagreen",
          "opacity": 0.35,
          "size": [
           169.7648773
          ],
          "sizemode": "area",
          "sizeref": 0.9112894532,
          "symbol": "circle"
         },
         "mode": "markers+text",
         "name": "Bedford Park-Nortown (BP)",
         "orientation": "v",
         "showlegend": true,
         "text": [
          "BP"
         ],
         "type": "scatter",
         "x": [
          40
         ],
         "xaxis": "x",
         "y": [
          25583
         ],
         "yaxis": "y"
        },
        {
         "customdata": [
          [
           "Newtonbrook West"
          ]
         ],
         "hovertemplate": "Area=Newtonbrook West (NW)<br>Value Year=2014<br>Count=%{x}<br>Population 2023=%{y}<br>Rate=%{marker.size}<br>Initials=%{text}<br>Area Name=%{customdata[0]}<extra></extra>",
         "legendgroup": "Newtonbrook West (NW)",
         "marker": {
          "color": "gold",
          "opacity": 0.35,
          "size": [
           206.3387299
          ],
          "sizemode": "area",
          "sizeref": 0.9112894532,
          "symbol": "circle"
         },
         "mode": "markers+text",
         "name": "Newtonbrook West (NW)",
         "orientation": "v",
         "showlegend": true,
         "text": [
          "NW"
         ],
         "type": "scatter",
         "x": [
          50
         ],
         "xaxis": "x",
         "y": [
          26265
         ],
         "yaxis": "y"
        },
        {
         "customdata": [
          [
           "Yorkdale-Glen Park"
          ]
         ],
         "hovertemplate": "Area=Yorkdale-Glen Park (YP)<br>Value Year=2014<br>Count=%{x}<br>Population 2023=%{y}<br>Rate=%{marker.size}<br>Initials=%{text}<br>Area Name=%{customdata[0]}<extra></extra>",
         "legendgroup": "Yorkdale-Glen Park (YP)",
         "marker": {
          "color": "lightsteelblue",
          "opacity": 0.35,
          "size": [
           463.4433289
          ],
          "sizemode": "area",
          "sizeref": 0.9112894532,
          "symbol": "circle"
         },
         "mode": "markers+text",
         "name": "Yorkdale-Glen Park (YP)",
         "orientation": "v",
         "showlegend": true,
         "text": [
          "YP"
         ],
         "type": "scatter",
         "x": [
          67
         ],
         "xaxis": "x",
         "y": [
          17258
         ],
         "yaxis": "y"
        },
        {
         "customdata": [
          [
           "York University Heights"
          ]
         ],
         "hovertemplate": "Area=York University Heights (YUH)<br>Value Year=2014<br>Count=%{x}<br>Population 2023=%{y}<br>Rate=%{marker.size}<br>Initials=%{text}<br>Area Name=%{customdata[0]}<extra></extra>",
         "legendgroup": "York University Heights (YUH)",
         "marker": {
          "color": "palegreen",
          "opacity": 0.35,
          "size": [
           374.7267761
          ],
          "sizemode": "area",
          "sizeref": 0.9112894532,
          "symbol": "circle"
         },
         "mode": "markers+text",
         "name": "York University Heights (YUH)",
         "orientation": "v",
         "showlegend": true,
         "text": [
          "YUH"
         ],
         "type": "scatter",
         "x": [
          108
         ],
         "xaxis": "x",
         "y": [
          29897
         ],
         "yaxis": "y"
        },
        {
         "customdata": [
          [
           "West Humber-Clairville"
          ]
         ],
         "hovertemplate": "Area=West Humber-Clairville (WH)<br>Value Year=2014<br>Count=%{x}<br>Population 2023=%{y}<br>Rate=%{marker.size}<br>Initials=%{text}<br>Area Name=%{customdata[0]}<extra></extra>",
         "legendgroup": "West Humber-Clairville (WH)",
         "marker": {
          "color": "Gray",
          "opacity": 0.35,
          "size": [
           897.2907104
          ],
          "sizemode": "area",
          "sizeref": 0.9112894532,
          "symbol": "circle"
         },
         "mode": "markers+text",
         "name": "West Humber-Clairville (WH)",
         "orientation": "v",
         "showlegend": true,
         "text": [
          "WH"
         ],
         "type": "scatter",
         "x": [
          309
         ],
         "xaxis": "x",
         "y": [
          36388
         ],
         "yaxis": "y"
        }
       ],
       "frames": [
        {
         "data": [
          {
           "customdata": [
            [
             "Milliken"
            ]
           ],
           "hovertemplate": "Area=Milliken (M)<br>Value Year=2014<br>Count=%{x}<br>Population 2023=%{y}<br>Rate=%{marker.size}<br>Initials=%{text}<br>Area Name=%{customdata[0]}<extra></extra>",
           "legendgroup": "Milliken (M)",
           "marker": {
            "color": "purple",
            "opacity": 0.35,
            "size": [
             143.1087646
            ],
            "sizemode": "area",
            "sizeref": 0.9112894532,
            "symbol": "circle"
           },
           "mode": "markers+text",
           "name": "Milliken (M)",
           "orientation": "v",
           "showlegend": true,
           "text": [
            "M"
           ],
           "type": "scatter",
           "x": [
            39
           ],
           "xaxis": "x",
           "y": [
            28371
           ],
           "yaxis": "y"
          },
          {
           "customdata": [
            [
             "Etobicoke City Centre"
            ]
           ],
           "hovertemplate": "Area=Etobicoke City Centre (ECC)<br>Value Year=2014<br>Count=%{x}<br>Population 2023=%{y}<br>Rate=%{marker.size}<br>Initials=%{text}<br>Area Name=%{customdata[0]}<extra></extra>",
           "legendgroup": "Etobicoke City Centre (ECC)",
           "marker": {
            "color": "hotpink",
            "opacity": 0.35,
            "size": [
             328.9642639
            ],
            "sizemode": "area",
            "sizeref": 0.9112894532,
            "symbol": "circle"
           },
           "mode": "markers+text",
           "name": "Etobicoke City Centre (ECC)",
           "orientation": "v",
           "showlegend": true,
           "text": [
            "ECC"
           ],
           "type": "scatter",
           "x": [
            64
           ],
           "xaxis": "x",
           "y": [
            25495
           ],
           "yaxis": "y"
          },
          {
           "customdata": [
            [
             "Islington"
            ]
           ],
           "hovertemplate": "Area=Islington (I)<br>Value Year=2014<br>Count=%{x}<br>Population 2023=%{y}<br>Rate=%{marker.size}<br>Initials=%{text}<br>Area Name=%{customdata[0]}<extra></extra>",
           "legendgroup": "Islington (I)",
           "marker": {
            "color": "deepskyblue",
            "opacity": 0.35,
            "size": [
             112.5589828
            ],
            "sizemode": "area",
            "sizeref": 0.9112894532,
            "symbol": "circle"
           },
           "mode": "markers+text",
           "name": "Islington (I)",
           "orientation": "v",
           "showlegend": true,
           "text": [
            "I"
           ],
           "type": "scatter",
           "x": [
            26
           ],
           "xaxis": "x",
           "y": [
            25937
           ],
           "yaxis": "y"
          },
          {
           "customdata": [
            [
             "Wexford/Maryvale"
            ]
           ],
           "hovertemplate": "Area=Wexford/Maryvale (W)<br>Value Year=2014<br>Count=%{x}<br>Population 2023=%{y}<br>Rate=%{marker.size}<br>Initials=%{text}<br>Area Name=%{customdata[0]}<extra></extra>",
           "legendgroup": "Wexford/Maryvale (W)",
           "marker": {
            "color": "yellowgreen",
            "opacity": 0.35,
            "size": [
             209.2792206
            ],
            "sizemode": "area",
            "sizeref": 0.9112894532,
            "symbol": "circle"
           },
           "mode": "markers+text",
           "name": "Wexford/Maryvale (W)",
           "orientation": "v",
           "showlegend": true,
           "text": [
            "W"
           ],
           "type": "scatter",
           "x": [
            59
           ],
           "xaxis": "x",
           "y": [
            29870
           ],
           "yaxis": "y"
          },
          {
           "customdata": [
            [
             "Don Valley Village"
            ]
           ],
           "hovertemplate": "Area=Don Valley Village (DVV)<br>Value Year=2014<br>Count=%{x}<br>Population 2023=%{y}<br>Rate=%{marker.size}<br>Initials=%{text}<br>Area Name=%{customdata[0]}<extra></extra>",
           "legendgroup": "Don Valley Village (DVV)",
           "marker": {
            "color": "lightcoral",
            "opacity": 0.35,
            "size": [
             180.4402771
            ],
            "sizemode": "area",
            "sizeref": 0.9112894532,
            "symbol": "circle"
           },
           "mode": "markers+text",
           "name": "Don Valley Village (DVV)",
           "orientation": "v",
           "showlegend": true,
           "text": [
            "DVV"
           ],
           "type": "scatter",
           "x": [
            50
           ],
           "xaxis": "x",
           "y": [
            29424
           ],
           "yaxis": "y"
          },
          {
           "customdata": [
            [
             "Bedford Park-Nortown"
            ]
           ],
           "hovertemplate": "Area=Bedford Park-Nortown (BP)<br>Value Year=2014<br>Count=%{x}<br>Population 2023=%{y}<br>Rate=%{marker.size}<br>Initials=%{text}<br>Area Name=%{customdata[0]}<extra></extra>",
           "legendgroup": "Bedford Park-Nortown (BP)",
           "marker": {
            "color": "lightseagreen",
            "opacity": 0.35,
            "size": [
             169.7648773
            ],
            "sizemode": "area",
            "sizeref": 0.9112894532,
            "symbol": "circle"
           },
           "mode": "markers+text",
           "name": "Bedford Park-Nortown (BP)",
           "orientation": "v",
           "showlegend": true,
           "text": [
            "BP"
           ],
           "type": "scatter",
           "x": [
            40
           ],
           "xaxis": "x",
           "y": [
            25583
           ],
           "yaxis": "y"
          },
          {
           "customdata": [
            [
             "Newtonbrook West"
            ]
           ],
           "hovertemplate": "Area=Newtonbrook West (NW)<br>Value Year=2014<br>Count=%{x}<br>Population 2023=%{y}<br>Rate=%{marker.size}<br>Initials=%{text}<br>Area Name=%{customdata[0]}<extra></extra>",
           "legendgroup": "Newtonbrook West (NW)",
           "marker": {
            "color": "gold",
            "opacity": 0.35,
            "size": [
             206.3387299
            ],
            "sizemode": "area",
            "sizeref": 0.9112894532,
            "symbol": "circle"
           },
           "mode": "markers+text",
           "name": "Newtonbrook West (NW)",
           "orientation": "v",
           "showlegend": true,
           "text": [
            "NW"
           ],
           "type": "scatter",
           "x": [
            50
           ],
           "xaxis": "x",
           "y": [
            26265
           ],
           "yaxis": "y"
          },
          {
           "customdata": [
            [
             "Yorkdale-Glen Park"
            ]
           ],
           "hovertemplate": "Area=Yorkdale-Glen Park (YP)<br>Value Year=2014<br>Count=%{x}<br>Population 2023=%{y}<br>Rate=%{marker.size}<br>Initials=%{text}<br>Area Name=%{customdata[0]}<extra></extra>",
           "legendgroup": "Yorkdale-Glen Park (YP)",
           "marker": {
            "color": "lightsteelblue",
            "opacity": 0.35,
            "size": [
             463.4433289
            ],
            "sizemode": "area",
            "sizeref": 0.9112894532,
            "symbol": "circle"
           },
           "mode": "markers+text",
           "name": "Yorkdale-Glen Park (YP)",
           "orientation": "v",
           "showlegend": true,
           "text": [
            "YP"
           ],
           "type": "scatter",
           "x": [
            67
           ],
           "xaxis": "x",
           "y": [
            17258
           ],
           "yaxis": "y"
          },
          {
           "customdata": [
            [
             "York University Heights"
            ]
           ],
           "hovertemplate": "Area=York University Heights (YUH)<br>Value Year=2014<br>Count=%{x}<br>Population 2023=%{y}<br>Rate=%{marker.size}<br>Initials=%{text}<br>Area Name=%{customdata[0]}<extra></extra>",
           "legendgroup": "York University Heights (YUH)",
           "marker": {
            "color": "palegreen",
            "opacity": 0.35,
            "size": [
             374.7267761
            ],
            "sizemode": "area",
            "sizeref": 0.9112894532,
            "symbol": "circle"
           },
           "mode": "markers+text",
           "name": "York University Heights (YUH)",
           "orientation": "v",
           "showlegend": true,
           "text": [
            "YUH"
           ],
           "type": "scatter",
           "x": [
            108
           ],
           "xaxis": "x",
           "y": [
            29897
           ],
           "yaxis": "y"
          },
          {
           "customdata": [
            [
             "West Humber-Clairville"
            ]
           ],
           "hovertemplate": "Area=West Humber-Clairville (WH)<br>Value Year=2014<br>Count=%{x}<br>Population 2023=%{y}<br>Rate=%{marker.size}<br>Initials=%{text}<br>Area Name=%{customdata[0]}<extra></extra>",
           "legendgroup": "West Humber-Clairville (WH)",
           "marker": {
            "color": "Gray",
            "opacity": 0.35,
            "size": [
             897.2907104
            ],
            "sizemode": "area",
            "sizeref": 0.9112894532,
            "symbol": "circle"
           },
           "mode": "markers+text",
           "name": "West Humber-Clairville (WH)",
           "orientation": "v",
           "showlegend": true,
           "text": [
            "WH"
           ],
           "type": "scatter",
           "x": [
            309
           ],
           "xaxis": "x",
           "y": [
            36388
           ],
           "yaxis": "y"
          }
         ],
         "name": "2014"
        },
        {
         "data": [
          {
           "customdata": [
            [
             "Milliken"
            ]
           ],
           "hovertemplate": "Area=Milliken (M)<br>Value Year=2015<br>Count=%{x}<br>Population 2023=%{y}<br>Rate=%{marker.size}<br>Initials=%{text}<br>Area Name=%{customdata[0]}<extra></extra>",
           "legendgroup": "Milliken (M)",
           "marker": {
            "color": "purple",
            "opacity": 0.35,
            "size": [
             159.1001587
            ],
            "sizemode": "area",
            "sizeref": 0.9112894532,
            "symbol": "circle"
           },
           "mode": "markers+text",
           "name": "Milliken (M)",
           "orientation": "v",
           "showlegend": true,
           "text": [
            "M"
           ],
           "type": "scatter",
           "x": [
            43
           ],
           "xaxis": "x",
           "y": [
            28371
           ],
           "yaxis": "y"
          },
          {
           "customdata": [
            [
             "Etobicoke City Centre"
            ]
           ],
           "hovertemplate": "Area=Etobicoke City Centre (ECC)<br>Value Year=2015<br>Count=%{x}<br>Population 2023=%{y}<br>Rate=%{marker.size}<br>Initials=%{text}<br>Area Name=%{customdata[0]}<extra></extra>",
           "legendgroup": "Etobicoke City Centre (ECC)",
           "marker": {
            "color": "hotpink",
            "opacity": 0.35,
            "size": [
             374.7904053
            ],
            "sizemode": "area",
            "sizeref": 0.9112894532,
            "symbol": "circle"
           },
           "mode": "markers+text",
           "name": "Etobicoke City Centre (ECC)",
           "orientation": "v",
           "showlegend": true,
           "text": [
            "ECC"
           ],
           "type": "scatter",
           "x": [
            76
           ],
           "xaxis": "x",
           "y": [
            25495
           ],
           "yaxis": "y"
          },
          {
           "customdata": [
            [
             "Islington"
            ]
           ],
           "hovertemplate": "Area=Islington (I)<br>Value Year=2015<br>Count=%{x}<br>Population 2023=%{y}<br>Rate=%{marker.size}<br>Initials=%{text}<br>Area Name=%{customdata[0]}<extra></extra>",
           "legendgroup": "Islington (I)",
           "marker": {
            "color": "deepskyblue",
            "opacity": 0.35,
            "size": [
             103.1149292
            ],
            "sizemode": "area",
            "sizeref": 0.9112894532,
            "symbol": "circle"
           },
           "mode": "markers+text",
           "name": "Islington (I)",
           "orientation": "v",
           "showlegend": true,
           "text": [
            "I"
           ],
           "type": "scatter",
           "x": [
            24
           ],
           "xaxis": "x",
           "y": [
            25937
           ],
           "yaxis": "y"
          },
          {
           "customdata": [
            [
             "Wexford/Maryvale"
            ]
           ],
           "hovertemplate": "Area=Wexford/Maryvale (W)<br>Value Year=2015<br>Count=%{x}<br>Population 2023=%{y}<br>Rate=%{marker.size}<br>Initials=%{text}<br>Area Name=%{customdata[0]}<extra></extra>",
           "legendgroup": "Wexford/Maryvale (W)",
           "marker": {
            "color": "yellowgreen",
            "opacity": 0.35,
            "size": [
             184.005661
            ],
            "sizemode": "area",
            "sizeref": 0.9112894532,
            "symbol": "circle"
           },
           "mode": "markers+text",
           "name": "Wexford/Maryvale (W)",
           "orientation": "v",
           "showlegend": true,
           "text": [
            "W"
           ],
           "type": "scatter",
           "x": [
            52
           ],
           "xaxis": "x",
           "y": [
            29870
           ],
           "yaxis": "y"
          },
          {
           "customdata": [
            [
             "Don Valley Village"
            ]
           ],
           "hovertemplate": "Area=Don Valley Village (DVV)<br>Value Year=2015<br>Count=%{x}<br>Population 2023=%{y}<br>Rate=%{marker.size}<br>Initials=%{text}<br>Area Name=%{customdata[0]}<extra></extra>",
           "legendgroup": "Don Valley Village (DVV)",
           "marker": {
            "color": "lightcoral",
            "opacity": 0.35,
            "size": [
             101.2255554
            ],
            "sizemode": "area",
            "sizeref": 0.9112894532,
            "symbol": "circle"
           },
           "mode": "markers+text",
           "name": "Don Valley Village (DVV)",
           "orientation": "v",
           "showlegend": true,
           "text": [
            "DVV"
           ],
           "type": "scatter",
           "x": [
            28
           ],
           "xaxis": "x",
           "y": [
            29424
           ],
           "yaxis": "y"
          },
          {
           "customdata": [
            [
             "Bedford Park-Nortown"
            ]
           ],
           "hovertemplate": "Area=Bedford Park-Nortown (BP)<br>Value Year=2015<br>Count=%{x}<br>Population 2023=%{y}<br>Rate=%{marker.size}<br>Initials=%{text}<br>Area Name=%{customdata[0]}<extra></extra>",
           "legendgroup": "Bedford Park-Nortown (BP)",
           "marker": {
            "color": "lightseagreen",
            "opacity": 0.35,
            "size": [
             170.3069763
            ],
            "sizemode": "area",
            "sizeref": 0.9112894532,
            "symbol": "circle"
           },
           "mode": "markers+text",
           "name": "Bedford Park-Nortown (BP)",
           "orientation": "v",
           "showlegend": true,
           "text": [
            "BP"
           ],
           "type": "scatter",
           "x": [
            40
           ],
           "xaxis": "x",
           "y": [
            25583
           ],
           "yaxis": "y"
          },
          {
           "customdata": [
            [
             "Newtonbrook West"
            ]
           ],
           "hovertemplate": "Area=Newtonbrook West (NW)<br>Value Year=2015<br>Count=%{x}<br>Population 2023=%{y}<br>Rate=%{marker.size}<br>Initials=%{text}<br>Area Name=%{customdata[0]}<extra></extra>",
           "legendgroup": "Newtonbrook West (NW)",
           "marker": {
            "color": "gold",
            "opacity": 0.35,
            "size": [
             98.86714935
            ],
            "sizemode": "area",
            "sizeref": 0.9112894532,
            "symbol": "circle"
           },
           "mode": "markers+text",
           "name": "Newtonbrook West (NW)",
           "orientation": "v",
           "showlegend": true,
           "text": [
            "NW"
           ],
           "type": "scatter",
           "x": [
            24
           ],
           "xaxis": "x",
           "y": [
            26265
           ],
           "yaxis": "y"
          },
          {
           "customdata": [
            [
             "Yorkdale-Glen Park"
            ]
           ],
           "hovertemplate": "Area=Yorkdale-Glen Park (YP)<br>Value Year=2015<br>Count=%{x}<br>Population 2023=%{y}<br>Rate=%{marker.size}<br>Initials=%{text}<br>Area Name=%{customdata[0]}<extra></extra>",
           "legendgroup": "Yorkdale-Glen Park (YP)",
           "marker": {
            "color": "lightsteelblue",
            "opacity": 0.35,
            "size": [
             367.2394714
            ],
            "sizemode": "area",
            "sizeref": 0.9112894532,
            "symbol": "circle"
           },
           "mode": "markers+text",
           "name": "Yorkdale-Glen Park (YP)",
           "orientation": "v",
           "showlegend": true,
           "text": [
            "YP"
           ],
           "type": "scatter",
           "x": [
            53
           ],
           "xaxis": "x",
           "y": [
            17258
           ],
           "yaxis": "y"
          },
          {
           "customdata": [
            [
             "York University Heights"
            ]
           ],
           "hovertemplate": "Area=York University Heights (YUH)<br>Value Year=2015<br>Count=%{x}<br>Population 2023=%{y}<br>Rate=%{marker.size}<br>Initials=%{text}<br>Area Name=%{customdata[0]}<extra></extra>",
           "legendgroup": "York University Heights (YUH)",
           "marker": {
            "color": "palegreen",
            "opacity": 0.35,
            "size": [
             348.8940125
            ],
            "sizemode": "area",
            "sizeref": 0.9112894532,
            "symbol": "circle"
           },
           "mode": "markers+text",
           "name": "York University Heights (YUH)",
           "orientation": "v",
           "showlegend": true,
           "text": [
            "YUH"
           ],
           "type": "scatter",
           "x": [
            100
           ],
           "xaxis": "x",
           "y": [
            29897
           ],
           "yaxis": "y"
          },
          {
           "customdata": [
            [
             "West Humber-Clairville"
            ]
           ],
           "hovertemplate": "Area=West Humber-Clairville (WH)<br>Value Year=2015<br>Count=%{x}<br>Population 2023=%{y}<br>Rate=%{marker.size}<br>Initials=%{text}<br>Area Name=%{customdata[0]}<extra></extra>",
           "legendgroup": "West Humber-Clairville (WH)",
           "marker": {
            "color": "Gray",
            "opacity": 0.35,
            "size": [
             778.005249
            ],
            "sizemode": "area",
            "sizeref": 0.9112894532,
            "symbol": "circle"
           },
           "mode": "markers+text",
           "name": "West Humber-Clairville (WH)",
           "orientation": "v",
           "showlegend": true,
           "text": [
            "WH"
           ],
           "type": "scatter",
           "x": [
            266
           ],
           "xaxis": "x",
           "y": [
            36388
           ],
           "yaxis": "y"
          }
         ],
         "name": "2015"
        },
        {
         "data": [
          {
           "customdata": [
            [
             "Milliken"
            ]
           ],
           "hovertemplate": "Area=Milliken (M)<br>Value Year=2016<br>Count=%{x}<br>Population 2023=%{y}<br>Rate=%{marker.size}<br>Initials=%{text}<br>Area Name=%{customdata[0]}<extra></extra>",
           "legendgroup": "Milliken (M)",
           "marker": {
            "color": "purple",
            "opacity": 0.35,
            "size": [
             130.3149872
            ],
            "sizemode": "area",
            "sizeref": 0.9112894532,
            "symbol": "circle"
           },
           "mode": "markers+text",
           "name": "Milliken (M)",
           "orientation": "v",
           "showlegend": true,
           "text": [
            "M"
           ],
           "type": "scatter",
           "x": [
            35
           ],
           "xaxis": "x",
           "y": [
            28371
           ],
           "yaxis": "y"
          },
          {
           "customdata": [
            [
             "Etobicoke City Centre"
            ]
           ],
           "hovertemplate": "Area=Etobicoke City Centre (ECC)<br>Value Year=2016<br>Count=%{x}<br>Population 2023=%{y}<br>Rate=%{marker.size}<br>Initials=%{text}<br>Area Name=%{customdata[0]}<extra></extra>",
           "legendgroup": "Etobicoke City Centre (ECC)",
           "marker": {
            "color": "hotpink",
            "opacity": 0.35,
            "size": [
             487.2279968
            ],
            "sizemode": "area",
            "sizeref": 0.9112894532,
            "symbol": "circle"
           },
           "mode": "markers+text",
           "name": "Etobicoke City Centre (ECC)",
           "orientation": "v",
           "showlegend": true,
           "text": [
            "ECC"
           ],
           "type": "scatter",
           "x": [
            103
           ],
           "xaxis": "x",
           "y": [
            25495
           ],
           "yaxis": "y"
          },
          {
           "customdata": [
            [
             "Islington"
            ]
           ],
           "hovertemplate": "Area=Islington (I)<br>Value Year=2016<br>Count=%{x}<br>Population 2023=%{y}<br>Rate=%{marker.size}<br>Initials=%{text}<br>Area Name=%{customdata[0]}<extra></extra>",
           "legendgroup": "Islington (I)",
           "marker": {
            "color": "deepskyblue",
            "opacity": 0.35,
            "size": [
             140.2226563
            ],
            "sizemode": "area",
            "sizeref": 0.9112894532,
            "symbol": "circle"
           },
           "mode": "markers+text",
           "name": "Islington (I)",
           "orientation": "v",
           "showlegend": true,
           "text": [
            "I"
           ],
           "type": "scatter",
           "x": [
            33
           ],
           "xaxis": "x",
           "y": [
            25937
           ],
           "yaxis": "y"
          },
          {
           "customdata": [
            [
             "Wexford/Maryvale"
            ]
           ],
           "hovertemplate": "Area=Wexford/Maryvale (W)<br>Value Year=2016<br>Count=%{x}<br>Population 2023=%{y}<br>Rate=%{marker.size}<br>Initials=%{text}<br>Area Name=%{customdata[0]}<extra></extra>",
           "legendgroup": "Wexford/Maryvale (W)",
           "marker": {
            "color": "yellowgreen",
            "opacity": 0.35,
            "size": [
             147.9290009
            ],
            "sizemode": "area",
            "sizeref": 0.9112894532,
            "symbol": "circle"
           },
           "mode": "markers+text",
           "name": "Wexford/Maryvale (W)",
           "orientation": "v",
           "showlegend": true,
           "text": [
            "W"
           ],
           "type": "scatter",
           "x": [
            42
           ],
           "xaxis": "x",
           "y": [
            29870
           ],
           "yaxis": "y"
          },
          {
           "customdata": [
            [
             "Don Valley Village"
            ]
           ],
           "hovertemplate": "Area=Don Valley Village (DVV)<br>Value Year=2016<br>Count=%{x}<br>Population 2023=%{y}<br>Rate=%{marker.size}<br>Initials=%{text}<br>Area Name=%{customdata[0]}<extra></extra>",
           "legendgroup": "Don Valley Village (DVV)",
           "marker": {
            "color": "lightcoral",
            "opacity": 0.35,
            "size": [
             101.2109146
            ],
            "sizemode": "area",
            "sizeref": 0.9112894532,
            "symbol": "circle"
           },
           "mode": "markers+text",
           "name": "Don Valley Village (DVV)",
           "orientation": "v",
           "showlegend": true,
           "text": [
            "DVV"
           ],
           "type": "scatter",
           "x": [
            28
           ],
           "xaxis": "x",
           "y": [
            29424
           ],
           "yaxis": "y"
          },
          {
           "customdata": [
            [
             "Bedford Park-Nortown"
            ]
           ],
           "hovertemplate": "Area=Bedford Park-Nortown (BP)<br>Value Year=2016<br>Count=%{x}<br>Population 2023=%{y}<br>Rate=%{marker.size}<br>Initials=%{text}<br>Area Name=%{customdata[0]}<extra></extra>",
           "legendgroup": "Bedford Park-Nortown (BP)",
           "marker": {
            "color": "lightseagreen",
            "opacity": 0.35,
            "size": [
             127.8663406
            ],
            "sizemode": "area",
            "sizeref": 0.9112894532,
            "symbol": "circle"
           },
           "mode": "markers+text",
           "name": "Bedford Park-Nortown (BP)",
           "orientation": "v",
           "showlegend": true,
           "text": [
            "BP"
           ],
           "type": "scatter",
           "x": [
            30
           ],
           "xaxis": "x",
           "y": [
            25583
           ],
           "yaxis": "y"
          },
          {
           "customdata": [
            [
             "Newtonbrook West"
            ]
           ],
           "hovertemplate": "Area=Newtonbrook West (NW)<br>Value Year=2016<br>Count=%{x}<br>Population 2023=%{y}<br>Rate=%{marker.size}<br>Initials=%{text}<br>Area Name=%{customdata[0]}<extra></extra>",
           "legendgroup": "Newtonbrook West (NW)",
           "marker": {
            "color": "gold",
            "opacity": 0.35,
            "size": [
             184.6078033
            ],
            "sizemode": "area",
            "sizeref": 0.9112894532,
            "symbol": "circle"
           },
           "mode": "markers+text",
           "name": "Newtonbrook West (NW)",
           "orientation": "v",
           "showlegend": true,
           "text": [
            "NW"
           ],
           "type": "scatter",
           "x": [
            45
           ],
           "xaxis": "x",
           "y": [
            26265
           ],
           "yaxis": "y"
          },
          {
           "customdata": [
            [
             "Yorkdale-Glen Park"
            ]
           ],
           "hovertemplate": "Area=Yorkdale-Glen Park (YP)<br>Value Year=2016<br>Count=%{x}<br>Population 2023=%{y}<br>Rate=%{marker.size}<br>Initials=%{text}<br>Area Name=%{customdata[0]}<extra></extra>",
           "legendgroup": "Yorkdale-Glen Park (YP)",
           "marker": {
            "color": "lightsteelblue",
            "opacity": 0.35,
            "size": [
             283.5800171
            ],
            "sizemode": "area",
            "sizeref": 0.9112894532,
            "symbol": "circle"
           },
           "mode": "markers+text",
           "name": "Yorkdale-Glen Park (YP)",
           "orientation": "v",
           "showlegend": true,
           "text": [
            "YP"
           ],
           "type": "scatter",
           "x": [
            41
           ],
           "xaxis": "x",
           "y": [
            17258
           ],
           "yaxis": "y"
          },
          {
           "customdata": [
            [
             "York University Heights"
            ]
           ],
           "hovertemplate": "Area=York University Heights (YUH)<br>Value Year=2016<br>Count=%{x}<br>Population 2023=%{y}<br>Rate=%{marker.size}<br>Initials=%{text}<br>Area Name=%{customdata[0]}<extra></extra>",
           "legendgroup": "York University Heights (YUH)",
           "marker": {
            "color": "palegreen",
            "opacity": 0.35,
            "size": [
             381.8532104
            ],
            "sizemode": "area",
            "sizeref": 0.9112894532,
            "symbol": "circle"
           },
           "mode": "markers+text",
           "name": "York University Heights (YUH)",
           "orientation": "v",
           "showlegend": true,
           "text": [
            "YUH"
           ],
           "type": "scatter",
           "x": [
            109
           ],
           "xaxis": "x",
           "y": [
            29897
           ],
           "yaxis": "y"
          },
          {
           "customdata": [
            [
             "West Humber-Clairville"
            ]
           ],
           "hovertemplate": "Area=West Humber-Clairville (WH)<br>Value Year=2016<br>Count=%{x}<br>Population 2023=%{y}<br>Rate=%{marker.size}<br>Initials=%{text}<br>Area Name=%{customdata[0]}<extra></extra>",
           "legendgroup": "West Humber-Clairville (WH)",
           "marker": {
            "color": "Gray",
            "opacity": 0.35,
            "size": [
             950.5870972
            ],
            "sizemode": "area",
            "sizeref": 0.9112894532,
            "symbol": "circle"
           },
           "mode": "markers+text",
           "name": "West Humber-Clairville (WH)",
           "orientation": "v",
           "showlegend": true,
           "text": [
            "WH"
           ],
           "type": "scatter",
           "x": [
            323
           ],
           "xaxis": "x",
           "y": [
            36388
           ],
           "yaxis": "y"
          }
         ],
         "name": "2016"
        },
        {
         "data": [
          {
           "customdata": [
            [
             "Milliken"
            ]
           ],
           "hovertemplate": "Area=Milliken (M)<br>Value Year=2017<br>Count=%{x}<br>Population 2023=%{y}<br>Rate=%{marker.size}<br>Initials=%{text}<br>Area Name=%{customdata[0]}<extra></extra>",
           "legendgroup": "Milliken (M)",
           "marker": {
            "color": "purple",
            "opacity": 0.35,
            "size": [
             220.8236694
            ],
            "sizemode": "area",
            "sizeref": 0.9112894532,
            "symbol": "circle"
           },
           "mode": "markers+text",
           "name": "Milliken (M)",
           "orientation": "v",
           "showlegend": true,
           "text": [
            "M"
           ],
           "type": "scatter",
           "x": [
            60
           ],
           "xaxis": "x",
           "y": [
            28371
           ],
           "yaxis": "y"
          },
          {
           "customdata": [
            [
             "Etobicoke City Centre"
            ]
           ],
           "hovertemplate": "Area=Etobicoke City Centre (ECC)<br>Value Year=2017<br>Count=%{x}<br>Population 2023=%{y}<br>Rate=%{marker.size}<br>Initials=%{text}<br>Area Name=%{customdata[0]}<extra></extra>",
           "legendgroup": "Etobicoke City Centre (ECC)",
           "marker": {
            "color": "hotpink",
            "opacity": 0.35,
            "size": [
             325.1213379
            ],
            "sizemode": "area",
            "sizeref": 0.9112894532,
            "symbol": "circle"
           },
           "mode": "markers+text",
           "name": "Etobicoke City Centre (ECC)",
           "orientation": "v",
           "showlegend": true,
           "text": [
            "ECC"
           ],
           "type": "scatter",
           "x": [
            71
           ],
           "xaxis": "x",
           "y": [
            25495
           ],
           "yaxis": "y"
          },
          {
           "customdata": [
            [
             "Islington"
            ]
           ],
           "hovertemplate": "Area=Islington (I)<br>Value Year=2017<br>Count=%{x}<br>Population 2023=%{y}<br>Rate=%{marker.size}<br>Initials=%{text}<br>Area Name=%{customdata[0]}<extra></extra>",
           "legendgroup": "Islington (I)",
           "marker": {
            "color": "deepskyblue",
            "opacity": 0.35,
            "size": [
             100.3344498
            ],
            "sizemode": "area",
            "sizeref": 0.9112894532,
            "symbol": "circle"
           },
           "mode": "markers+text",
           "name": "Islington (I)",
           "orientation": "v",
           "showlegend": true,
           "text": [
            "I"
           ],
           "type": "scatter",
           "x": [
            24
           ],
           "xaxis": "x",
           "y": [
            25937
           ],
           "yaxis": "y"
          },
          {
           "customdata": [
            [
             "Wexford/Maryvale"
            ]
           ],
           "hovertemplate": "Area=Wexford/Maryvale (W)<br>Value Year=2017<br>Count=%{x}<br>Population 2023=%{y}<br>Rate=%{marker.size}<br>Initials=%{text}<br>Area Name=%{customdata[0]}<extra></extra>",
           "legendgroup": "Wexford/Maryvale (W)",
           "marker": {
            "color": "yellowgreen",
            "opacity": 0.35,
            "size": [
             233.3031616
            ],
            "sizemode": "area",
            "sizeref": 0.9112894532,
            "symbol": "circle"
           },
           "mode": "markers+text",
           "name": "Wexford/Maryvale (W)",
           "orientation": "v",
           "showlegend": true,
           "text": [
            "W"
           ],
           "type": "scatter",
           "x": [
            67
           ],
           "xaxis": "x",
           "y": [
            29870
           ],
           "yaxis": "y"
          },
          {
           "customdata": [
            [
             "Don Valley Village"
            ]
           ],
           "hovertemplate": "Area=Don Valley Village (DVV)<br>Value Year=2017<br>Count=%{x}<br>Population 2023=%{y}<br>Rate=%{marker.size}<br>Initials=%{text}<br>Area Name=%{customdata[0]}<extra></extra>",
           "legendgroup": "Don Valley Village (DVV)",
           "marker": {
            "color": "lightcoral",
            "opacity": 0.35,
            "size": [
             103.4753418
            ],
            "sizemode": "area",
            "sizeref": 0.9112894532,
            "symbol": "circle"
           },
           "mode": "markers+text",
           "name": "Don Valley Village (DVV)",
           "orientation": "v",
           "showlegend": true,
           "text": [
            "DVV"
           ],
           "type": "scatter",
           "x": [
            29
           ],
           "xaxis": "x",
           "y": [
            29424
           ],
           "yaxis": "y"
          },
          {
           "customdata": [
            [
             "Bedford Park-Nortown"
            ]
           ],
           "hovertemplate": "Area=Bedford Park-Nortown (BP)<br>Value Year=2017<br>Count=%{x}<br>Population 2023=%{y}<br>Rate=%{marker.size}<br>Initials=%{text}<br>Area Name=%{customdata[0]}<extra></extra>",
           "legendgroup": "Bedford Park-Nortown (BP)",
           "marker": {
            "color": "lightseagreen",
            "opacity": 0.35,
            "size": [
             197.1145782
            ],
            "sizemode": "area",
            "sizeref": 0.9112894532,
            "symbol": "circle"
           },
           "mode": "markers+text",
           "name": "Bedford Park-Nortown (BP)",
           "orientation": "v",
           "showlegend": true,
           "text": [
            "BP"
           ],
           "type": "scatter",
           "x": [
            47
           ],
           "xaxis": "x",
           "y": [
            25583
           ],
           "yaxis": "y"
          },
          {
           "customdata": [
            [
             "Newtonbrook West"
            ]
           ],
           "hovertemplate": "Area=Newtonbrook West (NW)<br>Value Year=2017<br>Count=%{x}<br>Population 2023=%{y}<br>Rate=%{marker.size}<br>Initials=%{text}<br>Area Name=%{customdata[0]}<extra></extra>",
           "legendgroup": "Newtonbrook West (NW)",
           "marker": {
            "color": "gold",
            "opacity": 0.35,
            "size": [
             137.4292603
            ],
            "sizemode": "area",
            "sizeref": 0.9112894532,
            "symbol": "circle"
           },
           "mode": "markers+text",
           "name": "Newtonbrook West (NW)",
           "orientation": "v",
           "showlegend": true,
           "text": [
            "NW"
           ],
           "type": "scatter",
           "x": [
            34
           ],
           "xaxis": "x",
           "y": [
            26265
           ],
           "yaxis": "y"
          },
          {
           "customdata": [
            [
             "Yorkdale-Glen Park"
            ]
           ],
           "hovertemplate": "Area=Yorkdale-Glen Park (YP)<br>Value Year=2017<br>Count=%{x}<br>Population 2023=%{y}<br>Rate=%{marker.size}<br>Initials=%{text}<br>Area Name=%{customdata[0]}<extra></extra>",
           "legendgroup": "Yorkdale-Glen Park (YP)",
           "marker": {
            "color": "lightsteelblue",
            "opacity": 0.35,
            "size": [
             349.1104431
            ],
            "sizemode": "area",
            "sizeref": 0.9112894532,
            "symbol": "circle"
           },
           "mode": "markers+text",
           "name": "Yorkdale-Glen Park (YP)",
           "orientation": "v",
           "showlegend": true,
           "text": [
            "YP"
           ],
           "type": "scatter",
           "x": [
            52
           ],
           "xaxis": "x",
           "y": [
            17258
           ],
           "yaxis": "y"
          },
          {
           "customdata": [
            [
             "York University Heights"
            ]
           ],
           "hovertemplate": "Area=York University Heights (YUH)<br>Value Year=2017<br>Count=%{x}<br>Population 2023=%{y}<br>Rate=%{marker.size}<br>Initials=%{text}<br>Area Name=%{customdata[0]}<extra></extra>",
           "legendgroup": "York University Heights (YUH)",
           "marker": {
            "color": "palegreen",
            "opacity": 0.35,
            "size": [
             322.0444641
            ],
            "sizemode": "area",
            "sizeref": 0.9112894532,
            "symbol": "circle"
           },
           "mode": "markers+text",
           "name": "York University Heights (YUH)",
           "orientation": "v",
           "showlegend": true,
           "text": [
            "YUH"
           ],
           "type": "scatter",
           "x": [
            93
           ],
           "xaxis": "x",
           "y": [
            29897
           ],
           "yaxis": "y"
          },
          {
           "customdata": [
            [
             "West Humber-Clairville"
            ]
           ],
           "hovertemplate": "Area=West Humber-Clairville (WH)<br>Value Year=2017<br>Count=%{x}<br>Population 2023=%{y}<br>Rate=%{marker.size}<br>Initials=%{text}<br>Area Name=%{customdata[0]}<extra></extra>",
           "legendgroup": "West Humber-Clairville (WH)",
           "marker": {
            "color": "Gray",
            "opacity": 0.35,
            "size": [
             954.8409424
            ],
            "sizemode": "area",
            "sizeref": 0.9112894532,
            "symbol": "circle"
           },
           "mode": "markers+text",
           "name": "West Humber-Clairville (WH)",
           "orientation": "v",
           "showlegend": true,
           "text": [
            "WH"
           ],
           "type": "scatter",
           "x": [
            329
           ],
           "xaxis": "x",
           "y": [
            36388
           ],
           "yaxis": "y"
          }
         ],
         "name": "2017"
        },
        {
         "data": [
          {
           "customdata": [
            [
             "Milliken"
            ]
           ],
           "hovertemplate": "Area=Milliken (M)<br>Value Year=2018<br>Count=%{x}<br>Population 2023=%{y}<br>Rate=%{marker.size}<br>Initials=%{text}<br>Area Name=%{customdata[0]}<extra></extra>",
           "legendgroup": "Milliken (M)",
           "marker": {
            "color": "purple",
            "opacity": 0.35,
            "size": [
             330.0449829
            ],
            "sizemode": "area",
            "sizeref": 0.9112894532,
            "symbol": "circle"
           },
           "mode": "markers+text",
           "name": "Milliken (M)",
           "orientation": "v",
           "showlegend": true,
           "text": [
            "M"
           ],
           "type": "scatter",
           "x": [
            91
           ],
           "xaxis": "x",
           "y": [
            28371
           ],
           "yaxis": "y"
          },
          {
           "customdata": [
            [
             "Etobicoke City Centre"
            ]
           ],
           "hovertemplate": "Area=Etobicoke City Centre (ECC)<br>Value Year=2018<br>Count=%{x}<br>Population 2023=%{y}<br>Rate=%{marker.size}<br>Initials=%{text}<br>Area Name=%{customdata[0]}<extra></extra>",
           "legendgroup": "Etobicoke City Centre (ECC)",
           "marker": {
            "color": "hotpink",
            "opacity": 0.35,
            "size": [
             540.468689
            ],
            "sizemode": "area",
            "sizeref": 0.9112894532,
            "symbol": "circle"
           },
           "mode": "markers+text",
           "name": "Etobicoke City Centre (ECC)",
           "orientation": "v",
           "showlegend": true,
           "text": [
            "ECC"
           ],
           "type": "scatter",
           "x": [
            122
           ],
           "xaxis": "x",
           "y": [
            25495
           ],
           "yaxis": "y"
          },
          {
           "customdata": [
            [
             "Islington"
            ]
           ],
           "hovertemplate": "Area=Islington (I)<br>Value Year=2018<br>Count=%{x}<br>Population 2023=%{y}<br>Rate=%{marker.size}<br>Initials=%{text}<br>Area Name=%{customdata[0]}<extra></extra>",
           "legendgroup": "Islington (I)",
           "marker": {
            "color": "deepskyblue",
            "opacity": 0.35,
            "size": [
             147.426178
            ],
            "sizemode": "area",
            "sizeref": 0.9112894532,
            "symbol": "circle"
           },
           "mode": "markers+text",
           "name": "Islington (I)",
           "orientation": "v",
           "showlegend": true,
           "text": [
            "I"
           ],
           "type": "scatter",
           "x": [
            36
           ],
           "xaxis": "x",
           "y": [
            25937
           ],
           "yaxis": "y"
          },
          {
           "customdata": [
            [
             "Wexford/Maryvale"
            ]
           ],
           "hovertemplate": "Area=Wexford/Maryvale (W)<br>Value Year=2018<br>Count=%{x}<br>Population 2023=%{y}<br>Rate=%{marker.size}<br>Initials=%{text}<br>Area Name=%{customdata[0]}<extra></extra>",
           "legendgroup": "Wexford/Maryvale (W)",
           "marker": {
            "color": "yellowgreen",
            "opacity": 0.35,
            "size": [
             295.1371155
            ],
            "sizemode": "area",
            "sizeref": 0.9112894532,
            "symbol": "circle"
           },
           "mode": "markers+text",
           "name": "Wexford/Maryvale (W)",
           "orientation": "v",
           "showlegend": true,
           "text": [
            "W"
           ],
           "type": "scatter",
           "x": [
            86
           ],
           "xaxis": "x",
           "y": [
            29870
           ],
           "yaxis": "y"
          },
          {
           "customdata": [
            [
             "Don Valley Village"
            ]
           ],
           "hovertemplate": "Area=Don Valley Village (DVV)<br>Value Year=2018<br>Count=%{x}<br>Population 2023=%{y}<br>Rate=%{marker.size}<br>Initials=%{text}<br>Area Name=%{customdata[0]}<extra></extra>",
           "legendgroup": "Don Valley Village (DVV)",
           "marker": {
            "color": "lightcoral",
            "opacity": 0.35,
            "size": [
             91.369133
            ],
            "sizemode": "area",
            "sizeref": 0.9112894532,
            "symbol": "circle"
           },
           "mode": "markers+text",
           "name": "Don Valley Village (DVV)",
           "orientation": "v",
           "showlegend": true,
           "text": [
            "DVV"
           ],
           "type": "scatter",
           "x": [
            26
           ],
           "xaxis": "x",
           "y": [
            29424
           ],
           "yaxis": "y"
          },
          {
           "customdata": [
            [
             "Bedford Park-Nortown"
            ]
           ],
           "hovertemplate": "Area=Bedford Park-Nortown (BP)<br>Value Year=2018<br>Count=%{x}<br>Population 2023=%{y}<br>Rate=%{marker.size}<br>Initials=%{text}<br>Area Name=%{customdata[0]}<extra></extra>",
           "legendgroup": "Bedford Park-Nortown (BP)",
           "marker": {
            "color": "lightseagreen",
            "opacity": 0.35,
            "size": [
             201.5548553
            ],
            "sizemode": "area",
            "sizeref": 0.9112894532,
            "symbol": "circle"
           },
           "mode": "markers+text",
           "name": "Bedford Park-Nortown (BP)",
           "orientation": "v",
           "showlegend": true,
           "text": [
            "BP"
           ],
           "type": "scatter",
           "x": [
            49
           ],
           "xaxis": "x",
           "y": [
            25583
           ],
           "yaxis": "y"
          },
          {
           "customdata": [
            [
             "Newtonbrook West"
            ]
           ],
           "hovertemplate": "Area=Newtonbrook West (NW)<br>Value Year=2018<br>Count=%{x}<br>Population 2023=%{y}<br>Rate=%{marker.size}<br>Initials=%{text}<br>Area Name=%{customdata[0]}<extra></extra>",
           "legendgroup": "Newtonbrook West (NW)",
           "marker": {
            "color": "gold",
            "opacity": 0.35,
            "size": [
             202.718811
            ],
            "sizemode": "area",
            "sizeref": 0.9112894532,
            "symbol": "circle"
           },
           "mode": "markers+text",
           "name": "Newtonbrook West (NW)",
           "orientation": "v",
           "showlegend": true,
           "text": [
            "NW"
           ],
           "type": "scatter",
           "x": [
            51
           ],
           "xaxis": "x",
           "y": [
            26265
           ],
           "yaxis": "y"
          },
          {
           "customdata": [
            [
             "Yorkdale-Glen Park"
            ]
           ],
           "hovertemplate": "Area=Yorkdale-Glen Park (YP)<br>Value Year=2018<br>Count=%{x}<br>Population 2023=%{y}<br>Rate=%{marker.size}<br>Initials=%{text}<br>Area Name=%{customdata[0]}<extra></extra>",
           "legendgroup": "Yorkdale-Glen Park (YP)",
           "marker": {
            "color": "lightsteelblue",
            "opacity": 0.35,
            "size": [
             409.4365234
            ],
            "sizemode": "area",
            "sizeref": 0.9112894532,
            "symbol": "circle"
           },
           "mode": "markers+text",
           "name": "Yorkdale-Glen Park (YP)",
           "orientation": "v",
           "showlegend": true,
           "text": [
            "YP"
           ],
           "type": "scatter",
           "x": [
            63
           ],
           "xaxis": "x",
           "y": [
            17258
           ],
           "yaxis": "y"
          },
          {
           "customdata": [
            [
             "York University Heights"
            ]
           ],
           "hovertemplate": "Area=York University Heights (YUH)<br>Value Year=2018<br>Count=%{x}<br>Population 2023=%{y}<br>Rate=%{marker.size}<br>Initials=%{text}<br>Area Name=%{customdata[0]}<extra></extra>",
           "legendgroup": "York University Heights (YUH)",
           "marker": {
            "color": "palegreen",
            "opacity": 0.35,
            "size": [
             311.0047913
            ],
            "sizemode": "area",
            "sizeref": 0.9112894532,
            "symbol": "circle"
           },
           "mode": "markers+text",
           "name": "York University Heights (YUH)",
           "orientation": "v",
           "showlegend": true,
           "text": [
            "YUH"
           ],
           "type": "scatter",
           "x": [
            91
           ],
           "xaxis": "x",
           "y": [
            29897
           ],
           "yaxis": "y"
          },
          {
           "customdata": [
            [
             "West Humber-Clairville"
            ]
           ],
           "hovertemplate": "Area=West Humber-Clairville (WH)<br>Value Year=2018<br>Count=%{x}<br>Population 2023=%{y}<br>Rate=%{marker.size}<br>Initials=%{text}<br>Area Name=%{customdata[0]}<extra></extra>",
           "legendgroup": "West Humber-Clairville (WH)",
           "marker": {
            "color": "Gray",
            "opacity": 0.35,
            "size": [
             1443.899048
            ],
            "sizemode": "area",
            "sizeref": 0.9112894532,
            "symbol": "circle"
           },
           "mode": "markers+text",
           "name": "West Humber-Clairville (WH)",
           "orientation": "v",
           "showlegend": true,
           "text": [
            "WH"
           ],
           "type": "scatter",
           "x": [
            506
           ],
           "xaxis": "x",
           "y": [
            36388
           ],
           "yaxis": "y"
          }
         ],
         "name": "2018"
        },
        {
         "data": [
          {
           "customdata": [
            [
             "Milliken"
            ]
           ],
           "hovertemplate": "Area=Milliken (M)<br>Value Year=2019<br>Count=%{x}<br>Population 2023=%{y}<br>Rate=%{marker.size}<br>Initials=%{text}<br>Area Name=%{customdata[0]}<extra></extra>",
           "legendgroup": "Milliken (M)",
           "marker": {
            "color": "purple",
            "opacity": 0.35,
            "size": [
             304.6158142
            ],
            "sizemode": "area",
            "sizeref": 0.9112894532,
            "symbol": "circle"
           },
           "mode": "markers+text",
           "name": "Milliken (M)",
           "orientation": "v",
           "showlegend": true,
           "text": [
            "M"
           ],
           "type": "scatter",
           "x": [
            85
           ],
           "xaxis": "x",
           "y": [
            28371
           ],
           "yaxis": "y"
          },
          {
           "customdata": [
            [
             "Etobicoke City Centre"
            ]
           ],
           "hovertemplate": "Area=Etobicoke City Centre (ECC)<br>Value Year=2019<br>Count=%{x}<br>Population 2023=%{y}<br>Rate=%{marker.size}<br>Initials=%{text}<br>Area Name=%{customdata[0]}<extra></extra>",
           "legendgroup": "Etobicoke City Centre (ECC)",
           "marker": {
            "color": "hotpink",
            "opacity": 0.35,
            "size": [
             507.4613953
            ],
            "sizemode": "area",
            "sizeref": 0.9112894532,
            "symbol": "circle"
           },
           "mode": "markers+text",
           "name": "Etobicoke City Centre (ECC)",
           "orientation": "v",
           "showlegend": true,
           "text": [
            "ECC"
           ],
           "type": "scatter",
           "x": [
            118
           ],
           "xaxis": "x",
           "y": [
            25495
           ],
           "yaxis": "y"
          },
          {
           "customdata": [
            [
             "Islington"
            ]
           ],
           "hovertemplate": "Area=Islington (I)<br>Value Year=2019<br>Count=%{x}<br>Population 2023=%{y}<br>Rate=%{marker.size}<br>Initials=%{text}<br>Area Name=%{customdata[0]}<extra></extra>",
           "legendgroup": "Islington (I)",
           "marker": {
            "color": "deepskyblue",
            "opacity": 0.35,
            "size": [
             229.7738495
            ],
            "sizemode": "area",
            "sizeref": 0.9112894532,
            "symbol": "circle"
           },
           "mode": "markers+text",
           "name": "Islington (I)",
           "orientation": "v",
           "showlegend": true,
           "text": [
            "I"
           ],
           "type": "scatter",
           "x": [
            57
           ],
           "xaxis": "x",
           "y": [
            25937
           ],
           "yaxis": "y"
          },
          {
           "customdata": [
            [
             "Wexford/Maryvale"
            ]
           ],
           "hovertemplate": "Area=Wexford/Maryvale (W)<br>Value Year=2019<br>Count=%{x}<br>Population 2023=%{y}<br>Rate=%{marker.size}<br>Initials=%{text}<br>Area Name=%{customdata[0]}<extra></extra>",
           "legendgroup": "Wexford/Maryvale (W)",
           "marker": {
            "color": "yellowgreen",
            "opacity": 0.35,
            "size": [
             329.3606262
            ],
            "sizemode": "area",
            "sizeref": 0.9112894532,
            "symbol": "circle"
           },
           "mode": "markers+text",
           "name": "Wexford/Maryvale (W)",
           "orientation": "v",
           "showlegend": true,
           "text": [
            "W"
           ],
           "type": "scatter",
           "x": [
            97
           ],
           "xaxis": "x",
           "y": [
            29870
           ],
           "yaxis": "y"
          },
          {
           "customdata": [
            [
             "Don Valley Village"
            ]
           ],
           "hovertemplate": "Area=Don Valley Village (DVV)<br>Value Year=2019<br>Count=%{x}<br>Population 2023=%{y}<br>Rate=%{marker.size}<br>Initials=%{text}<br>Area Name=%{customdata[0]}<extra></extra>",
           "legendgroup": "Don Valley Village (DVV)",
           "marker": {
            "color": "lightcoral",
            "opacity": 0.35,
            "size": [
             72.92679596
            ],
            "sizemode": "area",
            "sizeref": 0.9112894532,
            "symbol": "circle"
           },
           "mode": "markers+text",
           "name": "Don Valley Village (DVV)",
           "orientation": "v",
           "showlegend": true,
           "text": [
            "DVV"
           ],
           "type": "scatter",
           "x": [
            21
           ],
           "xaxis": "x",
           "y": [
            29424
           ],
           "yaxis": "y"
          },
          {
           "customdata": [
            [
             "Bedford Park-Nortown"
            ]
           ],
           "hovertemplate": "Area=Bedford Park-Nortown (BP)<br>Value Year=2019<br>Count=%{x}<br>Population 2023=%{y}<br>Rate=%{marker.size}<br>Initials=%{text}<br>Area Name=%{customdata[0]}<extra></extra>",
           "legendgroup": "Bedford Park-Nortown (BP)",
           "marker": {
            "color": "lightseagreen",
            "opacity": 0.35,
            "size": [
             255.3708954
            ],
            "sizemode": "area",
            "sizeref": 0.9112894532,
            "symbol": "circle"
           },
           "mode": "markers+text",
           "name": "Bedford Park-Nortown (BP)",
           "orientation": "v",
           "showlegend": true,
           "text": [
            "BP"
           ],
           "type": "scatter",
           "x": [
            63
           ],
           "xaxis": "x",
           "y": [
            25583
           ],
           "yaxis": "y"
          },
          {
           "customdata": [
            [
             "Newtonbrook West"
            ]
           ],
           "hovertemplate": "Area=Newtonbrook West (NW)<br>Value Year=2019<br>Count=%{x}<br>Population 2023=%{y}<br>Rate=%{marker.size}<br>Initials=%{text}<br>Area Name=%{customdata[0]}<extra></extra>",
           "legendgroup": "Newtonbrook West (NW)",
           "marker": {
            "color": "gold",
            "opacity": 0.35,
            "size": [
             231.427002
            ],
            "sizemode": "area",
            "sizeref": 0.9112894532,
            "symbol": "circle"
           },
           "mode": "markers+text",
           "name": "Newtonbrook West (NW)",
           "orientation": "v",
           "showlegend": true,
           "text": [
            "NW"
           ],
           "type": "scatter",
           "x": [
            59
           ],
           "xaxis": "x",
           "y": [
            26265
           ],
           "yaxis": "y"
          },
          {
           "customdata": [
            [
             "Yorkdale-Glen Park"
            ]
           ],
           "hovertemplate": "Area=Yorkdale-Glen Park (YP)<br>Value Year=2019<br>Count=%{x}<br>Population 2023=%{y}<br>Rate=%{marker.size}<br>Initials=%{text}<br>Area Name=%{customdata[0]}<extra></extra>",
           "legendgroup": "Yorkdale-Glen Park (YP)",
           "marker": {
            "color": "lightsteelblue",
            "opacity": 0.35,
            "size": [
             391.8842163
            ],
            "sizemode": "area",
            "sizeref": 0.9112894532,
            "symbol": "circle"
           },
           "mode": "markers+text",
           "name": "Yorkdale-Glen Park (YP)",
           "orientation": "v",
           "showlegend": true,
           "text": [
            "YP"
           ],
           "type": "scatter",
           "x": [
            62
           ],
           "xaxis": "x",
           "y": [
            17258
           ],
           "yaxis": "y"
          },
          {
           "customdata": [
            [
             "York University Heights"
            ]
           ],
           "hovertemplate": "Area=York University Heights (YUH)<br>Value Year=2019<br>Count=%{x}<br>Population 2023=%{y}<br>Rate=%{marker.size}<br>Initials=%{text}<br>Area Name=%{customdata[0]}<extra></extra>",
           "legendgroup": "York University Heights (YUH)",
           "marker": {
            "color": "palegreen",
            "opacity": 0.35,
            "size": [
             497.7145691
            ],
            "sizemode": "area",
            "sizeref": 0.9112894532,
            "symbol": "circle"
           },
           "mode": "markers+text",
           "name": "York University Heights (YUH)",
           "orientation": "v",
           "showlegend": true,
           "text": [
            "YUH"
           ],
           "type": "scatter",
           "x": [
            147
           ],
           "xaxis": "x",
           "y": [
            29897
           ],
           "yaxis": "y"
          },
          {
           "customdata": [
            [
             "West Humber-Clairville"
            ]
           ],
           "hovertemplate": "Area=West Humber-Clairville (WH)<br>Value Year=2019<br>Count=%{x}<br>Population 2023=%{y}<br>Rate=%{marker.size}<br>Initials=%{text}<br>Area Name=%{customdata[0]}<extra></extra>",
           "legendgroup": "West Humber-Clairville (WH)",
           "marker": {
            "color": "Gray",
            "opacity": 0.35,
            "size": [
             1368.358765
            ],
            "sizemode": "area",
            "sizeref": 0.9112894532,
            "symbol": "circle"
           },
           "mode": "markers+text",
           "name": "West Humber-Clairville (WH)",
           "orientation": "v",
           "showlegend": true,
           "text": [
            "WH"
           ],
           "type": "scatter",
           "x": [
            486
           ],
           "xaxis": "x",
           "y": [
            36388
           ],
           "yaxis": "y"
          }
         ],
         "name": "2019"
        },
        {
         "data": [
          {
           "customdata": [
            [
             "Milliken"
            ]
           ],
           "hovertemplate": "Area=Milliken (M)<br>Value Year=2020<br>Count=%{x}<br>Population 2023=%{y}<br>Rate=%{marker.size}<br>Initials=%{text}<br>Area Name=%{customdata[0]}<extra></extra>",
           "legendgroup": "Milliken (M)",
           "marker": {
            "color": "purple",
            "opacity": 0.35,
            "size": [
             253.5533142
            ],
            "sizemode": "area",
            "sizeref": 0.9112894532,
            "symbol": "circle"
           },
           "mode": "markers+text",
           "name": "Milliken (M)",
           "orientation": "v",
           "showlegend": true,
           "text": [
            "M"
           ],
           "type": "scatter",
           "x": [
            71
           ],
           "xaxis": "x",
           "y": [
            28371
           ],
           "yaxis": "y"
          },
          {
           "customdata": [
            [
             "Etobicoke City Centre"
            ]
           ],
           "hovertemplate": "Area=Etobicoke City Centre (ECC)<br>Value Year=2020<br>Count=%{x}<br>Population 2023=%{y}<br>Rate=%{marker.size}<br>Initials=%{text}<br>Area Name=%{customdata[0]}<extra></extra>",
           "legendgroup": "Etobicoke City Centre (ECC)",
           "marker": {
            "color": "hotpink",
            "opacity": 0.35,
            "size": [
             428.6975098
            ],
            "sizemode": "area",
            "sizeref": 0.9112894532,
            "symbol": "circle"
           },
           "mode": "markers+text",
           "name": "Etobicoke City Centre (ECC)",
           "orientation": "v",
           "showlegend": true,
           "text": [
            "ECC"
           ],
           "type": "scatter",
           "x": [
            102
           ],
           "xaxis": "x",
           "y": [
            25495
           ],
           "yaxis": "y"
          },
          {
           "customdata": [
            [
             "Islington"
            ]
           ],
           "hovertemplate": "Area=Islington (I)<br>Value Year=2020<br>Count=%{x}<br>Population 2023=%{y}<br>Rate=%{marker.size}<br>Initials=%{text}<br>Area Name=%{customdata[0]}<extra></extra>",
           "legendgroup": "Islington (I)",
           "marker": {
            "color": "deepskyblue",
            "opacity": 0.35,
            "size": [
             199.8720856
            ],
            "sizemode": "area",
            "sizeref": 0.9112894532,
            "symbol": "circle"
           },
           "mode": "markers+text",
           "name": "Islington (I)",
           "orientation": "v",
           "showlegend": true,
           "text": [
            "I"
           ],
           "type": "scatter",
           "x": [
            50
           ],
           "xaxis": "x",
           "y": [
            25937
           ],
           "yaxis": "y"
          },
          {
           "customdata": [
            [
             "Wexford/Maryvale"
            ]
           ],
           "hovertemplate": "Area=Wexford/Maryvale (W)<br>Value Year=2020<br>Count=%{x}<br>Population 2023=%{y}<br>Rate=%{marker.size}<br>Initials=%{text}<br>Area Name=%{customdata[0]}<extra></extra>",
           "legendgroup": "Wexford/Maryvale (W)",
           "marker": {
            "color": "yellowgreen",
            "opacity": 0.35,
            "size": [
             298.0323181
            ],
            "sizemode": "area",
            "sizeref": 0.9112894532,
            "symbol": "circle"
           },
           "mode": "markers+text",
           "name": "Wexford/Maryvale (W)",
           "orientation": "v",
           "showlegend": true,
           "text": [
            "W"
           ],
           "type": "scatter",
           "x": [
            88
           ],
           "xaxis": "x",
           "y": [
            29870
           ],
           "yaxis": "y"
          },
          {
           "customdata": [
            [
             "Don Valley Village"
            ]
           ],
           "hovertemplate": "Area=Don Valley Village (DVV)<br>Value Year=2020<br>Count=%{x}<br>Population 2023=%{y}<br>Rate=%{marker.size}<br>Initials=%{text}<br>Area Name=%{customdata[0]}<extra></extra>",
           "legendgroup": "Don Valley Village (DVV)",
           "marker": {
            "color": "lightcoral",
            "opacity": 0.35,
            "size": [
             124.5373077
            ],
            "sizemode": "area",
            "sizeref": 0.9112894532,
            "symbol": "circle"
           },
           "mode": "markers+text",
           "name": "Don Valley Village (DVV)",
           "orientation": "v",
           "showlegend": true,
           "text": [
            "DVV"
           ],
           "type": "scatter",
           "x": [
            36
           ],
           "xaxis": "x",
           "y": [
            29424
           ],
           "yaxis": "y"
          },
          {
           "customdata": [
            [
             "Bedford Park-Nortown"
            ]
           ],
           "hovertemplate": "Area=Bedford Park-Nortown (BP)<br>Value Year=2020<br>Count=%{x}<br>Population 2023=%{y}<br>Rate=%{marker.size}<br>Initials=%{text}<br>Area Name=%{customdata[0]}<extra></extra>",
           "legendgroup": "Bedford Park-Nortown (BP)",
           "marker": {
            "color": "lightseagreen",
            "opacity": 0.35,
            "size": [
             326.0606995
            ],
            "sizemode": "area",
            "sizeref": 0.9112894532,
            "symbol": "circle"
           },
           "mode": "markers+text",
           "name": "Bedford Park-Nortown (BP)",
           "orientation": "v",
           "showlegend": true,
           "text": [
            "BP"
           ],
           "type": "scatter",
           "x": [
            81
           ],
           "xaxis": "x",
           "y": [
            25583
           ],
           "yaxis": "y"
          },
          {
           "customdata": [
            [
             "Newtonbrook West"
            ]
           ],
           "hovertemplate": "Area=Newtonbrook West (NW)<br>Value Year=2020<br>Count=%{x}<br>Population 2023=%{y}<br>Rate=%{marker.size}<br>Initials=%{text}<br>Area Name=%{customdata[0]}<extra></extra>",
           "legendgroup": "Newtonbrook West (NW)",
           "marker": {
            "color": "gold",
            "opacity": 0.35,
            "size": [
             237.7240906
            ],
            "sizemode": "area",
            "sizeref": 0.9112894532,
            "symbol": "circle"
           },
           "mode": "markers+text",
           "name": "Newtonbrook West (NW)",
           "orientation": "v",
           "showlegend": true,
           "text": [
            "NW"
           ],
           "type": "scatter",
           "x": [
            61
           ],
           "xaxis": "x",
           "y": [
            26265
           ],
           "yaxis": "y"
          },
          {
           "customdata": [
            [
             "Yorkdale-Glen Park"
            ]
           ],
           "hovertemplate": "Area=Yorkdale-Glen Park (YP)<br>Value Year=2020<br>Count=%{x}<br>Population 2023=%{y}<br>Rate=%{marker.size}<br>Initials=%{text}<br>Area Name=%{customdata[0]}<extra></extra>",
           "legendgroup": "Yorkdale-Glen Park (YP)",
           "marker": {
            "color": "lightsteelblue",
            "opacity": 0.35,
            "size": [
             544.4533691
            ],
            "sizemode": "area",
            "sizeref": 0.9112894532,
            "symbol": "circle"
           },
           "mode": "markers+text",
           "name": "Yorkdale-Glen Park (YP)",
           "orientation": "v",
           "showlegend": true,
           "text": [
            "YP"
           ],
           "type": "scatter",
           "x": [
            88
           ],
           "xaxis": "x",
           "y": [
            17258
           ],
           "yaxis": "y"
          },
          {
           "customdata": [
            [
             "York University Heights"
            ]
           ],
           "hovertemplate": "Area=York University Heights (YUH)<br>Value Year=2020<br>Count=%{x}<br>Population 2023=%{y}<br>Rate=%{marker.size}<br>Initials=%{text}<br>Area Name=%{customdata[0]}<extra></extra>",
           "legendgroup": "York University Heights (YUH)",
           "marker": {
            "color": "palegreen",
            "opacity": 0.35,
            "size": [
             631.6713867
            ],
            "sizemode": "area",
            "sizeref": 0.9112894532,
            "symbol": "circle"
           },
           "mode": "markers+text",
           "name": "York University Heights (YUH)",
           "orientation": "v",
           "showlegend": true,
           "text": [
            "YUH"
           ],
           "type": "scatter",
           "x": [
            187
           ],
           "xaxis": "x",
           "y": [
            29897
           ],
           "yaxis": "y"
          },
          {
           "customdata": [
            [
             "West Humber-Clairville"
            ]
           ],
           "hovertemplate": "Area=West Humber-Clairville (WH)<br>Value Year=2020<br>Count=%{x}<br>Population 2023=%{y}<br>Rate=%{marker.size}<br>Initials=%{text}<br>Area Name=%{customdata[0]}<extra></extra>",
           "legendgroup": "West Humber-Clairville (WH)",
           "marker": {
            "color": "Gray",
            "opacity": 0.35,
            "size": [
             1139.545288
            ],
            "sizemode": "area",
            "sizeref": 0.9112894532,
            "symbol": "circle"
           },
           "mode": "markers+text",
           "name": "West Humber-Clairville (WH)",
           "orientation": "v",
           "showlegend": true,
           "text": [
            "WH"
           ],
           "type": "scatter",
           "x": [
            407
           ],
           "xaxis": "x",
           "y": [
            36388
           ],
           "yaxis": "y"
          }
         ],
         "name": "2020"
        },
        {
         "data": [
          {
           "customdata": [
            [
             "Milliken"
            ]
           ],
           "hovertemplate": "Area=Milliken (M)<br>Value Year=2021<br>Count=%{x}<br>Population 2023=%{y}<br>Rate=%{marker.size}<br>Initials=%{text}<br>Area Name=%{customdata[0]}<extra></extra>",
           "legendgroup": "Milliken (M)",
           "marker": {
            "color": "purple",
            "opacity": 0.35,
            "size": [
             286.2458801
            ],
            "sizemode": "area",
            "sizeref": 0.9112894532,
            "symbol": "circle"
           },
           "mode": "markers+text",
           "name": "Milliken (M)",
           "orientation": "v",
           "showlegend": true,
           "text": [
            "M"
           ],
           "type": "scatter",
           "x": [
            80
           ],
           "xaxis": "x",
           "y": [
            28371
           ],
           "yaxis": "y"
          },
          {
           "customdata": [
            [
             "Etobicoke City Centre"
            ]
           ],
           "hovertemplate": "Area=Etobicoke City Centre (ECC)<br>Value Year=2021<br>Count=%{x}<br>Population 2023=%{y}<br>Rate=%{marker.size}<br>Initials=%{text}<br>Area Name=%{customdata[0]}<extra></extra>",
           "legendgroup": "Etobicoke City Centre (ECC)",
           "marker": {
            "color": "hotpink",
            "opacity": 0.35,
            "size": [
             488.4914856
            ],
            "sizemode": "area",
            "sizeref": 0.9112894532,
            "symbol": "circle"
           },
           "mode": "markers+text",
           "name": "Etobicoke City Centre (ECC)",
           "orientation": "v",
           "showlegend": true,
           "text": [
            "ECC"
           ],
           "type": "scatter",
           "x": [
            118
           ],
           "xaxis": "x",
           "y": [
            25495
           ],
           "yaxis": "y"
          },
          {
           "customdata": [
            [
             "Islington"
            ]
           ],
           "hovertemplate": "Area=Islington (I)<br>Value Year=2021<br>Count=%{x}<br>Population 2023=%{y}<br>Rate=%{marker.size}<br>Initials=%{text}<br>Area Name=%{customdata[0]}<extra></extra>",
           "legendgroup": "Islington (I)",
           "marker": {
            "color": "deepskyblue",
            "opacity": 0.35,
            "size": [
             231.1033173
            ],
            "sizemode": "area",
            "sizeref": 0.9112894532,
            "symbol": "circle"
           },
           "mode": "markers+text",
           "name": "Islington (I)",
           "orientation": "v",
           "showlegend": true,
           "text": [
            "I"
           ],
           "type": "scatter",
           "x": [
            58
           ],
           "xaxis": "x",
           "y": [
            25937
           ],
           "yaxis": "y"
          },
          {
           "customdata": [
            [
             "Wexford/Maryvale"
            ]
           ],
           "hovertemplate": "Area=Wexford/Maryvale (W)<br>Value Year=2021<br>Count=%{x}<br>Population 2023=%{y}<br>Rate=%{marker.size}<br>Initials=%{text}<br>Area Name=%{customdata[0]}<extra></extra>",
           "legendgroup": "Wexford/Maryvale (W)",
           "marker": {
            "color": "yellowgreen",
            "opacity": 0.35,
            "size": [
             312.04422
            ],
            "sizemode": "area",
            "sizeref": 0.9112894532,
            "symbol": "circle"
           },
           "mode": "markers+text",
           "name": "Wexford/Maryvale (W)",
           "orientation": "v",
           "showlegend": true,
           "text": [
            "W"
           ],
           "type": "scatter",
           "x": [
            92
           ],
           "xaxis": "x",
           "y": [
            29870
           ],
           "yaxis": "y"
          },
          {
           "customdata": [
            [
             "Don Valley Village"
            ]
           ],
           "hovertemplate": "Area=Don Valley Village (DVV)<br>Value Year=2021<br>Count=%{x}<br>Population 2023=%{y}<br>Rate=%{marker.size}<br>Initials=%{text}<br>Area Name=%{customdata[0]}<extra></extra>",
           "legendgroup": "Don Valley Village (DVV)",
           "marker": {
            "color": "lightcoral",
            "opacity": 0.35,
            "size": [
             117.7489166
            ],
            "sizemode": "area",
            "sizeref": 0.9112894532,
            "symbol": "circle"
           },
           "mode": "markers+text",
           "name": "Don Valley Village (DVV)",
           "orientation": "v",
           "showlegend": true,
           "text": [
            "DVV"
           ],
           "type": "scatter",
           "x": [
            34
           ],
           "xaxis": "x",
           "y": [
            29424
           ],
           "yaxis": "y"
          },
          {
           "customdata": [
            [
             "Bedford Park-Nortown"
            ]
           ],
           "hovertemplate": "Area=Bedford Park-Nortown (BP)<br>Value Year=2021<br>Count=%{x}<br>Population 2023=%{y}<br>Rate=%{marker.size}<br>Initials=%{text}<br>Area Name=%{customdata[0]}<extra></extra>",
           "legendgroup": "Bedford Park-Nortown (BP)",
           "marker": {
            "color": "lightseagreen",
            "opacity": 0.35,
            "size": [
             421.8731079
            ],
            "sizemode": "area",
            "sizeref": 0.9112894532,
            "symbol": "circle"
           },
           "mode": "markers+text",
           "name": "Bedford Park-Nortown (BP)",
           "orientation": "v",
           "showlegend": true,
           "text": [
            "BP"
           ],
           "type": "scatter",
           "x": [
            105
           ],
           "xaxis": "x",
           "y": [
            25583
           ],
           "yaxis": "y"
          },
          {
           "customdata": [
            [
             "Newtonbrook West"
            ]
           ],
           "hovertemplate": "Area=Newtonbrook West (NW)<br>Value Year=2021<br>Count=%{x}<br>Population 2023=%{y}<br>Rate=%{marker.size}<br>Initials=%{text}<br>Area Name=%{customdata[0]}<extra></extra>",
           "legendgroup": "Newtonbrook West (NW)",
           "marker": {
            "color": "gold",
            "opacity": 0.35,
            "size": [
             354.5270386
            ],
            "sizemode": "area",
            "sizeref": 0.9112894532,
            "symbol": "circle"
           },
           "mode": "markers+text",
           "name": "Newtonbrook West (NW)",
           "orientation": "v",
           "showlegend": true,
           "text": [
            "NW"
           ],
           "type": "scatter",
           "x": [
            91
           ],
           "xaxis": "x",
           "y": [
            26265
           ],
           "yaxis": "y"
          },
          {
           "customdata": [
            [
             "Yorkdale-Glen Park"
            ]
           ],
           "hovertemplate": "Area=Yorkdale-Glen Park (YP)<br>Value Year=2021<br>Count=%{x}<br>Population 2023=%{y}<br>Rate=%{marker.size}<br>Initials=%{text}<br>Area Name=%{customdata[0]}<extra></extra>",
           "legendgroup": "Yorkdale-Glen Park (YP)",
           "marker": {
            "color": "lightsteelblue",
            "opacity": 0.35,
            "size": [
             578.668457
            ],
            "sizemode": "area",
            "sizeref": 0.9112894532,
            "symbol": "circle"
           },
           "mode": "markers+text",
           "name": "Yorkdale-Glen Park (YP)",
           "orientation": "v",
           "showlegend": true,
           "text": [
            "YP"
           ],
           "type": "scatter",
           "x": [
            95
           ],
           "xaxis": "x",
           "y": [
            17258
           ],
           "yaxis": "y"
          },
          {
           "customdata": [
            [
             "York University Heights"
            ]
           ],
           "hovertemplate": "Area=York University Heights (YUH)<br>Value Year=2021<br>Count=%{x}<br>Population 2023=%{y}<br>Rate=%{marker.size}<br>Initials=%{text}<br>Area Name=%{customdata[0]}<extra></extra>",
           "legendgroup": "York University Heights (YUH)",
           "marker": {
            "color": "palegreen",
            "opacity": 0.35,
            "size": [
             586.2221069
            ],
            "sizemode": "area",
            "sizeref": 0.9112894532,
            "symbol": "circle"
           },
           "mode": "markers+text",
           "name": "York University Heights (YUH)",
           "orientation": "v",
           "showlegend": true,
           "text": [
            "YUH"
           ],
           "type": "scatter",
           "x": [
            173
           ],
           "xaxis": "x",
           "y": [
            29897
           ],
           "yaxis": "y"
          },
          {
           "customdata": [
            [
             "West Humber-Clairville"
            ]
           ],
           "hovertemplate": "Area=West Humber-Clairville (WH)<br>Value Year=2021<br>Count=%{x}<br>Population 2023=%{y}<br>Rate=%{marker.size}<br>Initials=%{text}<br>Area Name=%{customdata[0]}<extra></extra>",
           "legendgroup": "West Humber-Clairville (WH)",
           "marker": {
            "color": "Gray",
            "opacity": 0.35,
            "size": [
             1389.706055
            ],
            "sizemode": "area",
            "sizeref": 0.9112894532,
            "symbol": "circle"
           },
           "mode": "markers+text",
           "name": "West Humber-Clairville (WH)",
           "orientation": "v",
           "showlegend": true,
           "text": [
            "WH"
           ],
           "type": "scatter",
           "x": [
            496
           ],
           "xaxis": "x",
           "y": [
            36388
           ],
           "yaxis": "y"
          }
         ],
         "name": "2021"
        },
        {
         "data": [
          {
           "customdata": [
            [
             "Milliken"
            ]
           ],
           "hovertemplate": "Area=Milliken (M)<br>Value Year=2022<br>Count=%{x}<br>Population 2023=%{y}<br>Rate=%{marker.size}<br>Initials=%{text}<br>Area Name=%{customdata[0]}<extra></extra>",
           "legendgroup": "Milliken (M)",
           "marker": {
            "color": "purple",
            "opacity": 0.35,
            "size": [
             366.105072
            ],
            "sizemode": "area",
            "sizeref": 0.9112894532,
            "symbol": "circle"
           },
           "mode": "markers+text",
           "name": "Milliken (M)",
           "orientation": "v",
           "showlegend": true,
           "text": [
            "M"
           ],
           "type": "scatter",
           "x": [
            103
           ],
           "xaxis": "x",
           "y": [
            28371
           ],
           "yaxis": "y"
          },
          {
           "customdata": [
            [
             "Etobicoke City Centre"
            ]
           ],
           "hovertemplate": "Area=Etobicoke City Centre (ECC)<br>Value Year=2022<br>Count=%{x}<br>Population 2023=%{y}<br>Rate=%{marker.size}<br>Initials=%{text}<br>Area Name=%{customdata[0]}<extra></extra>",
           "legendgroup": "Etobicoke City Centre (ECC)",
           "marker": {
            "color": "hotpink",
            "opacity": 0.35,
            "size": [
             755.6166382
            ],
            "sizemode": "area",
            "sizeref": 0.9112894532,
            "symbol": "circle"
           },
           "mode": "markers+text",
           "name": "Etobicoke City Centre (ECC)",
           "orientation": "v",
           "showlegend": true,
           "text": [
            "ECC"
           ],
           "type": "scatter",
           "x": [
            187
           ],
           "xaxis": "x",
           "y": [
            25495
           ],
           "yaxis": "y"
          },
          {
           "customdata": [
            [
             "Islington"
            ]
           ],
           "hovertemplate": "Area=Islington (I)<br>Value Year=2022<br>Count=%{x}<br>Population 2023=%{y}<br>Rate=%{marker.size}<br>Initials=%{text}<br>Area Name=%{customdata[0]}<extra></extra>",
           "legendgroup": "Islington (I)",
           "marker": {
            "color": "deepskyblue",
            "opacity": 0.35,
            "size": [
             370.4579468
            ],
            "sizemode": "area",
            "sizeref": 0.9112894532,
            "symbol": "circle"
           },
           "mode": "markers+text",
           "name": "Islington (I)",
           "orientation": "v",
           "showlegend": true,
           "text": [
            "I"
           ],
           "type": "scatter",
           "x": [
            94
           ],
           "xaxis": "x",
           "y": [
            25937
           ],
           "yaxis": "y"
          },
          {
           "customdata": [
            [
             "Wexford/Maryvale"
            ]
           ],
           "hovertemplate": "Area=Wexford/Maryvale (W)<br>Value Year=2022<br>Count=%{x}<br>Population 2023=%{y}<br>Rate=%{marker.size}<br>Initials=%{text}<br>Area Name=%{customdata[0]}<extra></extra>",
           "legendgroup": "Wexford/Maryvale (W)",
           "marker": {
            "color": "yellowgreen",
            "opacity": 0.35,
            "size": [
             438.5668945
            ],
            "sizemode": "area",
            "sizeref": 0.9112894532,
            "symbol": "circle"
           },
           "mode": "markers+text",
           "name": "Wexford/Maryvale (W)",
           "orientation": "v",
           "showlegend": true,
           "text": [
            "W"
           ],
           "type": "scatter",
           "x": [
            130
           ],
           "xaxis": "x",
           "y": [
            29870
           ],
           "yaxis": "y"
          },
          {
           "customdata": [
            [
             "Don Valley Village"
            ]
           ],
           "hovertemplate": "Area=Don Valley Village (DVV)<br>Value Year=2022<br>Count=%{x}<br>Population 2023=%{y}<br>Rate=%{marker.size}<br>Initials=%{text}<br>Area Name=%{customdata[0]}<extra></extra>",
           "legendgroup": "Don Valley Village (DVV)",
           "marker": {
            "color": "lightcoral",
            "opacity": 0.35,
            "size": [
             237.2846375
            ],
            "sizemode": "area",
            "sizeref": 0.9112894532,
            "symbol": "circle"
           },
           "mode": "markers+text",
           "name": "Don Valley Village (DVV)",
           "orientation": "v",
           "showlegend": true,
           "text": [
            "DVV"
           ],
           "type": "scatter",
           "x": [
            69
           ],
           "xaxis": "x",
           "y": [
            29424
           ],
           "yaxis": "y"
          },
          {
           "customdata": [
            [
             "Bedford Park-Nortown"
            ]
           ],
           "hovertemplate": "Area=Bedford Park-Nortown (BP)<br>Value Year=2022<br>Count=%{x}<br>Population 2023=%{y}<br>Rate=%{marker.size}<br>Initials=%{text}<br>Area Name=%{customdata[0]}<extra></extra>",
           "legendgroup": "Bedford Park-Nortown (BP)",
           "marker": {
            "color": "lightseagreen",
            "opacity": 0.35,
            "size": [
             664.2007446
            ],
            "sizemode": "area",
            "sizeref": 0.9112894532,
            "symbol": "circle"
           },
           "mode": "markers+text",
           "name": "Bedford Park-Nortown (BP)",
           "orientation": "v",
           "showlegend": true,
           "text": [
            "BP"
           ],
           "type": "scatter",
           "x": [
            167
           ],
           "xaxis": "x",
           "y": [
            25583
           ],
           "yaxis": "y"
          },
          {
           "customdata": [
            [
             "Newtonbrook West"
            ]
           ],
           "hovertemplate": "Area=Newtonbrook West (NW)<br>Value Year=2022<br>Count=%{x}<br>Population 2023=%{y}<br>Rate=%{marker.size}<br>Initials=%{text}<br>Area Name=%{customdata[0]}<extra></extra>",
           "legendgroup": "Newtonbrook West (NW)",
           "marker": {
            "color": "gold",
            "opacity": 0.35,
            "size": [
             652.7616577
            ],
            "sizemode": "area",
            "sizeref": 0.9112894532,
            "symbol": "circle"
           },
           "mode": "markers+text",
           "name": "Newtonbrook West (NW)",
           "orientation": "v",
           "showlegend": true,
           "text": [
            "NW"
           ],
           "type": "scatter",
           "x": [
            169
           ],
           "xaxis": "x",
           "y": [
            26265
           ],
           "yaxis": "y"
          },
          {
           "customdata": [
            [
             "Yorkdale-Glen Park"
            ]
           ],
           "hovertemplate": "Area=Yorkdale-Glen Park (YP)<br>Value Year=2022<br>Count=%{x}<br>Population 2023=%{y}<br>Rate=%{marker.size}<br>Initials=%{text}<br>Area Name=%{customdata[0]}<extra></extra>",
           "legendgroup": "Yorkdale-Glen Park (YP)",
           "marker": {
            "color": "lightsteelblue",
            "opacity": 0.35,
            "size": [
             1150.933228
            ],
            "sizemode": "area",
            "sizeref": 0.9112894532,
            "symbol": "circle"
           },
           "mode": "markers+text",
           "name": "Yorkdale-Glen Park (YP)",
           "orientation": "v",
           "showlegend": true,
           "text": [
            "YP"
           ],
           "type": "scatter",
           "x": [
            193
           ],
           "xaxis": "x",
           "y": [
            17258
           ],
           "yaxis": "y"
          },
          {
           "customdata": [
            [
             "York University Heights"
            ]
           ],
           "hovertemplate": "Area=York University Heights (YUH)<br>Value Year=2022<br>Count=%{x}<br>Population 2023=%{y}<br>Rate=%{marker.size}<br>Initials=%{text}<br>Area Name=%{customdata[0]}<extra></extra>",
           "legendgroup": "York University Heights (YUH)",
           "marker": {
            "color": "palegreen",
            "opacity": 0.35,
            "size": [
             775.6643677
            ],
            "sizemode": "area",
            "sizeref": 0.9112894532,
            "symbol": "circle"
           },
           "mode": "markers+text",
           "name": "York University Heights (YUH)",
           "orientation": "v",
           "showlegend": true,
           "text": [
            "YUH"
           ],
           "type": "scatter",
           "x": [
            230
           ],
           "xaxis": "x",
           "y": [
            29897
           ],
           "yaxis": "y"
          },
          {
           "customdata": [
            [
             "West Humber-Clairville"
            ]
           ],
           "hovertemplate": "Area=West Humber-Clairville (WH)<br>Value Year=2022<br>Count=%{x}<br>Population 2023=%{y}<br>Rate=%{marker.size}<br>Initials=%{text}<br>Area Name=%{customdata[0]}<extra></extra>",
           "legendgroup": "West Humber-Clairville (WH)",
           "marker": {
            "color": "Gray",
            "opacity": 0.35,
            "size": [
             2153.794922
            ],
            "sizemode": "area",
            "sizeref": 0.9112894532,
            "symbol": "circle"
           },
           "mode": "markers+text",
           "name": "West Humber-Clairville (WH)",
           "orientation": "v",
           "showlegend": true,
           "text": [
            "WH"
           ],
           "type": "scatter",
           "x": [
            775
           ],
           "xaxis": "x",
           "y": [
            36388
           ],
           "yaxis": "y"
          }
         ],
         "name": "2022"
        },
        {
         "data": [
          {
           "customdata": [
            [
             "Milliken"
            ]
           ],
           "hovertemplate": "Area=Milliken (M)<br>Value Year=2023<br>Count=%{x}<br>Population 2023=%{y}<br>Rate=%{marker.size}<br>Initials=%{text}<br>Area Name=%{customdata[0]}<extra></extra>",
           "legendgroup": "Milliken (M)",
           "marker": {
            "color": "purple",
            "opacity": 0.35,
            "size": [
             1050.368286
            ],
            "sizemode": "area",
            "sizeref": 0.9112894532,
            "symbol": "circle"
           },
           "mode": "markers+text",
           "name": "Milliken (M)",
           "orientation": "v",
           "showlegend": true,
           "text": [
            "M"
           ],
           "type": "scatter",
           "x": [
            298
           ],
           "xaxis": "x",
           "y": [
            28371
           ],
           "yaxis": "y"
          },
          {
           "customdata": [
            [
             "Etobicoke City Centre"
            ]
           ],
           "hovertemplate": "Area=Etobicoke City Centre (ECC)<br>Value Year=2023<br>Count=%{x}<br>Population 2023=%{y}<br>Rate=%{marker.size}<br>Initials=%{text}<br>Area Name=%{customdata[0]}<extra></extra>",
           "legendgroup": "Etobicoke City Centre (ECC)",
           "marker": {
            "color": "hotpink",
            "opacity": 0.35,
            "size": [
             1153.167236
            ],
            "sizemode": "area",
            "sizeref": 0.9112894532,
            "symbol": "circle"
           },
           "mode": "markers+text",
           "name": "Etobicoke City Centre (ECC)",
           "orientation": "v",
           "showlegend": true,
           "text": [
            "ECC"
           ],
           "type": "scatter",
           "x": [
            294
           ],
           "xaxis": "x",
           "y": [
            25495
           ],
           "yaxis": "y"
          },
          {
           "customdata": [
            [
             "Islington"
            ]
           ],
           "hovertemplate": "Area=Islington (I)<br>Value Year=2023<br>Count=%{x}<br>Population 2023=%{y}<br>Rate=%{marker.size}<br>Initials=%{text}<br>Area Name=%{customdata[0]}<extra></extra>",
           "legendgroup": "Islington (I)",
           "marker": {
            "color": "deepskyblue",
            "opacity": 0.35,
            "size": [
             655.4343262
            ],
            "sizemode": "area",
            "sizeref": 0.9112894532,
            "symbol": "circle"
           },
           "mode": "markers+text",
           "name": "Islington (I)",
           "orientation": "v",
           "showlegend": true,
           "text": [
            "I"
           ],
           "type": "scatter",
           "x": [
            170
           ],
           "xaxis": "x",
           "y": [
            25937
           ],
           "yaxis": "y"
          },
          {
           "customdata": [
            [
             "Wexford/Maryvale"
            ]
           ],
           "hovertemplate": "Area=Wexford/Maryvale (W)<br>Value Year=2023<br>Count=%{x}<br>Population 2023=%{y}<br>Rate=%{marker.size}<br>Initials=%{text}<br>Area Name=%{customdata[0]}<extra></extra>",
           "legendgroup": "Wexford/Maryvale (W)",
           "marker": {
            "color": "yellowgreen",
            "opacity": 0.35,
            "size": [
             679.6116333
            ],
            "sizemode": "area",
            "sizeref": 0.9112894532,
            "symbol": "circle"
           },
           "mode": "markers+text",
           "name": "Wexford/Maryvale (W)",
           "orientation": "v",
           "showlegend": true,
           "text": [
            "W"
           ],
           "type": "scatter",
           "x": [
            203
           ],
           "xaxis": "x",
           "y": [
            29870
           ],
           "yaxis": "y"
          },
          {
           "customdata": [
            [
             "Don Valley Village"
            ]
           ],
           "hovertemplate": "Area=Don Valley Village (DVV)<br>Value Year=2023<br>Count=%{x}<br>Population 2023=%{y}<br>Rate=%{marker.size}<br>Initials=%{text}<br>Area Name=%{customdata[0]}<extra></extra>",
           "legendgroup": "Don Valley Village (DVV)",
           "marker": {
            "color": "lightcoral",
            "opacity": 0.35,
            "size": [
             547.1723633
            ],
            "sizemode": "area",
            "sizeref": 0.9112894532,
            "symbol": "circle"
           },
           "mode": "markers+text",
           "name": "Don Valley Village (DVV)",
           "orientation": "v",
           "showlegend": true,
           "text": [
            "DVV"
           ],
           "type": "scatter",
           "x": [
            161
           ],
           "xaxis": "x",
           "y": [
            29424
           ],
           "yaxis": "y"
          },
          {
           "customdata": [
            [
             "Bedford Park-Nortown"
            ]
           ],
           "hovertemplate": "Area=Bedford Park-Nortown (BP)<br>Value Year=2023<br>Count=%{x}<br>Population 2023=%{y}<br>Rate=%{marker.size}<br>Initials=%{text}<br>Area Name=%{customdata[0]}<extra></extra>",
           "legendgroup": "Bedford Park-Nortown (BP)",
           "marker": {
            "color": "lightseagreen",
            "opacity": 0.35,
            "size": [
             895.1256714
            ],
            "sizemode": "area",
            "sizeref": 0.9112894532,
            "symbol": "circle"
           },
           "mode": "markers+text",
           "name": "Bedford Park-Nortown (BP)",
           "orientation": "v",
           "showlegend": true,
           "text": [
            "BP"
           ],
           "type": "scatter",
           "x": [
            229
           ],
           "xaxis": "x",
           "y": [
            25583
           ],
           "yaxis": "y"
          },
          {
           "customdata": [
            [
             "Newtonbrook West"
            ]
           ],
           "hovertemplate": "Area=Newtonbrook West (NW)<br>Value Year=2023<br>Count=%{x}<br>Population 2023=%{y}<br>Rate=%{marker.size}<br>Initials=%{text}<br>Area Name=%{customdata[0]}<extra></extra>",
           "legendgroup": "Newtonbrook West (NW)",
           "marker": {
            "color": "gold",
            "opacity": 0.35,
            "size": [
             814.772522
            ],
            "sizemode": "area",
            "sizeref": 0.9112894532,
            "symbol": "circle"
           },
           "mode": "markers+text",
           "name": "Newtonbrook West (NW)",
           "orientation": "v",
           "showlegend": true,
           "text": [
            "NW"
           ],
           "type": "scatter",
           "x": [
            214
           ],
           "xaxis": "x",
           "y": [
            26265
           ],
           "yaxis": "y"
          },
          {
           "customdata": [
            [
             "Yorkdale-Glen Park"
            ]
           ],
           "hovertemplate": "Area=Yorkdale-Glen Park (YP)<br>Value Year=2023<br>Count=%{x}<br>Population 2023=%{y}<br>Rate=%{marker.size}<br>Initials=%{text}<br>Area Name=%{customdata[0]}<extra></extra>",
           "legendgroup": "Yorkdale-Glen Park (YP)",
           "marker": {
            "color": "lightsteelblue",
            "opacity": 0.35,
            "size": [
             1153.088379
            ],
            "sizemode": "area",
            "sizeref": 0.9112894532,
            "symbol": "circle"
           },
           "mode": "markers+text",
           "name": "Yorkdale-Glen Park (YP)",
           "orientation": "v",
           "showlegend": true,
           "text": [
            "YP"
           ],
           "type": "scatter",
           "x": [
            199
           ],
           "xaxis": "x",
           "y": [
            17258
           ],
           "yaxis": "y"
          },
          {
           "customdata": [
            [
             "York University Heights"
            ]
           ],
           "hovertemplate": "Area=York University Heights (YUH)<br>Value Year=2023<br>Count=%{x}<br>Population 2023=%{y}<br>Rate=%{marker.size}<br>Initials=%{text}<br>Area Name=%{customdata[0]}<extra></extra>",
           "legendgroup": "York University Heights (YUH)",
           "marker": {
            "color": "palegreen",
            "opacity": 0.35,
            "size": [
             879.6869507
            ],
            "sizemode": "area",
            "sizeref": 0.9112894532,
            "symbol": "circle"
           },
           "mode": "markers+text",
           "name": "York University Heights (YUH)",
           "orientation": "v",
           "showlegend": true,
           "text": [
            "YUH"
           ],
           "type": "scatter",
           "x": [
            263
           ],
           "xaxis": "x",
           "y": [
            29897
           ],
           "yaxis": "y"
          },
          {
           "customdata": [
            [
             "West Humber-Clairville"
            ]
           ],
           "hovertemplate": "Area=West Humber-Clairville (WH)<br>Value Year=2023<br>Count=%{x}<br>Population 2023=%{y}<br>Rate=%{marker.size}<br>Initials=%{text}<br>Area Name=%{customdata[0]}<extra></extra>",
           "legendgroup": "West Humber-Clairville (WH)",
           "marker": {
            "color": "Gray",
            "opacity": 0.35,
            "size": [
             2278.223633
            ],
            "sizemode": "area",
            "sizeref": 0.9112894532,
            "symbol": "circle"
           },
           "mode": "markers+text",
           "name": "West Humber-Clairville (WH)",
           "orientation": "v",
           "showlegend": true,
           "text": [
            "WH"
           ],
           "type": "scatter",
           "x": [
            829
           ],
           "xaxis": "x",
           "y": [
            36388
           ],
           "yaxis": "y"
          }
         ],
         "name": "2023"
        }
       ],
       "layout": {
        "annotations": [
         {
          "arrowhead": 2,
          "ax": -30,
          "ay": -20,
          "font": {
           "color": "hotpink",
           "size": 12
          },
          "showarrow": true,
          "text": "Max Auto Theft: 829.0 in 2023",
          "x": 829,
          "y": 37297.7
         },
         {
          "align": "left",
          "font": {
           "size": 14
          },
          "showarrow": false,
          "text": "The visualization illustrates the behaviour of Auto Theft crime count, and rate over the past 10 years<br>based on the Top 10 Areas at Toronto that have high records in 2023",
          "x": 0,
          "xref": "paper",
          "y": 1.07,
          "yref": "paper"
         },
         {
          "align": "left",
          "font": {
           "size": 14
          },
          "showarrow": false,
          "text": "<b>Data source:</b> Neighbourhood<br>CrimeRatesfrom Toronto <br>Open Data Catalog <br>(https://open.toronto.ca/dataset <br>/neighbourhood-crime-rates/)",
          "x": 1.38,
          "xref": "paper",
          "y": 0.035,
          "yref": "paper"
         },
         {
          "align": "left",
          "font": {
           "size": 14
          },
          "showarrow": false,
          "text": "<b>Designed by:</b> Ahmed Alhuraibi",
          "x": 1.36,
          "xref": "paper",
          "y": 0,
          "yref": "paper"
         }
        ],
        "height": 830,
        "images": [
         {
          "sizex": 0.18,
          "sizey": 0.13,
          "source": "https://avatars.githubusercontent.com/u/105318370?s=200&v=4",
          "x": 1.18,
          "xanchor": "left",
          "xref": "paper",
          "y": 1.13,
          "yanchor": "top",
          "yref": "paper"
         }
        ],
        "legend": {
         "itemsizing": "constant",
         "title": {
          "text": ""
         },
         "tracegroupgap": 0
        },
        "plot_bgcolor": "White",
        "sliders": [
         {
          "active": 0,
          "currentvalue": {
           "prefix": "Value Year="
          },
          "len": 0.9,
          "pad": {
           "b": 10,
           "t": 60
          },
          "steps": [
           {
            "args": [
             [
              "2014"
             ],
             {
              "frame": {
               "duration": 0,
               "redraw": false
              },
              "fromcurrent": true,
              "mode": "immediate",
              "transition": {
               "duration": 0,
               "easing": "linear"
              }
             }
            ],
            "label": "2014",
            "method": "animate"
           },
           {
            "args": [
             [
              "2015"
             ],
             {
              "frame": {
               "duration": 0,
               "redraw": false
              },
              "fromcurrent": true,
              "mode": "immediate",
              "transition": {
               "duration": 0,
               "easing": "linear"
              }
             }
            ],
            "label": "2015",
            "method": "animate"
           },
           {
            "args": [
             [
              "2016"
             ],
             {
              "frame": {
               "duration": 0,
               "redraw": false
              },
              "fromcurrent": true,
              "mode": "immediate",
              "transition": {
               "duration": 0,
               "easing": "linear"
              }
             }
            ],
            "label": "2016",
            "method": "animate"
           },
           {
            "args": [
             [
              "2017"
             ],
             {
              "frame": {
               "duration": 0,
               "redraw": false
              },
              "fromcurrent": true,
              "mode": "immediate",
              "transition": {
               "duration": 0,
               "easing": "linear"
              }
             }
            ],
            "label": "2017",
            "method": "animate"
           },
           {
            "args": [
             [
              "2018"
             ],
             {
              "frame": {
               "duration": 0,
               "redraw": false
              },
              "fromcurrent": true,
              "mode": "immediate",
              "transition": {
               "duration": 0,
               "easing": "linear"
              }
             }
            ],
            "label": "2018",
            "method": "animate"
           },
           {
            "args": [
             [
              "2019"
             ],
             {
              "frame": {
               "duration": 0,
               "redraw": false
              },
              "fromcurrent": true,
              "mode": "immediate",
              "transition": {
               "duration": 0,
               "easing": "linear"
              }
             }
            ],
            "label": "2019",
            "method": "animate"
           },
           {
            "args": [
             [
              "2020"
             ],
             {
              "frame": {
               "duration": 0,
               "redraw": false
              },
              "fromcurrent": true,
              "mode": "immediate",
              "transition": {
               "duration": 0,
               "easing": "linear"
              }
             }
            ],
            "label": "2020",
            "method": "animate"
           },
           {
            "args": [
             [
              "2021"
             ],
             {
              "frame": {
               "duration": 0,
               "redraw": false
              },
              "fromcurrent": true,
              "mode": "immediate",
              "transition": {
               "duration": 0,
               "easing": "linear"
              }
             }
            ],
            "label": "2021",
            "method": "animate"
           },
           {
            "args": [
             [
              "2022"
             ],
             {
              "frame": {
               "duration": 0,
               "redraw": false
              },
              "fromcurrent": true,
              "mode": "immediate",
              "transition": {
               "duration": 0,
               "easing": "linear"
              }
             }
            ],
            "label": "2022",
            "method": "animate"
           },
           {
            "args": [
             [
              "2023"
             ],
             {
              "frame": {
               "duration": 0,
               "redraw": false
              },
              "fromcurrent": true,
              "mode": "immediate",
              "transition": {
               "duration": 0,
               "easing": "linear"
              }
             }
            ],
            "label": "2023",
            "method": "animate"
           }
          ],
          "x": 0.1,
          "xanchor": "left",
          "y": 0,
          "yanchor": "top"
         }
        ],
        "template": {
         "data": {
          "bar": [
           {
            "error_x": {
             "color": "#2a3f5f"
            },
            "error_y": {
             "color": "#2a3f5f"
            },
            "marker": {
             "line": {
              "color": "#E5ECF6",
              "width": 0.5
             },
             "pattern": {
              "fillmode": "overlay",
              "size": 10,
              "solidity": 0.2
             }
            },
            "type": "bar"
           }
          ],
          "barpolar": [
           {
            "marker": {
             "line": {
              "color": "#E5ECF6",
              "width": 0.5
             },
             "pattern": {
              "fillmode": "overlay",
              "size": 10,
              "solidity": 0.2
             }
            },
            "type": "barpolar"
           }
          ],
          "carpet": [
           {
            "aaxis": {
             "endlinecolor": "#2a3f5f",
             "gridcolor": "white",
             "linecolor": "white",
             "minorgridcolor": "white",
             "startlinecolor": "#2a3f5f"
            },
            "baxis": {
             "endlinecolor": "#2a3f5f",
             "gridcolor": "white",
             "linecolor": "white",
             "minorgridcolor": "white",
             "startlinecolor": "#2a3f5f"
            },
            "type": "carpet"
           }
          ],
          "choropleth": [
           {
            "colorbar": {
             "outlinewidth": 0,
             "ticks": ""
            },
            "type": "choropleth"
           }
          ],
          "contour": [
           {
            "colorbar": {
             "outlinewidth": 0,
             "ticks": ""
            },
            "colorscale": [
             [
              0,
              "#0d0887"
             ],
             [
              0.1111111111111111,
              "#46039f"
             ],
             [
              0.2222222222222222,
              "#7201a8"
             ],
             [
              0.3333333333333333,
              "#9c179e"
             ],
             [
              0.4444444444444444,
              "#bd3786"
             ],
             [
              0.5555555555555556,
              "#d8576b"
             ],
             [
              0.6666666666666666,
              "#ed7953"
             ],
             [
              0.7777777777777778,
              "#fb9f3a"
             ],
             [
              0.8888888888888888,
              "#fdca26"
             ],
             [
              1,
              "#f0f921"
             ]
            ],
            "type": "contour"
           }
          ],
          "contourcarpet": [
           {
            "colorbar": {
             "outlinewidth": 0,
             "ticks": ""
            },
            "type": "contourcarpet"
           }
          ],
          "heatmap": [
           {
            "colorbar": {
             "outlinewidth": 0,
             "ticks": ""
            },
            "colorscale": [
             [
              0,
              "#0d0887"
             ],
             [
              0.1111111111111111,
              "#46039f"
             ],
             [
              0.2222222222222222,
              "#7201a8"
             ],
             [
              0.3333333333333333,
              "#9c179e"
             ],
             [
              0.4444444444444444,
              "#bd3786"
             ],
             [
              0.5555555555555556,
              "#d8576b"
             ],
             [
              0.6666666666666666,
              "#ed7953"
             ],
             [
              0.7777777777777778,
              "#fb9f3a"
             ],
             [
              0.8888888888888888,
              "#fdca26"
             ],
             [
              1,
              "#f0f921"
             ]
            ],
            "type": "heatmap"
           }
          ],
          "heatmapgl": [
           {
            "colorbar": {
             "outlinewidth": 0,
             "ticks": ""
            },
            "colorscale": [
             [
              0,
              "#0d0887"
             ],
             [
              0.1111111111111111,
              "#46039f"
             ],
             [
              0.2222222222222222,
              "#7201a8"
             ],
             [
              0.3333333333333333,
              "#9c179e"
             ],
             [
              0.4444444444444444,
              "#bd3786"
             ],
             [
              0.5555555555555556,
              "#d8576b"
             ],
             [
              0.6666666666666666,
              "#ed7953"
             ],
             [
              0.7777777777777778,
              "#fb9f3a"
             ],
             [
              0.8888888888888888,
              "#fdca26"
             ],
             [
              1,
              "#f0f921"
             ]
            ],
            "type": "heatmapgl"
           }
          ],
          "histogram": [
           {
            "marker": {
             "pattern": {
              "fillmode": "overlay",
              "size": 10,
              "solidity": 0.2
             }
            },
            "type": "histogram"
           }
          ],
          "histogram2d": [
           {
            "colorbar": {
             "outlinewidth": 0,
             "ticks": ""
            },
            "colorscale": [
             [
              0,
              "#0d0887"
             ],
             [
              0.1111111111111111,
              "#46039f"
             ],
             [
              0.2222222222222222,
              "#7201a8"
             ],
             [
              0.3333333333333333,
              "#9c179e"
             ],
             [
              0.4444444444444444,
              "#bd3786"
             ],
             [
              0.5555555555555556,
              "#d8576b"
             ],
             [
              0.6666666666666666,
              "#ed7953"
             ],
             [
              0.7777777777777778,
              "#fb9f3a"
             ],
             [
              0.8888888888888888,
              "#fdca26"
             ],
             [
              1,
              "#f0f921"
             ]
            ],
            "type": "histogram2d"
           }
          ],
          "histogram2dcontour": [
           {
            "colorbar": {
             "outlinewidth": 0,
             "ticks": ""
            },
            "colorscale": [
             [
              0,
              "#0d0887"
             ],
             [
              0.1111111111111111,
              "#46039f"
             ],
             [
              0.2222222222222222,
              "#7201a8"
             ],
             [
              0.3333333333333333,
              "#9c179e"
             ],
             [
              0.4444444444444444,
              "#bd3786"
             ],
             [
              0.5555555555555556,
              "#d8576b"
             ],
             [
              0.6666666666666666,
              "#ed7953"
             ],
             [
              0.7777777777777778,
              "#fb9f3a"
             ],
             [
              0.8888888888888888,
              "#fdca26"
             ],
             [
              1,
              "#f0f921"
             ]
            ],
            "type": "histogram2dcontour"
           }
          ],
          "mesh3d": [
           {
            "colorbar": {
             "outlinewidth": 0,
             "ticks": ""
            },
            "type": "mesh3d"
           }
          ],
          "parcoords": [
           {
            "line": {
             "colorbar": {
              "outlinewidth": 0,
              "ticks": ""
             }
            },
            "type": "parcoords"
           }
          ],
          "pie": [
           {
            "automargin": true,
            "type": "pie"
           }
          ],
          "scatter": [
           {
            "fillpattern": {
             "fillmode": "overlay",
             "size": 10,
             "solidity": 0.2
            },
            "type": "scatter"
           }
          ],
          "scatter3d": [
           {
            "line": {
             "colorbar": {
              "outlinewidth": 0,
              "ticks": ""
             }
            },
            "marker": {
             "colorbar": {
              "outlinewidth": 0,
              "ticks": ""
             }
            },
            "type": "scatter3d"
           }
          ],
          "scattercarpet": [
           {
            "marker": {
             "colorbar": {
              "outlinewidth": 0,
              "ticks": ""
             }
            },
            "type": "scattercarpet"
           }
          ],
          "scattergeo": [
           {
            "marker": {
             "colorbar": {
              "outlinewidth": 0,
              "ticks": ""
             }
            },
            "type": "scattergeo"
           }
          ],
          "scattergl": [
           {
            "marker": {
             "colorbar": {
              "outlinewidth": 0,
              "ticks": ""
             }
            },
            "type": "scattergl"
           }
          ],
          "scattermapbox": [
           {
            "marker": {
             "colorbar": {
              "outlinewidth": 0,
              "ticks": ""
             }
            },
            "type": "scattermapbox"
           }
          ],
          "scatterpolar": [
           {
            "marker": {
             "colorbar": {
              "outlinewidth": 0,
              "ticks": ""
             }
            },
            "type": "scatterpolar"
           }
          ],
          "scatterpolargl": [
           {
            "marker": {
             "colorbar": {
              "outlinewidth": 0,
              "ticks": ""
             }
            },
            "type": "scatterpolargl"
           }
          ],
          "scatterternary": [
           {
            "marker": {
             "colorbar": {
              "outlinewidth": 0,
              "ticks": ""
             }
            },
            "type": "scatterternary"
           }
          ],
          "surface": [
           {
            "colorbar": {
             "outlinewidth": 0,
             "ticks": ""
            },
            "colorscale": [
             [
              0,
              "#0d0887"
             ],
             [
              0.1111111111111111,
              "#46039f"
             ],
             [
              0.2222222222222222,
              "#7201a8"
             ],
             [
              0.3333333333333333,
              "#9c179e"
             ],
             [
              0.4444444444444444,
              "#bd3786"
             ],
             [
              0.5555555555555556,
              "#d8576b"
             ],
             [
              0.6666666666666666,
              "#ed7953"
             ],
             [
              0.7777777777777778,
              "#fb9f3a"
             ],
             [
              0.8888888888888888,
              "#fdca26"
             ],
             [
              1,
              "#f0f921"
             ]
            ],
            "type": "surface"
           }
          ],
          "table": [
           {
            "cells": {
             "fill": {
              "color": "#EBF0F8"
             },
             "line": {
              "color": "white"
             }
            },
            "header": {
             "fill": {
              "color": "#C8D4E3"
             },
             "line": {
              "color": "white"
             }
            },
            "type": "table"
           }
          ]
         },
         "layout": {
          "annotationdefaults": {
           "arrowcolor": "#2a3f5f",
           "arrowhead": 0,
           "arrowwidth": 1
          },
          "autotypenumbers": "strict",
          "coloraxis": {
           "colorbar": {
            "outlinewidth": 0,
            "ticks": ""
           }
          },
          "colorscale": {
           "diverging": [
            [
             0,
             "#8e0152"
            ],
            [
             0.1,
             "#c51b7d"
            ],
            [
             0.2,
             "#de77ae"
            ],
            [
             0.3,
             "#f1b6da"
            ],
            [
             0.4,
             "#fde0ef"
            ],
            [
             0.5,
             "#f7f7f7"
            ],
            [
             0.6,
             "#e6f5d0"
            ],
            [
             0.7,
             "#b8e186"
            ],
            [
             0.8,
             "#7fbc41"
            ],
            [
             0.9,
             "#4d9221"
            ],
            [
             1,
             "#276419"
            ]
           ],
           "sequential": [
            [
             0,
             "#0d0887"
            ],
            [
             0.1111111111111111,
             "#46039f"
            ],
            [
             0.2222222222222222,
             "#7201a8"
            ],
            [
             0.3333333333333333,
             "#9c179e"
            ],
            [
             0.4444444444444444,
             "#bd3786"
            ],
            [
             0.5555555555555556,
             "#d8576b"
            ],
            [
             0.6666666666666666,
             "#ed7953"
            ],
            [
             0.7777777777777778,
             "#fb9f3a"
            ],
            [
             0.8888888888888888,
             "#fdca26"
            ],
            [
             1,
             "#f0f921"
            ]
           ],
           "sequentialminus": [
            [
             0,
             "#0d0887"
            ],
            [
             0.1111111111111111,
             "#46039f"
            ],
            [
             0.2222222222222222,
             "#7201a8"
            ],
            [
             0.3333333333333333,
             "#9c179e"
            ],
            [
             0.4444444444444444,
             "#bd3786"
            ],
            [
             0.5555555555555556,
             "#d8576b"
            ],
            [
             0.6666666666666666,
             "#ed7953"
            ],
            [
             0.7777777777777778,
             "#fb9f3a"
            ],
            [
             0.8888888888888888,
             "#fdca26"
            ],
            [
             1,
             "#f0f921"
            ]
           ]
          },
          "colorway": [
           "#636efa",
           "#EF553B",
           "#00cc96",
           "#ab63fa",
           "#FFA15A",
           "#19d3f3",
           "#FF6692",
           "#B6E880",
           "#FF97FF",
           "#FECB52"
          ],
          "font": {
           "color": "#2a3f5f"
          },
          "geo": {
           "bgcolor": "white",
           "lakecolor": "white",
           "landcolor": "#E5ECF6",
           "showlakes": true,
           "showland": true,
           "subunitcolor": "white"
          },
          "hoverlabel": {
           "align": "left"
          },
          "hovermode": "closest",
          "mapbox": {
           "style": "light"
          },
          "paper_bgcolor": "white",
          "plot_bgcolor": "#E5ECF6",
          "polar": {
           "angularaxis": {
            "gridcolor": "white",
            "linecolor": "white",
            "ticks": ""
           },
           "bgcolor": "#E5ECF6",
           "radialaxis": {
            "gridcolor": "white",
            "linecolor": "white",
            "ticks": ""
           }
          },
          "scene": {
           "xaxis": {
            "backgroundcolor": "#E5ECF6",
            "gridcolor": "white",
            "gridwidth": 2,
            "linecolor": "white",
            "showbackground": true,
            "ticks": "",
            "zerolinecolor": "white"
           },
           "yaxis": {
            "backgroundcolor": "#E5ECF6",
            "gridcolor": "white",
            "gridwidth": 2,
            "linecolor": "white",
            "showbackground": true,
            "ticks": "",
            "zerolinecolor": "white"
           },
           "zaxis": {
            "backgroundcolor": "#E5ECF6",
            "gridcolor": "white",
            "gridwidth": 2,
            "linecolor": "white",
            "showbackground": true,
            "ticks": "",
            "zerolinecolor": "white"
           }
          },
          "shapedefaults": {
           "line": {
            "color": "#2a3f5f"
           }
          },
          "ternary": {
           "aaxis": {
            "gridcolor": "white",
            "linecolor": "white",
            "ticks": ""
           },
           "baxis": {
            "gridcolor": "white",
            "linecolor": "white",
            "ticks": ""
           },
           "bgcolor": "#E5ECF6",
           "caxis": {
            "gridcolor": "white",
            "linecolor": "white",
            "ticks": ""
           }
          },
          "title": {
           "x": 0.05
          },
          "xaxis": {
           "automargin": true,
           "gridcolor": "white",
           "linecolor": "white",
           "ticks": "",
           "title": {
            "standoff": 15
           },
           "zerolinecolor": "white",
           "zerolinewidth": 2
          },
          "yaxis": {
           "automargin": true,
           "gridcolor": "white",
           "linecolor": "white",
           "ticks": "",
           "title": {
            "standoff": 15
           },
           "zerolinecolor": "white",
           "zerolinewidth": 2
          }
         }
        },
        "title": {
         "font": {
          "size": 25
         },
         "text": "<b>Top 10 Toronto Auto Theft Areas</b>"
        },
        "updatemenus": [
         {
          "buttons": [
           {
            "args": [
             null,
             {
              "frame": {
               "duration": 500,
               "redraw": false
              },
              "fromcurrent": true,
              "mode": "immediate",
              "transition": {
               "duration": 500,
               "easing": "linear"
              }
             }
            ],
            "label": "&#9654;",
            "method": "animate"
           },
           {
            "args": [
             [
              null
             ],
             {
              "frame": {
               "duration": 0,
               "redraw": false
              },
              "fromcurrent": true,
              "mode": "immediate",
              "transition": {
               "duration": 0,
               "easing": "linear"
              }
             }
            ],
            "label": "&#9724;",
            "method": "animate"
           }
          ],
          "direction": "left",
          "pad": {
           "r": 10,
           "t": 70
          },
          "showactive": false,
          "type": "buttons",
          "x": 0.1,
          "xanchor": "right",
          "y": 0,
          "yanchor": "top"
         }
        ],
        "width": 1000,
        "xaxis": {
         "anchor": "y",
         "domain": [
          0,
          1
         ],
         "gridcolor": "lightsteelblue",
         "griddash": "dot",
         "minor": {
          "griddash": "dot"
         },
         "range": [
          0,
          911.9000000000001
         ],
         "title": {
          "text": "Count"
         },
         "zeroline": true,
         "zerolinecolor": "lightsteelblue",
         "zerolinewidth": 2
        },
        "yaxis": {
         "anchor": "x",
         "domain": [
          0,
          1
         ],
         "gridcolor": "lightsteelblue",
         "griddash": "dot",
         "minor": {
          "griddash": "dot"
         },
         "title": {
          "text": "Population 2023"
         }
        }
       }
      }
     },
     "metadata": {},
     "output_type": "display_data"
    }
   ],
   "source": [
    "# Importing the needed visualization packages to plot final_df data\n",
    "import plotly.express as px\n",
    "import matplotlib.pyplot as plt\n",
    "import numpy as np\n",
    "import plotly.graph_objects as go\n",
    "\n",
    "max_count_row = top_10_final_df.loc[top_10_final_df['Count'].idxmax()]\n",
    "\n",
    "# visualizing the data in final_df data frame in bubbles chart\n",
    "\n",
    "# Define the x and y axes  \n",
    "x_axis =  'Count'\n",
    "y_axis = 'Population 2023'\n",
    "# y_axis = 'Count'\n",
    "\n",
    "\n",
    "# Define the size of the bubbles \n",
    "# size_column = 'Count'\n",
    "size_column = 'Rate'\n",
    "\n",
    "\n",
    "# Define hover data\n",
    "hover_data = ['Area Name']\n",
    "\n",
    "# Define the color palette\n",
    "color_palette = ['purple', 'hotpink', 'deepskyblue', 'yellowgreen', 'lightcoral', 'lightseagreen', 'gold', 'lightsteelblue', 'palegreen','Gray']\n",
    "\n",
    "\n",
    "# Create the initial bubble chart with custom color palette\n",
    "fig = px.scatter(top_10_final_df, x=x_axis, y=y_axis, size=size_column,\n",
    "                 hover_data=hover_data, title='<b>Top 10 Toronto Auto Theft Areas</b>',\n",
    "                 color_discrete_sequence=color_palette,\n",
    "                 color='Area',\n",
    "                 animation_frame='Value Year',\n",
    "                 text='Initials',\n",
    "                 color_continuous_scale='Viridis',\n",
    "                 size_max=50,\n",
    "                 opacity=0.35\n",
    "                 )\n",
    "\n",
    "# Adding annotation to show the maximum value of Auto Theft in maximum year of the dataset\n",
    "fig.add_annotation(\n",
    "    x=max_count_row[x_axis],  # x-coordinate of the annotation\n",
    "    y=max_count_row[y_axis]*1.025,  # y-coordinate of the annotation\n",
    "    text=f\"Max Auto Theft: {max_count_row['Count']} in {max_count_row['Value Year']}\",  # Text of the annotation\n",
    "    showarrow=True,  # Display an arrow pointing to the annotation\n",
    "    arrowhead=2,  # Set the arrowhead style\n",
    "    ax=-30,  # Set the arrow start point to be at the tail of the arrow\n",
    "    ay=-20,  # Adjust the arrow angle\n",
    "    font=dict(color='hotpink', size=12)  # Set the font color and size\n",
    ")\n",
    "# adding Alt-text as description of the graph\n",
    "fig.add_annotation(\n",
    "     dict(\n",
    "        x=0,\n",
    "        y=1.07,\n",
    "        xref='paper',\n",
    "        yref='paper',\n",
    "        text='The visualization illustrates the behaviour of Auto Theft crime count, and rate over the past 10 years<br>based on the Top 10 Areas at Toronto that have high records in 2023',\n",
    "        align='left',\n",
    "        showarrow=False,\n",
    "        font=dict(size=14)\n",
    "                                            \n",
    "        )\n",
    ")\n",
    "\n",
    "# adding text to show the data source and URL\n",
    "fig.add_annotation(\n",
    "     dict(\n",
    "        x=1.38,\n",
    "        y=0.035,\n",
    "        xref='paper',\n",
    "        yref='paper',\n",
    "        text='<b>Data source:</b> Neighbourhood<br>CrimeRatesfrom Toronto <br>Open Data Catalog <br>(https://open.toronto.ca/dataset <br>/neighbourhood-crime-rates/)',\n",
    "        align='left',\n",
    "        showarrow=False,\n",
    "        font=dict(size=14)\n",
    "                                            \n",
    "        )\n",
    ")\n",
    "\n",
    "fig.add_annotation(\n",
    "     dict(\n",
    "        x=1.36,\n",
    "        y=0.0,\n",
    "        xref='paper',\n",
    "        yref='paper',\n",
    "        text='<b>Designed by:</b> Ahmed Alhuraibi',\n",
    "        align='left',\n",
    "        showarrow=False,\n",
    "        font=dict(size=14)\n",
    "                                            \n",
    "        )\n",
    ")\n",
    "\n",
    "# updating the graph with icon and grid formating\n",
    "fig.update_layout(height=830, width=1000,legend_title_text='',title_font=dict(size=25) ,plot_bgcolor='White'\n",
    "                                        ,xaxis=dict(\n",
    "                                                 zeroline=True,  # Show zero line\n",
    "                                                zerolinecolor='lightsteelblue',  # Color of the zero line\n",
    "                                                zerolinewidth=2,  # Width of the zero line\n",
    "                                                range=[0, final_df['Count'].max() * 1.10],\n",
    "\n",
    "                                                     )\n",
    "                                        ,images=[\n",
    "                                                go.layout.Image(\n",
    "                                                    source=\"https://avatars.githubusercontent.com/u/105318370?s=200&v=4\",  # URL of the image\n",
    "                                                    xref=\"paper\",  # Positioning relative to the paper (canvas)\n",
    "                                                    yref=\"paper\",\n",
    "                                                    x=1.18,  # X position (left)\n",
    "                                                    y=1.13,  # Y position (top)\n",
    "                                                    sizex=0.18,  # Size of the image\n",
    "                                                    sizey=0.13,\n",
    "                                                    xanchor=\"left\",  # Anchor point for positioning\n",
    "                                                    yanchor=\"top\"\n",
    "                                                               )\n",
    "                                                ]\n",
    "                               \n",
    "                )\n",
    "\n",
    "# setting the grid line color and style\n",
    "fig.update_xaxes(gridcolor='lightsteelblue', griddash='dot', minor_griddash=\"dot\")\n",
    "fig.update_yaxes(gridcolor='lightsteelblue', griddash='dot', minor_griddash=\"dot\")\n",
    "\n",
    "# Exporting grapgh to HTML file\n",
    "\n",
    "fig.write_html(\"Ahmed_Alhuraibi_Assignment_4.html\")\n",
    "\n",
    "fig.show()\n"
   ]
  }
 ],
 "metadata": {
  "kernelspec": {
   "display_name": "Python 3",
   "language": "python",
   "name": "python3"
  },
  "language_info": {
   "codemirror_mode": {
    "name": "ipython",
    "version": 3
   },
   "file_extension": ".py",
   "mimetype": "text/x-python",
   "name": "python",
   "nbconvert_exporter": "python",
   "pygments_lexer": "ipython3",
   "version": "3.11.9"
  }
 },
 "nbformat": 4,
 "nbformat_minor": 2
}
